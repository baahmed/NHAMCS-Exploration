{
 "cells": [
  {
   "cell_type": "code",
   "execution_count": 1,
   "metadata": {},
   "outputs": [],
   "source": [
    "import pandas as pd\n",
    "from matplotlib import pyplot as plt\n",
    "import numpy as np\n",
    "import seaborn as sns"
   ]
  },
  {
   "cell_type": "code",
   "execution_count": 2,
   "metadata": {
    "colab": {
     "base_uri": "https://localhost:8080/",
     "height": 437
    },
    "colab_type": "code",
    "id": "KnXePibYHVfP",
    "outputId": "4ff5bb1e-c269-45d5-cbb6-4aec095760de"
   },
   "outputs": [],
   "source": [
    "NHAMCS = pd.read_sas(filepath_or_buffer = 'NHAMCS.sas7bdat')"
   ]
  },
  {
   "cell_type": "code",
   "execution_count": 3,
   "metadata": {
    "scrolled": true
   },
   "outputs": [
    {
     "data": {
      "text/html": [
       "<div>\n",
       "<style scoped>\n",
       "    .dataframe tbody tr th:only-of-type {\n",
       "        vertical-align: middle;\n",
       "    }\n",
       "\n",
       "    .dataframe tbody tr th {\n",
       "        vertical-align: top;\n",
       "    }\n",
       "\n",
       "    .dataframe thead th {\n",
       "        text-align: right;\n",
       "    }\n",
       "</style>\n",
       "<table border=\"1\" class=\"dataframe\">\n",
       "  <thead>\n",
       "    <tr style=\"text-align: right;\">\n",
       "      <th></th>\n",
       "      <th>VMONTH</th>\n",
       "      <th>VDAYR</th>\n",
       "      <th>ARRTIME</th>\n",
       "      <th>WAITTIME</th>\n",
       "      <th>BLANK1</th>\n",
       "      <th>AGE</th>\n",
       "      <th>AGER</th>\n",
       "      <th>AGEDAYS</th>\n",
       "      <th>RESIDNCE</th>\n",
       "      <th>SEX</th>\n",
       "      <th>...</th>\n",
       "      <th>RX30V3C1</th>\n",
       "      <th>RX30V3C2</th>\n",
       "      <th>RX30V3C3</th>\n",
       "      <th>RX30V3C4</th>\n",
       "      <th>SETTYPE</th>\n",
       "      <th>YEAR</th>\n",
       "      <th>CSTRATM</th>\n",
       "      <th>CPSUM</th>\n",
       "      <th>PATWT</th>\n",
       "      <th>EDWT</th>\n",
       "    </tr>\n",
       "  </thead>\n",
       "  <tbody>\n",
       "    <tr>\n",
       "      <td>0</td>\n",
       "      <td>6.0</td>\n",
       "      <td>6.0</td>\n",
       "      <td>b'2056'</td>\n",
       "      <td>72.0</td>\n",
       "      <td>NaN</td>\n",
       "      <td>27.0</td>\n",
       "      <td>3.0</td>\n",
       "      <td>-7.0</td>\n",
       "      <td>1.0</td>\n",
       "      <td>2.0</td>\n",
       "      <td>...</td>\n",
       "      <td>NaN</td>\n",
       "      <td>NaN</td>\n",
       "      <td>NaN</td>\n",
       "      <td>NaN</td>\n",
       "      <td>3.0</td>\n",
       "      <td>2017.0</td>\n",
       "      <td>40100000.0</td>\n",
       "      <td>4.0</td>\n",
       "      <td>3723.12641</td>\n",
       "      <td>21.58043</td>\n",
       "    </tr>\n",
       "    <tr>\n",
       "      <td>1</td>\n",
       "      <td>6.0</td>\n",
       "      <td>2.0</td>\n",
       "      <td>b'1417'</td>\n",
       "      <td>64.0</td>\n",
       "      <td>NaN</td>\n",
       "      <td>1.0</td>\n",
       "      <td>1.0</td>\n",
       "      <td>-7.0</td>\n",
       "      <td>1.0</td>\n",
       "      <td>1.0</td>\n",
       "      <td>...</td>\n",
       "      <td>NaN</td>\n",
       "      <td>NaN</td>\n",
       "      <td>NaN</td>\n",
       "      <td>NaN</td>\n",
       "      <td>3.0</td>\n",
       "      <td>2017.0</td>\n",
       "      <td>40100000.0</td>\n",
       "      <td>4.0</td>\n",
       "      <td>3723.12641</td>\n",
       "      <td>NaN</td>\n",
       "    </tr>\n",
       "    <tr>\n",
       "      <td>2</td>\n",
       "      <td>6.0</td>\n",
       "      <td>2.0</td>\n",
       "      <td>b'2303'</td>\n",
       "      <td>-7.0</td>\n",
       "      <td>NaN</td>\n",
       "      <td>52.0</td>\n",
       "      <td>4.0</td>\n",
       "      <td>-7.0</td>\n",
       "      <td>1.0</td>\n",
       "      <td>2.0</td>\n",
       "      <td>...</td>\n",
       "      <td>NaN</td>\n",
       "      <td>NaN</td>\n",
       "      <td>NaN</td>\n",
       "      <td>NaN</td>\n",
       "      <td>3.0</td>\n",
       "      <td>2017.0</td>\n",
       "      <td>40100000.0</td>\n",
       "      <td>4.0</td>\n",
       "      <td>3723.12641</td>\n",
       "      <td>NaN</td>\n",
       "    </tr>\n",
       "    <tr>\n",
       "      <td>3</td>\n",
       "      <td>6.0</td>\n",
       "      <td>5.0</td>\n",
       "      <td>b'0930'</td>\n",
       "      <td>29.0</td>\n",
       "      <td>NaN</td>\n",
       "      <td>5.0</td>\n",
       "      <td>1.0</td>\n",
       "      <td>-7.0</td>\n",
       "      <td>1.0</td>\n",
       "      <td>2.0</td>\n",
       "      <td>...</td>\n",
       "      <td>NaN</td>\n",
       "      <td>NaN</td>\n",
       "      <td>NaN</td>\n",
       "      <td>NaN</td>\n",
       "      <td>3.0</td>\n",
       "      <td>2017.0</td>\n",
       "      <td>40100000.0</td>\n",
       "      <td>4.0</td>\n",
       "      <td>3723.12641</td>\n",
       "      <td>NaN</td>\n",
       "    </tr>\n",
       "    <tr>\n",
       "      <td>4</td>\n",
       "      <td>6.0</td>\n",
       "      <td>2.0</td>\n",
       "      <td>b'1332'</td>\n",
       "      <td>20.0</td>\n",
       "      <td>NaN</td>\n",
       "      <td>4.0</td>\n",
       "      <td>1.0</td>\n",
       "      <td>-7.0</td>\n",
       "      <td>1.0</td>\n",
       "      <td>1.0</td>\n",
       "      <td>...</td>\n",
       "      <td>NaN</td>\n",
       "      <td>NaN</td>\n",
       "      <td>NaN</td>\n",
       "      <td>NaN</td>\n",
       "      <td>3.0</td>\n",
       "      <td>2017.0</td>\n",
       "      <td>40100000.0</td>\n",
       "      <td>4.0</td>\n",
       "      <td>3723.12641</td>\n",
       "      <td>NaN</td>\n",
       "    </tr>\n",
       "  </tbody>\n",
       "</table>\n",
       "<p>5 rows × 949 columns</p>\n",
       "</div>"
      ],
      "text/plain": [
       "   VMONTH  VDAYR  ARRTIME  WAITTIME  BLANK1   AGE  AGER  AGEDAYS  RESIDNCE  \\\n",
       "0     6.0    6.0  b'2056'      72.0     NaN  27.0   3.0     -7.0       1.0   \n",
       "1     6.0    2.0  b'1417'      64.0     NaN   1.0   1.0     -7.0       1.0   \n",
       "2     6.0    2.0  b'2303'      -7.0     NaN  52.0   4.0     -7.0       1.0   \n",
       "3     6.0    5.0  b'0930'      29.0     NaN   5.0   1.0     -7.0       1.0   \n",
       "4     6.0    2.0  b'1332'      20.0     NaN   4.0   1.0     -7.0       1.0   \n",
       "\n",
       "   SEX  ...  RX30V3C1  RX30V3C2  RX30V3C3  RX30V3C4  SETTYPE    YEAR  \\\n",
       "0  2.0  ...       NaN       NaN       NaN       NaN      3.0  2017.0   \n",
       "1  1.0  ...       NaN       NaN       NaN       NaN      3.0  2017.0   \n",
       "2  2.0  ...       NaN       NaN       NaN       NaN      3.0  2017.0   \n",
       "3  2.0  ...       NaN       NaN       NaN       NaN      3.0  2017.0   \n",
       "4  1.0  ...       NaN       NaN       NaN       NaN      3.0  2017.0   \n",
       "\n",
       "      CSTRATM  CPSUM       PATWT      EDWT  \n",
       "0  40100000.0    4.0  3723.12641  21.58043  \n",
       "1  40100000.0    4.0  3723.12641       NaN  \n",
       "2  40100000.0    4.0  3723.12641       NaN  \n",
       "3  40100000.0    4.0  3723.12641       NaN  \n",
       "4  40100000.0    4.0  3723.12641       NaN  \n",
       "\n",
       "[5 rows x 949 columns]"
      ]
     },
     "execution_count": 3,
     "metadata": {},
     "output_type": "execute_result"
    }
   ],
   "source": [
    "NHAMCS.head()"
   ]
  },
  {
   "cell_type": "code",
   "execution_count": 4,
   "metadata": {},
   "outputs": [
    {
     "data": {
      "text/plain": [
       "(16709, 949)"
      ]
     },
     "execution_count": 4,
     "metadata": {},
     "output_type": "execute_result"
    }
   ],
   "source": [
    "NHAMCS.shape"
   ]
  },
  {
   "cell_type": "markdown",
   "metadata": {},
   "source": [
    "### NaNs Exploration"
   ]
  },
  {
   "cell_type": "markdown",
   "metadata": {},
   "source": [
    ">In this subsection of the data quality section, we explore the following:\n",
    "- how many NaNs are there?\n",
    "- how can we visualize them?\n",
    "- what could be the reasons for these NaNs?\n",
    "- further steps to be taken for data quality remarks."
   ]
  },
  {
   "cell_type": "markdown",
   "metadata": {},
   "source": [
    "### How many NaNs are there?"
   ]
  },
  {
   "cell_type": "markdown",
   "metadata": {},
   "source": [
    "Count the number of NaNs Across all columns."
   ]
  },
  {
   "cell_type": "code",
   "execution_count": 36,
   "metadata": {},
   "outputs": [],
   "source": [
    "nans = NHAMCS.isnull().sum()"
   ]
  },
  {
   "cell_type": "markdown",
   "metadata": {},
   "source": [
    "Order the series descendingly to be able to see those features with the most NaNs. These will most likely be eliminated from the dataset."
   ]
  },
  {
   "cell_type": "code",
   "execution_count": 37,
   "metadata": {},
   "outputs": [],
   "source": [
    "nans.sort_values(ascending = False, inplace = True)"
   ]
  },
  {
   "cell_type": "markdown",
   "metadata": {},
   "source": [
    "Make sure all the features are captured."
   ]
  },
  {
   "cell_type": "code",
   "execution_count": 7,
   "metadata": {},
   "outputs": [
    {
     "data": {
      "text/plain": [
       "949"
      ]
     },
     "execution_count": 7,
     "metadata": {},
     "output_type": "execute_result"
    }
   ],
   "source": [
    "nans.count() "
   ]
  },
  {
   "cell_type": "markdown",
   "metadata": {},
   "source": [
    "Let's have a quick look..."
   ]
  },
  {
   "cell_type": "code",
   "execution_count": 38,
   "metadata": {
    "scrolled": true
   },
   "outputs": [
    {
     "data": {
      "text/plain": [
       "RX19V1C4    16709\n",
       "RX25V1C3    16709\n",
       "RX25CAT3    16709\n",
       "RX24V3C4    16709\n",
       "RX24V3C3    16709\n",
       "            ...  \n",
       "RETRNED         0\n",
       "RETREFFU        0\n",
       "LWBS            0\n",
       "LBTC            0\n",
       "VMONTH          0\n",
       "Length: 949, dtype: int64"
      ]
     },
     "execution_count": 38,
     "metadata": {},
     "output_type": "execute_result"
    }
   ],
   "source": [
    "nans "
   ]
  },
  {
   "cell_type": "markdown",
   "metadata": {},
   "source": [
    "We see that the first entries seem to have ALL NaNs! How prevalent is this? Let's see."
   ]
  },
  {
   "cell_type": "code",
   "execution_count": 10,
   "metadata": {},
   "outputs": [],
   "source": [
    "nans_max = nans[nans >= int(0.99*16709)]"
   ]
  },
  {
   "cell_type": "code",
   "execution_count": 11,
   "metadata": {},
   "outputs": [
    {
     "data": {
      "text/plain": [
       "448"
      ]
     },
     "execution_count": 11,
     "metadata": {},
     "output_type": "execute_result"
    }
   ],
   "source": [
    "nans_max.count()"
   ]
  },
  {
   "cell_type": "code",
   "execution_count": 56,
   "metadata": {},
   "outputs": [
    {
     "data": {
      "text/plain": [
       "0.4720758693361433"
      ]
     },
     "execution_count": 56,
     "metadata": {},
     "output_type": "execute_result"
    }
   ],
   "source": [
    "448/949"
   ]
  },
  {
   "cell_type": "markdown",
   "metadata": {},
   "source": [
    "47% of the features are almost all NaNs! Let's continue to investigate different % of missing values. We exclude the ones with almost all NaNs."
   ]
  },
  {
   "cell_type": "code",
   "execution_count": 52,
   "metadata": {},
   "outputs": [],
   "source": [
    "nans_no_max = nans[nans < int(0.99*16709)]"
   ]
  },
  {
   "cell_type": "code",
   "execution_count": 53,
   "metadata": {},
   "outputs": [],
   "source": [
    "nans_90 = nans_no_max[nans_no_max >= int((0.90*16709))]"
   ]
  },
  {
   "cell_type": "code",
   "execution_count": 61,
   "metadata": {},
   "outputs": [
    {
     "name": "stdout",
     "output_type": "stream",
     "text": [
      "104\n",
      "552 features have 90% NaNs. That is 58.16649104320337 of the features. 501 of 949 features have less than 90% NaN.\n"
     ]
    }
   ],
   "source": [
    "print(nans_90.count())\n",
    "print(104+448, 'features have 90%+ NaNs. That is', 552/949 *100, 'of the features.', 949-448, 'of 949 features have less than 90% NaN.')"
   ]
  },
  {
   "cell_type": "markdown",
   "metadata": {},
   "source": [
    "What about those with 70% NaNs? (excluding the ones with 90%+ NaNs)"
   ]
  },
  {
   "cell_type": "code",
   "execution_count": 64,
   "metadata": {},
   "outputs": [
    {
     "name": "stdout",
     "output_type": "stream",
     "text": [
      "686 features have 70%+ NaNs. That is 72.28661749209695 of the features. 263 of 949 features have less than 70%+ NaNs.\n"
     ]
    }
   ],
   "source": [
    "nans_70 = nans_no_max[nans_no_max > int((0.7*16709))]\n",
    "nans_70.count()\n",
    "print(134+552,'features have 70%+ NaNs. That is', 686/949*100,'of the features.',949-686, 'of 949 features have less than 70%+ NaNs.' )"
   ]
  },
  {
   "cell_type": "markdown",
   "metadata": {},
   "source": [
    "Some interesting findings. Let's visualize the NaN trend, descendingly."
   ]
  },
  {
   "cell_type": "markdown",
   "metadata": {},
   "source": [
    "### NaNs Trend Visualization"
   ]
  },
  {
   "cell_type": "code",
   "execution_count": 22,
   "metadata": {},
   "outputs": [
    {
     "data": {
      "image/png": "[encoded data removed]",
      "text/plain": [
       "<Figure size 720x720 with 1 Axes>"
      ]
     },
     "metadata": {
      "needs_background": "light"
     },
     "output_type": "display_data"
    }
   ],
   "source": [
    "nans.plot(kind = 'bar', figsize = (10,10), title = 'Number of NaNs per Column', xticks = []);"
   ]
  },
  {
   "cell_type": "markdown",
   "metadata": {},
   "source": [
    "### Why is so much data unavailable?\n",
    "\n",
    ">From the plot, it seems like we have approximately 550 features whose missing values exceed 80%. Looking at the dataset, this is not exactly surprising. There are four mains reasons. \n",
    "\n",
    "#### 1. Information that could have concisely been represented is represented in multiple variables.\n",
    "\n",
    "\n",
    ">##### EXAMPLE: Payment method. We could use feature engineering to just represent what the source of payment was.\n",
    "><ol>\n",
    "    <li>PAYPRIV = \"Expected source(s) of payment for this visit: Private insurance\"</li>\n",
    "    <li>PAYMCARE =\"Expected source(s) of payment for this visit: Medicare\"</li>\n",
    "    <li>PAYMCAID = \"Expected source(s) of payment for this visit: Medicaid or CHIP or other state-based program\"</li>\n",
    "    <li>PAYWKCMP = \"Expected source(s) of payment for this visit: Workers' compensation\"</li>\n",
    "    <li>PAYSELF = \"Expected source(s) of payment for this visit: Self pay\"</li>\n",
    "    <li>PAYNOCHG = \"Expected source(s) of payment for this visit: No charge/Charity\"</li>\n",
    "    <li>PAYOTH = \"Expected source(s) of payment for this visit: Other\"</li>\n",
    "    <li>PAYDK = \"Expected source(s) of payment for this visit: Unknown\"</li>\n",
    "    <li>PAYTYPER = \"Recoded primary expected source of payment for this visit (based on hierarchy)\"</li>\n",
    "</ol>\n",
    "\n",
    "\n",
    "#### 2. Some features, collectively, are a \"list\" for the same piece of information.\n",
    "\n",
    "\n",
    ">##### EXAMPLE: Paitent's medications. Not all pateints are prescribed 30 medicines.\n",
    "><ol>\n",
    "    <li>MED1=\"Medication #1\"</li>\n",
    "    <li>MED2=\"Medication #2\"</li>\n",
    "    <li>MED3=\"Medication #3\"</li>\n",
    "    <li>MED4=\"Medication #4\"</li>\n",
    "    <li>...</li>\n",
    "    <li>MED27=\"Medication #27\"</li>\n",
    "    <li>MED28=\"Medication #28\"</li>\n",
    "    <li>MED29=\"Medication #29\"</li>\n",
    "    <li>MED30=\"Medication #30\"</li>\n",
    "</ol>\n",
    "\n",
    "#### 3. With or without reason 2, a collection of features represent a level of detail for the same information.\n",
    "\n",
    ">##### EXAMPLE: Paitent's complaints. Along with the listing, there is a \"level of detail\" to the complaint.\n",
    "><ol>\n",
    "    <li>RFV1 = \"Patient's complaint, symptom, or other reason for visit #1 - detailed category\"</li>\n",
    "    <li>RFV1 = \"Patient's complaint, symptom, or other reason for visit #2 - detailed category\"</li>\n",
    "    <li>RFV1 = \"Patient's complaint, symptom, or other reason for visit #3 - detailed category\"</li>\n",
    "    <li>RFV1 = \"Patient's complaint, symptom, or other reason for visit #4 - detailed category\"</li>\n",
    "    <li>RFV1 = \"Patient's complaint, symptom, or other reason for visit #5 - detailed category\"</li>\n",
    "    <li>...</li>\n",
    "    <li>RFV13D = \"Patient's complaint, symptom, or other reason for visit #1 - detailed category\"</li>\n",
    "    <li>RFV13D = \"Patient's complaint, symptom, or other reason for visit #2 - detailed category\"</li>\n",
    "    <li>RFV13D = \"Patient's complaint, symptom, or other reason for visit #3 - detailed category\"</li>\n",
    "    <li>RFV13D = \"Patient's complaint, symptom, or other reason for visit #4 - detailed category\"</li>\n",
    "    <li>RFV13D = \"Patient's complaint, symptom, or other reason for visit #5 - detailed category\"</li>\n",
    "</ol>\n",
    "\n",
    "\n",
    "#### 4. There are features that are reserved for only special pateints. \n",
    "\n",
    ">##### EXAMPLE: 'AGEDAYS' - age days for babies. This could be missing for the rest of the sample.\n",
    "><ol>\n",
    "    <li>AGE=\"Patient age in years\"</li>\n",
    "    <li>AGER=\"Age recode\"</li>\n",
    "    <li>AGEDAYS=\"Age in days for patients less than one year\"</li>\n",
    "</ol>\n",
    "\n",
    "\n",
    "\n",
    "\n",
    "#### What are some key takeaways from these observations?\n",
    "\n",
    "- All the reasons portray how well-suited this dataset is for a myriad of specific use cases and research, albeit with challenging and elongated data cleaning procedures. \n",
    "\n",
    "- Reasons 1 to 3 Feature engineering may also be used extensively to extract the essence of the required data for the problem at hand.\n",
    "\n",
    "- Reason 4 unleashes an extremely important fact: Do not assume that, if 95% of a column's values are missing, that we could safely drop it. It might be catered for a specific use case and hence missing for the majority. For example, if the use case is to study which diseases result in ER visits for babies the most, although this feature could be mostly missing, it is actually important and the missing % is misleading.\n",
    "\n",
    "- All reasons show us that we might not necessarily need to drop a column with high % of NaNs. From the special features of the available subset along with some domain research, we might be able to replace the missing data accurately."
   ]
  },
  {
   "cell_type": "markdown",
   "metadata": {},
   "source": [
    "### Further Comments and Prospective Steps"
   ]
  },
  {
   "cell_type": "markdown",
   "metadata": {},
   "source": [
    "#### Missing Values Further Steps\n",
    "- Investigate for also these values: [-9, -8, -7, 0]. -9 always means missing values, so we deal with that as such. However, -8 means \"unknown\" and -7 means \"N/A\". 0 may also mean \"blank.\" For features extracted, according to the nature of each feature, we must decide what to do with entries with those values. Some examples include the below.\n",
    "\n",
    "\t\t\n",
    ">**1. VALUE RESIDF**<br>\n",
    "  >  -9='Blank'<br>\n",
    "   > -8='Unknown'<br>\n",
    "\t1='Private residence'<br>\n",
    "\t2='Nursing home'<br>\n",
    "\t3='Homeless/homeless shelter'<br>\n",
    "\t4='Other'<br>\n",
    "    \n",
    ">**2. VALUE WAITTIMEF**<br>\n",
    "    -9 ='Blank'<br>\n",
    "    -7 ='Not Applicable'<br>\n",
    "    \n",
    ">**3. VALUE PAYTYPERF**<br>\n",
    "      -9 ='All sources of payment are blank'<br>\n",
    "      -8 ='Unknown'<br>\n",
    "       1 ='Private insurance'<br>\n",
    "       2 ='Medicare'<br>\n",
    "       3 ='Medicaid or CHIP or other state-based program'<br>\n",
    "       4 =\"Worker's compensation\"<br>\n",
    "       5 ='Self-pay'<br>\n",
    "       6 ='No charge/Charity'<br>\n",
    "       7 ='Other'   <br>\n",
    " \n",
    "\n",
    "\n",
    "<br>\n",
    "\n",
    "\n",
    "- for the extracted features, based on the problem domain, available data %, and relationships with other features, how can we best replace those missing values? Extensive research is needed.\n",
    "\n",
    "\n",
    "#### Data Quality Concerns For Further Investigation\n",
    "- are the values consistent?\n",
    "- are the types suitable?\n",
    "- is te data too granular or too specific for a use case?\n",
    "- is the data comprehensive for a use case?\n",
    "- invesigate the data collection time and determine its relevance for today.\n",
    "- is the data precise?\n",
    "- are the features selected complete?\n",
    "\n"
   ]
  },
  {
   "cell_type": "code",
   "execution_count": null,
   "metadata": {},
   "outputs": [],
   "source": []
  }
 ],
 "metadata": {
  "colab": {
   "collapsed_sections": [],
   "name": "NHAMCS.ipynb",
   "provenance": []
  },
  "kernelspec": {
   "display_name": "Python 3",
   "language": "python",
   "name": "python3"
  },
  "language_info": {
   "codemirror_mode": {
    "name": "ipython",
    "version": 3
   },
   "file_extension": ".py",
   "mimetype": "text/x-python",
   "name": "python",
   "nbconvert_exporter": "python",
   "pygments_lexer": "ipython3",
   "version": "3.7.4"
  }
 },
 "nbformat": 4,
 "nbformat_minor": 1
}
