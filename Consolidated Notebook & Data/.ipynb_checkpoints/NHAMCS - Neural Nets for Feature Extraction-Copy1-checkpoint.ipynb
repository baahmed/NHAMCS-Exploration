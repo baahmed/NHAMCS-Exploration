{
 "cells": [
  {
   "cell_type": "markdown",
   "metadata": {},
   "source": [
    "# Neural Networks For Feature Selection"
   ]
  },
  {
   "cell_type": "markdown",
   "metadata": {},
   "source": [
    "methodology\n",
    ">implement pattern-matching algorithm to group data by same piece of information <br>\n",
    ">see what features to engineer<br>\n",
    ">What features do we need for the immediacy label?<br>\n",
    ">See how to deal with those missing values<br>\n",
    ">feed 5 features at a time to neural network. See the accuracy.<br>"
   ]
  },
  {
   "cell_type": "markdown",
   "metadata": {},
   "source": [
    "### Target Feature & Its Meaning"
   ]
  },
  {
   "cell_type": "markdown",
   "metadata": {},
   "source": [
    "IMMEDR=\"Immediacy with which patient should be seen (unimputed)\" => missing values not replaced.\n",
    "\n",
    "-    -9='Blank'\n",
    "-    -8='Unknown'\n",
    "-    0='No triage for this visit but ESA does conduct triage'\n",
    "-\t1='Immediate'\n",
    "-\t2='Emergent'\n",
    "-\t3='Urgent'\n",
    "-\t4='Semi-urgent'\n",
    "-\t5='Nonurgent'\n",
    "-\t7='Visit occurred in ESA that does not conduct nursing triage'"
   ]
  },
  {
   "cell_type": "code",
   "execution_count": 1,
   "metadata": {},
   "outputs": [],
   "source": [
    "import pandas as pd\n",
    "from matplotlib import pyplot as plt\n",
    "import numpy as np\n",
    "import seaborn as sns"
   ]
  },
  {
   "cell_type": "code",
   "execution_count": 2,
   "metadata": {
    "colab": {
     "base_uri": "https://localhost:8080/",
     "height": 437
    },
    "colab_type": "code",
    "id": "KnXePibYHVfP",
    "outputId": "4ff5bb1e-c269-45d5-cbb6-4aec095760de"
   },
   "outputs": [],
   "source": [
    "NHAMCS = pd.read_sas(filepath_or_buffer = 'NHAMCS.sas7bdat')"
   ]
  },
  {
   "cell_type": "code",
   "execution_count": 3,
   "metadata": {
    "scrolled": true
   },
   "outputs": [
    {
     "data": {
      "text/html": [
       "<div>\n",
       "<style scoped>\n",
       "    .dataframe tbody tr th:only-of-type {\n",
       "        vertical-align: middle;\n",
       "    }\n",
       "\n",
       "    .dataframe tbody tr th {\n",
       "        vertical-align: top;\n",
       "    }\n",
       "\n",
       "    .dataframe thead th {\n",
       "        text-align: right;\n",
       "    }\n",
       "</style>\n",
       "<table border=\"1\" class=\"dataframe\">\n",
       "  <thead>\n",
       "    <tr style=\"text-align: right;\">\n",
       "      <th></th>\n",
       "      <th>VMONTH</th>\n",
       "      <th>VDAYR</th>\n",
       "      <th>ARRTIME</th>\n",
       "      <th>WAITTIME</th>\n",
       "      <th>BLANK1</th>\n",
       "      <th>AGE</th>\n",
       "      <th>AGER</th>\n",
       "      <th>AGEDAYS</th>\n",
       "      <th>RESIDNCE</th>\n",
       "      <th>SEX</th>\n",
       "      <th>...</th>\n",
       "      <th>RX30V3C1</th>\n",
       "      <th>RX30V3C2</th>\n",
       "      <th>RX30V3C3</th>\n",
       "      <th>RX30V3C4</th>\n",
       "      <th>SETTYPE</th>\n",
       "      <th>YEAR</th>\n",
       "      <th>CSTRATM</th>\n",
       "      <th>CPSUM</th>\n",
       "      <th>PATWT</th>\n",
       "      <th>EDWT</th>\n",
       "    </tr>\n",
       "  </thead>\n",
       "  <tbody>\n",
       "    <tr>\n",
       "      <td>0</td>\n",
       "      <td>6.0</td>\n",
       "      <td>6.0</td>\n",
       "      <td>b'2056'</td>\n",
       "      <td>72.0</td>\n",
       "      <td>NaN</td>\n",
       "      <td>27.0</td>\n",
       "      <td>3.0</td>\n",
       "      <td>-7.0</td>\n",
       "      <td>1.0</td>\n",
       "      <td>2.0</td>\n",
       "      <td>...</td>\n",
       "      <td>NaN</td>\n",
       "      <td>NaN</td>\n",
       "      <td>NaN</td>\n",
       "      <td>NaN</td>\n",
       "      <td>3.0</td>\n",
       "      <td>2017.0</td>\n",
       "      <td>40100000.0</td>\n",
       "      <td>4.0</td>\n",
       "      <td>3723.12641</td>\n",
       "      <td>21.58043</td>\n",
       "    </tr>\n",
       "    <tr>\n",
       "      <td>1</td>\n",
       "      <td>6.0</td>\n",
       "      <td>2.0</td>\n",
       "      <td>b'1417'</td>\n",
       "      <td>64.0</td>\n",
       "      <td>NaN</td>\n",
       "      <td>1.0</td>\n",
       "      <td>1.0</td>\n",
       "      <td>-7.0</td>\n",
       "      <td>1.0</td>\n",
       "      <td>1.0</td>\n",
       "      <td>...</td>\n",
       "      <td>NaN</td>\n",
       "      <td>NaN</td>\n",
       "      <td>NaN</td>\n",
       "      <td>NaN</td>\n",
       "      <td>3.0</td>\n",
       "      <td>2017.0</td>\n",
       "      <td>40100000.0</td>\n",
       "      <td>4.0</td>\n",
       "      <td>3723.12641</td>\n",
       "      <td>NaN</td>\n",
       "    </tr>\n",
       "    <tr>\n",
       "      <td>2</td>\n",
       "      <td>6.0</td>\n",
       "      <td>2.0</td>\n",
       "      <td>b'2303'</td>\n",
       "      <td>-7.0</td>\n",
       "      <td>NaN</td>\n",
       "      <td>52.0</td>\n",
       "      <td>4.0</td>\n",
       "      <td>-7.0</td>\n",
       "      <td>1.0</td>\n",
       "      <td>2.0</td>\n",
       "      <td>...</td>\n",
       "      <td>NaN</td>\n",
       "      <td>NaN</td>\n",
       "      <td>NaN</td>\n",
       "      <td>NaN</td>\n",
       "      <td>3.0</td>\n",
       "      <td>2017.0</td>\n",
       "      <td>40100000.0</td>\n",
       "      <td>4.0</td>\n",
       "      <td>3723.12641</td>\n",
       "      <td>NaN</td>\n",
       "    </tr>\n",
       "    <tr>\n",
       "      <td>3</td>\n",
       "      <td>6.0</td>\n",
       "      <td>5.0</td>\n",
       "      <td>b'0930'</td>\n",
       "      <td>29.0</td>\n",
       "      <td>NaN</td>\n",
       "      <td>5.0</td>\n",
       "      <td>1.0</td>\n",
       "      <td>-7.0</td>\n",
       "      <td>1.0</td>\n",
       "      <td>2.0</td>\n",
       "      <td>...</td>\n",
       "      <td>NaN</td>\n",
       "      <td>NaN</td>\n",
       "      <td>NaN</td>\n",
       "      <td>NaN</td>\n",
       "      <td>3.0</td>\n",
       "      <td>2017.0</td>\n",
       "      <td>40100000.0</td>\n",
       "      <td>4.0</td>\n",
       "      <td>3723.12641</td>\n",
       "      <td>NaN</td>\n",
       "    </tr>\n",
       "    <tr>\n",
       "      <td>4</td>\n",
       "      <td>6.0</td>\n",
       "      <td>2.0</td>\n",
       "      <td>b'1332'</td>\n",
       "      <td>20.0</td>\n",
       "      <td>NaN</td>\n",
       "      <td>4.0</td>\n",
       "      <td>1.0</td>\n",
       "      <td>-7.0</td>\n",
       "      <td>1.0</td>\n",
       "      <td>1.0</td>\n",
       "      <td>...</td>\n",
       "      <td>NaN</td>\n",
       "      <td>NaN</td>\n",
       "      <td>NaN</td>\n",
       "      <td>NaN</td>\n",
       "      <td>3.0</td>\n",
       "      <td>2017.0</td>\n",
       "      <td>40100000.0</td>\n",
       "      <td>4.0</td>\n",
       "      <td>3723.12641</td>\n",
       "      <td>NaN</td>\n",
       "    </tr>\n",
       "  </tbody>\n",
       "</table>\n",
       "<p>5 rows × 949 columns</p>\n",
       "</div>"
      ],
      "text/plain": [
       "   VMONTH  VDAYR  ARRTIME  WAITTIME  BLANK1   AGE  AGER  AGEDAYS  RESIDNCE  \\\n",
       "0     6.0    6.0  b'2056'      72.0     NaN  27.0   3.0     -7.0       1.0   \n",
       "1     6.0    2.0  b'1417'      64.0     NaN   1.0   1.0     -7.0       1.0   \n",
       "2     6.0    2.0  b'2303'      -7.0     NaN  52.0   4.0     -7.0       1.0   \n",
       "3     6.0    5.0  b'0930'      29.0     NaN   5.0   1.0     -7.0       1.0   \n",
       "4     6.0    2.0  b'1332'      20.0     NaN   4.0   1.0     -7.0       1.0   \n",
       "\n",
       "   SEX  ...  RX30V3C1  RX30V3C2  RX30V3C3  RX30V3C4  SETTYPE    YEAR  \\\n",
       "0  2.0  ...       NaN       NaN       NaN       NaN      3.0  2017.0   \n",
       "1  1.0  ...       NaN       NaN       NaN       NaN      3.0  2017.0   \n",
       "2  2.0  ...       NaN       NaN       NaN       NaN      3.0  2017.0   \n",
       "3  2.0  ...       NaN       NaN       NaN       NaN      3.0  2017.0   \n",
       "4  1.0  ...       NaN       NaN       NaN       NaN      3.0  2017.0   \n",
       "\n",
       "      CSTRATM  CPSUM       PATWT      EDWT  \n",
       "0  40100000.0    4.0  3723.12641  21.58043  \n",
       "1  40100000.0    4.0  3723.12641       NaN  \n",
       "2  40100000.0    4.0  3723.12641       NaN  \n",
       "3  40100000.0    4.0  3723.12641       NaN  \n",
       "4  40100000.0    4.0  3723.12641       NaN  \n",
       "\n",
       "[5 rows x 949 columns]"
      ]
     },
     "execution_count": 3,
     "metadata": {},
     "output_type": "execute_result"
    }
   ],
   "source": [
    "NHAMCS.head()"
   ]
  },
  {
   "cell_type": "code",
   "execution_count": 4,
   "metadata": {},
   "outputs": [
    {
     "data": {
      "text/plain": [
       "(16709, 949)"
      ]
     },
     "execution_count": 4,
     "metadata": {},
     "output_type": "execute_result"
    }
   ],
   "source": [
    "NHAMCS.shape"
   ]
  },
  {
   "cell_type": "markdown",
   "metadata": {},
   "source": [
    "### NaNs Exploration"
   ]
  },
  {
   "cell_type": "markdown",
   "metadata": {},
   "source": [
    ">In this subsection of the data quality section, we explore the following:\n",
    "- how many NaNs are there?\n",
    "- how can we visualize them?\n",
    "- what could be the reasons for these NaNs?\n",
    "- further steps to be taken for data quality remarks."
   ]
  },
  {
   "cell_type": "markdown",
   "metadata": {},
   "source": [
    "### How many NaNs are there?"
   ]
  },
  {
   "cell_type": "markdown",
   "metadata": {},
   "source": [
    "Count the number of NaNs Across all columns."
   ]
  },
  {
   "cell_type": "code",
   "execution_count": 5,
   "metadata": {},
   "outputs": [],
   "source": [
    "nans = NHAMCS.isnull().sum()"
   ]
  },
  {
   "cell_type": "markdown",
   "metadata": {},
   "source": [
    "Order the series descendingly to be able to see those features with the most NaNs. These will most likely be eliminated from the dataset."
   ]
  },
  {
   "cell_type": "code",
   "execution_count": 6,
   "metadata": {},
   "outputs": [],
   "source": [
    "nans.sort_values(ascending = False, inplace = True)"
   ]
  },
  {
   "cell_type": "markdown",
   "metadata": {},
   "source": [
    "Make sure all the features are captured."
   ]
  },
  {
   "cell_type": "code",
   "execution_count": 7,
   "metadata": {},
   "outputs": [
    {
     "data": {
      "text/plain": [
       "949"
      ]
     },
     "execution_count": 7,
     "metadata": {},
     "output_type": "execute_result"
    }
   ],
   "source": [
    "nans.count() "
   ]
  },
  {
   "cell_type": "markdown",
   "metadata": {},
   "source": [
    "Let's have a quick look..."
   ]
  },
  {
   "cell_type": "code",
   "execution_count": 8,
   "metadata": {
    "scrolled": true
   },
   "outputs": [
    {
     "data": {
      "text/plain": [
       "RX19V1C4    16709\n",
       "RX25V1C3    16709\n",
       "RX25CAT3    16709\n",
       "RX24V3C4    16709\n",
       "RX24V3C3    16709\n",
       "            ...  \n",
       "RETRNED         0\n",
       "RETREFFU        0\n",
       "LWBS            0\n",
       "LBTC            0\n",
       "VMONTH          0\n",
       "Length: 949, dtype: int64"
      ]
     },
     "execution_count": 8,
     "metadata": {},
     "output_type": "execute_result"
    }
   ],
   "source": [
    "nans "
   ]
  },
  {
   "cell_type": "markdown",
   "metadata": {},
   "source": [
    "We see that the first entries seem to have ALL NaNs! How prevalent is this? Let's see."
   ]
  },
  {
   "cell_type": "code",
   "execution_count": 9,
   "metadata": {},
   "outputs": [],
   "source": [
    "nans_max = nans[nans >= int(0.99*16709)]"
   ]
  },
  {
   "cell_type": "code",
   "execution_count": 10,
   "metadata": {},
   "outputs": [
    {
     "data": {
      "text/plain": [
       "448"
      ]
     },
     "execution_count": 10,
     "metadata": {},
     "output_type": "execute_result"
    }
   ],
   "source": [
    "nans_max.count()"
   ]
  },
  {
   "cell_type": "code",
   "execution_count": 11,
   "metadata": {},
   "outputs": [
    {
     "data": {
      "text/plain": [
       "0.4720758693361433"
      ]
     },
     "execution_count": 11,
     "metadata": {},
     "output_type": "execute_result"
    }
   ],
   "source": [
    "448/949"
   ]
  },
  {
   "cell_type": "markdown",
   "metadata": {},
   "source": [
    "47% of the features are almost all NaNs! Let's continue to investigate different % of missing values. We exclude the ones with almost all NaNs."
   ]
  },
  {
   "cell_type": "code",
   "execution_count": 12,
   "metadata": {},
   "outputs": [],
   "source": [
    "nans_no_max = nans[nans < int(0.99*16709)]"
   ]
  },
  {
   "cell_type": "code",
   "execution_count": 13,
   "metadata": {},
   "outputs": [],
   "source": [
    "nans_90 = nans_no_max[nans_no_max >= int((0.90*16709))]"
   ]
  },
  {
   "cell_type": "code",
   "execution_count": 14,
   "metadata": {},
   "outputs": [
    {
     "name": "stdout",
     "output_type": "stream",
     "text": [
      "104\n",
      "552 features have 90%+ NaNs. That is 58.16649104320337 of the features. 501 of 949 features have less than 90% NaN.\n"
     ]
    }
   ],
   "source": [
    "print(nans_90.count())\n",
    "print(104+448, 'features have 90%+ NaNs. That is', 552/949 *100, 'of the features.', 949-448, 'of 949 features have less than 90% NaN.')"
   ]
  },
  {
   "cell_type": "markdown",
   "metadata": {},
   "source": [
    "What about those with 70% NaNs? (excluding the ones with 90%+ NaNs)"
   ]
  },
  {
   "cell_type": "code",
   "execution_count": 15,
   "metadata": {},
   "outputs": [
    {
     "name": "stdout",
     "output_type": "stream",
     "text": [
      "686 features have 70%+ NaNs. That is 72.28661749209695 of the features. 263 of 949 features have less than 70%+ NaNs.\n"
     ]
    }
   ],
   "source": [
    "nans_70 = nans_no_max[nans_no_max > int((0.7*16709))]\n",
    "nans_70.count()\n",
    "print(134+552,'features have 70%+ NaNs. That is', 686/949*100,'of the features.',949-686, 'of 949 features have less than 70%+ NaNs.' )"
   ]
  },
  {
   "cell_type": "markdown",
   "metadata": {},
   "source": [
    "Some interesting findings. Let's visualize the NaN trend, descendingly."
   ]
  },
  {
   "cell_type": "markdown",
   "metadata": {},
   "source": [
    "### NaNs Trend Visualization"
   ]
  },
  {
   "cell_type": "code",
   "execution_count": 16,
   "metadata": {},
   "outputs": [
    {
     "data": {
      "image/png": "[encoded data removed]",
      "text/plain": [
       "<Figure size 720x720 with 1 Axes>"
      ]
     },
     "metadata": {
      "needs_background": "light"
     },
     "output_type": "display_data"
    }
   ],
   "source": [
    "nans.plot(kind = 'bar', figsize = (10,10), title = 'Number of NaNs per Column', xticks = []);"
   ]
  },
  {
   "cell_type": "markdown",
   "metadata": {},
   "source": [
    "### Why is so much data unavailable?\n",
    "\n",
    ">From the plot, it seems like we have approximately 550 features whose missing values exceed 80%. Looking at the dataset, this is not exactly surprising. There are four mains reasons. \n",
    "\n",
    "#### 1. Information that could have concisely been represented is represented in multiple variables.\n",
    "\n",
    "\n",
    ">##### EXAMPLE: Payment method. We could use feature engineering to just represent what the source of payment was.\n",
    "><ol>\n",
    "    <li>PAYPRIV = \"Expected source(s) of payment for this visit: Private insurance\"</li>\n",
    "    <li>PAYMCARE =\"Expected source(s) of payment for this visit: Medicare\"</li>\n",
    "    <li>PAYMCAID = \"Expected source(s) of payment for this visit: Medicaid or CHIP or other state-based program\"</li>\n",
    "    <li>PAYWKCMP = \"Expected source(s) of payment for this visit: Workers' compensation\"</li>\n",
    "    <li>PAYSELF = \"Expected source(s) of payment for this visit: Self pay\"</li>\n",
    "    <li>PAYNOCHG = \"Expected source(s) of payment for this visit: No charge/Charity\"</li>\n",
    "    <li>PAYOTH = \"Expected source(s) of payment for this visit: Other\"</li>\n",
    "    <li>PAYDK = \"Expected source(s) of payment for this visit: Unknown\"</li>\n",
    "    <li>PAYTYPER = \"Recoded primary expected source of payment for this visit (based on hierarchy)\"</li>\n",
    "</ol>\n",
    "\n",
    "\n",
    "#### 2. Some features, collectively, are a \"list\" for the same piece of information.\n",
    "\n",
    "\n",
    ">##### EXAMPLE: Paitent's medications. Not all pateints are prescribed 30 medicines.\n",
    "><ol>\n",
    "    <li>MED1=\"Medication #1\"</li>\n",
    "    <li>MED2=\"Medication #2\"</li>\n",
    "    <li>MED3=\"Medication #3\"</li>\n",
    "    <li>MED4=\"Medication #4\"</li>\n",
    "    <li>...</li>\n",
    "    <li>MED27=\"Medication #27\"</li>\n",
    "    <li>MED28=\"Medication #28\"</li>\n",
    "    <li>MED29=\"Medication #29\"</li>\n",
    "    <li>MED30=\"Medication #30\"</li>\n",
    "</ol>\n",
    "\n",
    "#### 3. With or without reason 2, a collection of features represent a level of detail for the same information.\n",
    "\n",
    ">##### EXAMPLE: Paitent's complaints. Along with the listing, there is a \"level of detail\" to the complaint.\n",
    "><ol>\n",
    "    <li>RFV1 = \"Patient's complaint, symptom, or other reason for visit #1 - detailed category\"</li>\n",
    "    <li>RFV1 = \"Patient's complaint, symptom, or other reason for visit #2 - detailed category\"</li>\n",
    "    <li>RFV1 = \"Patient's complaint, symptom, or other reason for visit #3 - detailed category\"</li>\n",
    "    <li>RFV1 = \"Patient's complaint, symptom, or other reason for visit #4 - detailed category\"</li>\n",
    "    <li>RFV1 = \"Patient's complaint, symptom, or other reason for visit #5 - detailed category\"</li>\n",
    "    <li>...</li>\n",
    "    <li>RFV13D = \"Patient's complaint, symptom, or other reason for visit #1 - detailed category\"</li>\n",
    "    <li>RFV13D = \"Patient's complaint, symptom, or other reason for visit #2 - detailed category\"</li>\n",
    "    <li>RFV13D = \"Patient's complaint, symptom, or other reason for visit #3 - detailed category\"</li>\n",
    "    <li>RFV13D = \"Patient's complaint, symptom, or other reason for visit #4 - detailed category\"</li>\n",
    "    <li>RFV13D = \"Patient's complaint, symptom, or other reason for visit #5 - detailed category\"</li>\n",
    "</ol>\n",
    "\n",
    "\n",
    "#### 4. There are features that are reserved for only special pateints. \n",
    "\n",
    ">##### EXAMPLE: 'AGEDAYS' - age days for babies. This could be missing for the rest of the sample.\n",
    "><ol>\n",
    "    <li>AGE=\"Patient age in years\"</li>\n",
    "    <li>AGER=\"Age recode\"</li>\n",
    "    <li>AGEDAYS=\"Age in days for patients less than one year\"</li>\n",
    "</ol>\n",
    "\n",
    "\n",
    "\n",
    "\n",
    "#### What are some key takeaways from these observations?\n",
    "\n",
    "- All the reasons portray how well-suited this dataset is for a myriad of specific use cases and research, albeit with challenging and elongated data cleaning procedures. \n",
    "\n",
    "- Reasons 1 to 3 Feature engineering may also be used extensively to extract the essence of the required data for the problem at hand.\n",
    "\n",
    "- Reason 4 unleashes an extremely important fact: Do not assume that, if 95% of a column's values are missing, that we could safely drop it. It might be catered for a specific use case and hence missing for the majority. For example, if the use case is to study which diseases result in ER visits for babies the most, although this feature could be mostly missing, it is actually important and the missing % is misleading.\n",
    "\n",
    "- All reasons show us that we might not necessarily need to drop a column with high % of NaNs. From the special features of the available subset along with some domain research, we might be able to replace the missing data accurately."
   ]
  },
  {
   "cell_type": "markdown",
   "metadata": {},
   "source": [
    "### Further Comments and Prospective Steps"
   ]
  },
  {
   "cell_type": "markdown",
   "metadata": {},
   "source": [
    "#### Missing Values Further Steps\n",
    "- Investigate for also these values: [-9, -8, -7, 0]. -9 always means missing values, so we deal with that as such. However, -8 means \"unknown\" and -7 means \"N/A\". 0 may also mean \"blank.\" For features extracted, according to the nature of each feature, we must decide what to do with entries with those values. Some examples include the below.\n",
    "\n",
    "\t\t\n",
    ">**1. VALUE RESIDF**<br>\n",
    "  >  -9='Blank'<br>\n",
    "   > -8='Unknown'<br>\n",
    "\t1='Private residence'<br>\n",
    "\t2='Nursing home'<br>\n",
    "\t3='Homeless/homeless shelter'<br>\n",
    "\t4='Other'<br>\n",
    "    \n",
    ">**2. VALUE WAITTIMEF**<br>\n",
    "    -9 ='Blank'<br>\n",
    "    -7 ='Not Applicable'<br>\n",
    "    \n",
    ">**3. VALUE PAYTYPERF**<br>\n",
    "      -9 ='All sources of payment are blank'<br>\n",
    "      -8 ='Unknown'<br>\n",
    "       1 ='Private insurance'<br>\n",
    "       2 ='Medicare'<br>\n",
    "       3 ='Medicaid or CHIP or other state-based program'<br>\n",
    "       4 =\"Worker's compensation\"<br>\n",
    "       5 ='Self-pay'<br>\n",
    "       6 ='No charge/Charity'<br>\n",
    "       7 ='Other'   <br>\n",
    " \n",
    "\n",
    "\n",
    "<br>\n",
    "\n",
    "\n",
    "- for the extracted features, based on the problem domain, available data %, and relationships with other features, how can we best replace those missing values? Extensive research is needed.\n",
    "\n",
    "\n",
    "#### Data Quality Concerns For Further Investigation\n",
    "- are the values consistent?\n",
    "- are the types suitable?\n",
    "- is te data too granular or too specific for a use case?\n",
    "- is the data comprehensive for a use case?\n",
    "- invesigate the data collection time and determine its relevance for today.\n",
    "- is the data precise?\n",
    "- are the features selected complete?\n",
    "\n"
   ]
  },
  {
   "cell_type": "markdown",
   "metadata": {},
   "source": [
    "### Extracting Patterns"
   ]
  },
  {
   "cell_type": "markdown",
   "metadata": {},
   "source": [
    "#### HELPER: Function to Extract the Prefixes"
   ]
  },
  {
   "cell_type": "code",
   "execution_count": 41,
   "metadata": {},
   "outputs": [],
   "source": [
    "temp = NHAMCS[['RACEUN','RACER','RACERETH','NOPAY']]"
   ]
  },
  {
   "cell_type": "code",
   "execution_count": 62,
   "metadata": {},
   "outputs": [],
   "source": [
    "#TESTS PASSED\n",
    "\n",
    "#n is the length of the prefix\n",
    "#df is the dataframe\n",
    "def extract_prefixes(n, df):\n",
    "    l = []\n",
    "    for col in df.columns:\n",
    "        l.append((col[:n]))\n",
    "    return l"
   ]
  },
  {
   "cell_type": "markdown",
   "metadata": {},
   "source": [
    "#### HELPER: Find the Longest Prefix"
   ]
  },
  {
   "cell_type": "code",
   "execution_count": 63,
   "metadata": {},
   "outputs": [],
   "source": [
    "#TESTS PASSED \n",
    "def longest_prefix(df):\n",
    "    l = []\n",
    "    for col in df.columns:\n",
    "        l.append(len(col))\n",
    "    return max(l)"
   ]
  },
  {
   "cell_type": "code",
   "execution_count": 64,
   "metadata": {},
   "outputs": [
    {
     "data": {
      "text/plain": [
       "12"
      ]
     },
     "execution_count": 64,
     "metadata": {},
     "output_type": "execute_result"
    }
   ],
   "source": [
    "longest_prefix(NHAMCS)"
   ]
  },
  {
   "cell_type": "markdown",
   "metadata": {},
   "source": [
    "This means we stop prefixing at 12."
   ]
  },
  {
   "cell_type": "markdown",
   "metadata": {},
   "source": [
    "#### Find Prefix frequency per Prefix Length "
   ]
  },
  {
   "cell_type": "code",
   "execution_count": 70,
   "metadata": {},
   "outputs": [
    {
     "name": "stdout",
     "output_type": "stream",
     "text": [
      "Counter({'RX1': 176, 'RX2': 176, 'RX3': 32, 'PRE': 31, 'MED': 31, 'CON': 31, 'GPM': 30, 'DRU': 30, 'COM': 30, 'RX4': 16, 'RX5': 16, 'RX6': 16, 'RX7': 16, 'RX8': 16, 'RX9': 16, 'RFV': 10, 'PAY': 9, 'DIA': 9, 'OBS': 8, 'OTH': 7, 'PTO': 6, 'BLA': 5, 'PRD': 5, 'HDD': 5, 'AGE': 4, 'RES': 4, 'RAC': 4, 'INJ': 4, 'TOT': 4, 'ADM': 4, 'ESU': 4, 'EDI': 4, 'ETH': 3, 'CAU': 3, 'INC': 3, 'NUM': 3, 'TRA': 3, 'EME': 3, 'ESH': 3, 'EED': 3, 'BED': 3, 'ARR': 2, 'SEX': 2, 'AMB': 2, 'NOP': 2, 'TEM': 2, 'PUL': 2, 'BPS': 2, 'BPD': 2, 'CAR': 2, 'URI': 2, 'CAT': 2, 'CTC': 2, 'MRI': 2, 'PHY': 2, 'RET': 2, 'PAT': 2, 'ERE': 2, 'ECO': 2, 'EDP': 2, 'BOA': 2, 'REG': 2, 'HLI': 2, 'VMO': 1, 'VDA': 1, 'WAI': 1, 'POP': 1, 'IMM': 1, 'PAI': 1, 'SEE': 1, 'EPI': 1, 'INT': 1, 'ETO': 1, 'ALZ': 1, 'AST': 1, 'CAN': 1, 'CEB': 1, 'CKD': 1, 'COP': 1, 'CHF': 1, 'CAD': 1, 'DEP': 1, 'ESR': 1, 'HPE': 1, 'EDH': 1, 'HYP': 1, 'HTN': 1, 'OBE': 1, 'OSA': 1, 'OST': 1, 'SUB': 1, 'NOC': 1, 'ABG': 1, 'BAC': 1, 'BMP': 1, 'BNP': 1, 'BUN': 1, 'CBC': 1, 'CMP': 1, 'BLO': 1, 'TRT': 1, 'WOU': 1, 'DDI': 1, 'ELE': 1, 'GLU': 1, 'LAC': 1, 'LFT': 1, 'PTT': 1, 'EKG': 1, 'HIV': 1, 'FLU': 1, 'TOX': 1, 'ANY': 1, 'XRA': 1, 'CTA': 1, 'CTH': 1, 'CTO': 1, 'CTU': 1, 'ULT': 1, 'PRO': 1, 'BPA': 1, 'CAS': 1, 'CEN': 1, 'CPR': 1, 'END': 1, 'IVF': 1, 'LUM': 1, 'NEB': 1, 'PEL': 1, 'SKI': 1, 'SUT': 1, 'VIT': 1, 'ATT': 1, 'RNL': 1, 'NUR': 1, 'EMT': 1, 'MHP': 1, 'NOD': 1, 'NOF': 1, 'LWB': 1, 'LBT': 1, 'LEF': 1, 'DOA': 1, 'DIE': 1, 'HDS': 1, 'ADI': 1, 'BDA': 1, 'HOS': 1, 'EBI': 1, 'EMR': 1, 'HHS': 1, 'EHR': 1, 'EDE': 1, 'EPR': 1, 'EPN': 1, 'ECP': 1, 'ESC': 1, 'EWA': 1, 'ECT': 1, 'ERA': 1, 'EIM': 1, 'EID': 1, 'EGE': 1, 'EDA': 1, 'EMS': 1, 'EXP': 1, 'KIO': 1, 'IMB': 1, 'ADV': 1, 'FAS': 1, 'DAS': 1, 'RFI': 1, 'WIR': 1, 'ZON': 1, 'POO': 1, 'SUR': 1, 'MSA': 1, 'SET': 1, 'YEA': 1, 'CST': 1, 'CPS': 1, 'EDW': 1})\n"
     ]
    }
   ],
   "source": [
    "from collections import Counter\n",
    "unordered_list = extract_prefixes(3,NHAMCS)\n",
    "counter=Counter(unordered_list)\n",
    "#result = [list(counter.keys()),list(counter.values())]\n",
    "print(counter)"
   ]
  },
  {
   "cell_type": "markdown",
   "metadata": {},
   "source": [
    "#### Return Features with the Same Prefix"
   ]
  },
  {
   "cell_type": "code",
   "execution_count": 65,
   "metadata": {},
   "outputs": [],
   "source": [
    "def pattern_match(prefix, df):\n",
    "    l = []\n",
    "    for col in df.columns:\n",
    "        if(col.startswith(prefix)):\n",
    "            l.append(col)\n",
    "    return l"
   ]
  },
  {
   "cell_type": "markdown",
   "metadata": {},
   "source": [
    "### Step 1: extract all possible prefixes."
   ]
  },
  {
   "cell_type": "code",
   "execution_count": 66,
   "metadata": {},
   "outputs": [
    {
     "name": "stdout",
     "output_type": "stream",
     "text": [
      "For 2 -length prefixes, there are:\n",
      "['VM', 'VD', 'AR', 'WA', 'BL', 'AG', 'AG', 'AG', 'RE', 'SE', 'ET', 'ET', 'RA', 'RA', 'RA', 'AR', 'AM', 'NO', 'PA', 'PA', 'PA', 'PA', 'PA', 'PA', 'PA', 'PA', 'PA', 'TE', 'PU', 'RE', 'BP', 'BP', 'PO', 'IM', 'PA', 'SE', 'RF', 'RF', 'RF', 'RF', 'RF', 'RF', 'RF', 'RF', 'RF', 'RF', 'EP', 'IN', 'IN', 'IN', 'IN', 'IN', 'CA', 'CA', 'CA', 'DI', 'DI', 'DI', 'DI', 'DI', 'PR', 'PR', 'PR', 'PR', 'PR', 'ET', 'AL', 'AS', 'CA', 'CE', 'CK', 'CO', 'CH', 'CA', 'DE', 'DI', 'DI', 'DI', 'ES', 'HP', 'ED', 'HY', 'HT', 'OB', 'OS', 'OS', 'SU', 'NO', 'TO', 'DI', 'AB', 'BA', 'BM', 'BN', 'BU', 'CA', 'CB', 'CM', 'BL', 'TR', 'UR', 'WO', 'OT', 'DD', 'EL', 'GL', 'LA', 'LF', 'PT', 'OT', 'CA', 'EK', 'HI', 'FL', 'PR', 'TO', 'UR', 'OT', 'AN', 'XR', 'CA', 'CT', 'CT', 'CT', 'CT', 'CT', 'CT', 'MR', 'MR', 'UL', 'OT', 'TO', 'PR', 'BP', 'BL', 'CA', 'CE', 'CP', 'EN', 'IN', 'IV', 'LU', 'NE', 'PE', 'SK', 'SU', 'OT', 'TO', 'ME', 'ME', 'ME', 'ME', 'ME', 'ME', 'ME', 'ME', 'ME', 'ME', 'ME', 'ME', 'ME', 'ME', 'ME', 'ME', 'ME', 'ME', 'ME', 'ME', 'ME', 'ME', 'ME', 'ME', 'ME', 'ME', 'ME', 'ME', 'ME', 'ME', 'ME', 'GP', 'GP', 'GP', 'GP', 'GP', 'GP', 'GP', 'GP', 'GP', 'GP', 'GP', 'GP', 'GP', 'GP', 'GP', 'GP', 'GP', 'GP', 'GP', 'GP', 'GP', 'GP', 'GP', 'GP', 'GP', 'GP', 'GP', 'GP', 'GP', 'GP', 'NU', 'NU', 'NU', 'VI', 'TE', 'PU', 'RE', 'BP', 'BP', 'NO', 'AT', 'RE', 'CO', 'RN', 'NU', 'PH', 'EM', 'MH', 'OT', 'NO', 'NO', 'RE', 'RE', 'LW', 'LB', 'LE', 'DO', 'DI', 'TR', 'TR', 'TR', 'AD', 'OB', 'OB', 'OT', 'AD', 'AD', 'BL', 'HD', 'HD', 'HD', 'HD', 'HD', 'HD', 'AD', 'BL', 'BL', 'AG', 'BD', 'SE', 'ET', 'RA', 'HO', 'PA', 'EB', 'EM', 'HH', 'EH', 'ED', 'EP', 'EP', 'EM', 'EM', 'ER', 'EC', 'ES', 'EW', 'EC', 'EC', 'EC', 'ER', 'ER', 'EI', 'EI', 'EG', 'ED', 'ES', 'EM', 'ES', 'ES', 'ES', 'ED', 'ED', 'ED', 'EE', 'EE', 'EE', 'ES', 'ES', 'ES', 'PT', 'PT', 'PT', 'PT', 'PT', 'PT', 'ED', 'ED', 'OB', 'OB', 'OB', 'OB', 'OB', 'OB', 'BO', 'BO', 'AM', 'TO', 'RE', 'AD', 'IN', 'IN', 'EX', 'BE', 'KI', 'CA', 'IM', 'AD', 'PH', 'FA', 'ED', 'DA', 'RF', 'WI', 'ZO', 'PO', 'SU', 'BE', 'BE', 'HL', 'HL', 'EM', 'RE', 'MS', 'DR', 'PR', 'CO', 'CO', 'RX', 'RX', 'RX', 'RX', 'RX', 'RX', 'RX', 'RX', 'RX', 'RX', 'RX', 'RX', 'RX', 'RX', 'RX', 'RX', 'DR', 'PR', 'CO', 'CO', 'RX', 'RX', 'RX', 'RX', 'RX', 'RX', 'RX', 'RX', 'RX', 'RX', 'RX', 'RX', 'RX', 'RX', 'RX', 'RX', 'DR', 'PR', 'CO', 'CO', 'RX', 'RX', 'RX', 'RX', 'RX', 'RX', 'RX', 'RX', 'RX', 'RX', 'RX', 'RX', 'RX', 'RX', 'RX', 'RX', 'DR', 'PR', 'CO', 'CO', 'RX', 'RX', 'RX', 'RX', 'RX', 'RX', 'RX', 'RX', 'RX', 'RX', 'RX', 'RX', 'RX', 'RX', 'RX', 'RX', 'DR', 'PR', 'CO', 'CO', 'RX', 'RX', 'RX', 'RX', 'RX', 'RX', 'RX', 'RX', 'RX', 'RX', 'RX', 'RX', 'RX', 'RX', 'RX', 'RX', 'DR', 'PR', 'CO', 'CO', 'RX', 'RX', 'RX', 'RX', 'RX', 'RX', 'RX', 'RX', 'RX', 'RX', 'RX', 'RX', 'RX', 'RX', 'RX', 'RX', 'DR', 'PR', 'CO', 'CO', 'RX', 'RX', 'RX', 'RX', 'RX', 'RX', 'RX', 'RX', 'RX', 'RX', 'RX', 'RX', 'RX', 'RX', 'RX', 'RX', 'DR', 'PR', 'CO', 'CO', 'RX', 'RX', 'RX', 'RX', 'RX', 'RX', 'RX', 'RX', 'RX', 'RX', 'RX', 'RX', 'RX', 'RX', 'RX', 'RX', 'DR', 'PR', 'CO', 'CO', 'RX', 'RX', 'RX', 'RX', 'RX', 'RX', 'RX', 'RX', 'RX', 'RX', 'RX', 'RX', 'RX', 'RX', 'RX', 'RX', 'DR', 'PR', 'CO', 'CO', 'RX', 'RX', 'RX', 'RX', 'RX', 'RX', 'RX', 'RX', 'RX', 'RX', 'RX', 'RX', 'RX', 'RX', 'RX', 'RX', 'DR', 'PR', 'CO', 'CO', 'RX', 'RX', 'RX', 'RX', 'RX', 'RX', 'RX', 'RX', 'RX', 'RX', 'RX', 'RX', 'RX', 'RX', 'RX', 'RX', 'DR', 'PR', 'CO', 'CO', 'RX', 'RX', 'RX', 'RX', 'RX', 'RX', 'RX', 'RX', 'RX', 'RX', 'RX', 'RX', 'RX', 'RX', 'RX', 'RX', 'DR', 'PR', 'CO', 'CO', 'RX', 'RX', 'RX', 'RX', 'RX', 'RX', 'RX', 'RX', 'RX', 'RX', 'RX', 'RX', 'RX', 'RX', 'RX', 'RX', 'DR', 'PR', 'CO', 'CO', 'RX', 'RX', 'RX', 'RX', 'RX', 'RX', 'RX', 'RX', 'RX', 'RX', 'RX', 'RX', 'RX', 'RX', 'RX', 'RX', 'DR', 'PR', 'CO', 'CO', 'RX', 'RX', 'RX', 'RX', 'RX', 'RX', 'RX', 'RX', 'RX', 'RX', 'RX', 'RX', 'RX', 'RX', 'RX', 'RX', 'DR', 'PR', 'CO', 'CO', 'RX', 'RX', 'RX', 'RX', 'RX', 'RX', 'RX', 'RX', 'RX', 'RX', 'RX', 'RX', 'RX', 'RX', 'RX', 'RX', 'DR', 'PR', 'CO', 'CO', 'RX', 'RX', 'RX', 'RX', 'RX', 'RX', 'RX', 'RX', 'RX', 'RX', 'RX', 'RX', 'RX', 'RX', 'RX', 'RX', 'DR', 'PR', 'CO', 'CO', 'RX', 'RX', 'RX', 'RX', 'RX', 'RX', 'RX', 'RX', 'RX', 'RX', 'RX', 'RX', 'RX', 'RX', 'RX', 'RX', 'DR', 'PR', 'CO', 'CO', 'RX', 'RX', 'RX', 'RX', 'RX', 'RX', 'RX', 'RX', 'RX', 'RX', 'RX', 'RX', 'RX', 'RX', 'RX', 'RX', 'DR', 'PR', 'CO', 'CO', 'RX', 'RX', 'RX', 'RX', 'RX', 'RX', 'RX', 'RX', 'RX', 'RX', 'RX', 'RX', 'RX', 'RX', 'RX', 'RX', 'DR', 'PR', 'CO', 'CO', 'RX', 'RX', 'RX', 'RX', 'RX', 'RX', 'RX', 'RX', 'RX', 'RX', 'RX', 'RX', 'RX', 'RX', 'RX', 'RX', 'DR', 'PR', 'CO', 'CO', 'RX', 'RX', 'RX', 'RX', 'RX', 'RX', 'RX', 'RX', 'RX', 'RX', 'RX', 'RX', 'RX', 'RX', 'RX', 'RX', 'DR', 'PR', 'CO', 'CO', 'RX', 'RX', 'RX', 'RX', 'RX', 'RX', 'RX', 'RX', 'RX', 'RX', 'RX', 'RX', 'RX', 'RX', 'RX', 'RX', 'DR', 'PR', 'CO', 'CO', 'RX', 'RX', 'RX', 'RX', 'RX', 'RX', 'RX', 'RX', 'RX', 'RX', 'RX', 'RX', 'RX', 'RX', 'RX', 'RX', 'DR', 'PR', 'CO', 'CO', 'RX', 'RX', 'RX', 'RX', 'RX', 'RX', 'RX', 'RX', 'RX', 'RX', 'RX', 'RX', 'RX', 'RX', 'RX', 'RX', 'DR', 'PR', 'CO', 'CO', 'RX', 'RX', 'RX', 'RX', 'RX', 'RX', 'RX', 'RX', 'RX', 'RX', 'RX', 'RX', 'RX', 'RX', 'RX', 'RX', 'DR', 'PR', 'CO', 'CO', 'RX', 'RX', 'RX', 'RX', 'RX', 'RX', 'RX', 'RX', 'RX', 'RX', 'RX', 'RX', 'RX', 'RX', 'RX', 'RX', 'DR', 'PR', 'CO', 'CO', 'RX', 'RX', 'RX', 'RX', 'RX', 'RX', 'RX', 'RX', 'RX', 'RX', 'RX', 'RX', 'RX', 'RX', 'RX', 'RX', 'DR', 'PR', 'CO', 'CO', 'RX', 'RX', 'RX', 'RX', 'RX', 'RX', 'RX', 'RX', 'RX', 'RX', 'RX', 'RX', 'RX', 'RX', 'RX', 'RX', 'DR', 'PR', 'CO', 'CO', 'RX', 'RX', 'RX', 'RX', 'RX', 'RX', 'RX', 'RX', 'RX', 'RX', 'RX', 'RX', 'RX', 'RX', 'RX', 'RX', 'SE', 'YE', 'CS', 'CP', 'PA', 'ED']\n",
      "------------------------------------------------------------------------------------------------------------\n",
      "\n",
      "\n",
      "For 3 -length prefixes, there are:\n",
      "['VMO', 'VDA', 'ARR', 'WAI', 'BLA', 'AGE', 'AGE', 'AGE', 'RES', 'SEX', 'ETH', 'ETH', 'RAC', 'RAC', 'RAC', 'ARR', 'AMB', 'NOP', 'PAY', 'PAY', 'PAY', 'PAY', 'PAY', 'PAY', 'PAY', 'PAY', 'PAY', 'TEM', 'PUL', 'RES', 'BPS', 'BPD', 'POP', 'IMM', 'PAI', 'SEE', 'RFV', 'RFV', 'RFV', 'RFV', 'RFV', 'RFV', 'RFV', 'RFV', 'RFV', 'RFV', 'EPI', 'INJ', 'INJ', 'INJ', 'INT', 'INJ', 'CAU', 'CAU', 'CAU', 'DIA', 'DIA', 'DIA', 'DIA', 'DIA', 'PRD', 'PRD', 'PRD', 'PRD', 'PRD', 'ETO', 'ALZ', 'AST', 'CAN', 'CEB', 'CKD', 'COP', 'CHF', 'CAD', 'DEP', 'DIA', 'DIA', 'DIA', 'ESR', 'HPE', 'EDH', 'HYP', 'HTN', 'OBE', 'OSA', 'OST', 'SUB', 'NOC', 'TOT', 'DIA', 'ABG', 'BAC', 'BMP', 'BNP', 'BUN', 'CAR', 'CBC', 'CMP', 'BLO', 'TRT', 'URI', 'WOU', 'OTH', 'DDI', 'ELE', 'GLU', 'LAC', 'LFT', 'PTT', 'OTH', 'CAR', 'EKG', 'HIV', 'FLU', 'PRE', 'TOX', 'URI', 'OTH', 'ANY', 'XRA', 'CAT', 'CTC', 'CTA', 'CTC', 'CTH', 'CTO', 'CTU', 'MRI', 'MRI', 'ULT', 'OTH', 'TOT', 'PRO', 'BPA', 'BLA', 'CAS', 'CEN', 'CPR', 'END', 'INC', 'IVF', 'LUM', 'NEB', 'PEL', 'SKI', 'SUT', 'OTH', 'TOT', 'MED', 'MED', 'MED', 'MED', 'MED', 'MED', 'MED', 'MED', 'MED', 'MED', 'MED', 'MED', 'MED', 'MED', 'MED', 'MED', 'MED', 'MED', 'MED', 'MED', 'MED', 'MED', 'MED', 'MED', 'MED', 'MED', 'MED', 'MED', 'MED', 'MED', 'MED', 'GPM', 'GPM', 'GPM', 'GPM', 'GPM', 'GPM', 'GPM', 'GPM', 'GPM', 'GPM', 'GPM', 'GPM', 'GPM', 'GPM', 'GPM', 'GPM', 'GPM', 'GPM', 'GPM', 'GPM', 'GPM', 'GPM', 'GPM', 'GPM', 'GPM', 'GPM', 'GPM', 'GPM', 'GPM', 'GPM', 'NUM', 'NUM', 'NUM', 'VIT', 'TEM', 'PUL', 'RES', 'BPS', 'BPD', 'NOP', 'ATT', 'RES', 'CON', 'RNL', 'NUR', 'PHY', 'EMT', 'MHP', 'OTH', 'NOD', 'NOF', 'RET', 'RET', 'LWB', 'LBT', 'LEF', 'DOA', 'DIE', 'TRA', 'TRA', 'TRA', 'ADM', 'OBS', 'OBS', 'OTH', 'ADM', 'ADM', 'BLA', 'HDD', 'HDD', 'HDD', 'HDD', 'HDD', 'HDS', 'ADI', 'BLA', 'BLA', 'AGE', 'BDA', 'SEX', 'ETH', 'RAC', 'HOS', 'PAT', 'EBI', 'EMR', 'HHS', 'EHR', 'EDE', 'EPR', 'EPN', 'EME', 'EME', 'ERE', 'ECP', 'ESC', 'EWA', 'ECO', 'ECO', 'ECT', 'ERE', 'ERA', 'EIM', 'EID', 'EGE', 'EDA', 'ESU', 'EMS', 'ESH', 'ESH', 'ESH', 'EDI', 'EDI', 'EDI', 'EED', 'EED', 'EED', 'ESU', 'ESU', 'ESU', 'PTO', 'PTO', 'PTO', 'PTO', 'PTO', 'PTO', 'EDP', 'EDI', 'OBS', 'OBS', 'OBS', 'OBS', 'OBS', 'OBS', 'BOA', 'BOA', 'AMB', 'TOT', 'REG', 'ADM', 'INC', 'INC', 'EXP', 'BED', 'KIO', 'CAT', 'IMB', 'ADV', 'PHY', 'FAS', 'EDP', 'DAS', 'RFI', 'WIR', 'ZON', 'POO', 'SUR', 'BED', 'BED', 'HLI', 'HLI', 'EME', 'REG', 'MSA', 'DRU', 'PRE', 'CON', 'COM', 'RX1', 'RX1', 'RX1', 'RX1', 'RX1', 'RX1', 'RX1', 'RX1', 'RX1', 'RX1', 'RX1', 'RX1', 'RX1', 'RX1', 'RX1', 'RX1', 'DRU', 'PRE', 'CON', 'COM', 'RX2', 'RX2', 'RX2', 'RX2', 'RX2', 'RX2', 'RX2', 'RX2', 'RX2', 'RX2', 'RX2', 'RX2', 'RX2', 'RX2', 'RX2', 'RX2', 'DRU', 'PRE', 'CON', 'COM', 'RX3', 'RX3', 'RX3', 'RX3', 'RX3', 'RX3', 'RX3', 'RX3', 'RX3', 'RX3', 'RX3', 'RX3', 'RX3', 'RX3', 'RX3', 'RX3', 'DRU', 'PRE', 'CON', 'COM', 'RX4', 'RX4', 'RX4', 'RX4', 'RX4', 'RX4', 'RX4', 'RX4', 'RX4', 'RX4', 'RX4', 'RX4', 'RX4', 'RX4', 'RX4', 'RX4', 'DRU', 'PRE', 'CON', 'COM', 'RX5', 'RX5', 'RX5', 'RX5', 'RX5', 'RX5', 'RX5', 'RX5', 'RX5', 'RX5', 'RX5', 'RX5', 'RX5', 'RX5', 'RX5', 'RX5', 'DRU', 'PRE', 'CON', 'COM', 'RX6', 'RX6', 'RX6', 'RX6', 'RX6', 'RX6', 'RX6', 'RX6', 'RX6', 'RX6', 'RX6', 'RX6', 'RX6', 'RX6', 'RX6', 'RX6', 'DRU', 'PRE', 'CON', 'COM', 'RX7', 'RX7', 'RX7', 'RX7', 'RX7', 'RX7', 'RX7', 'RX7', 'RX7', 'RX7', 'RX7', 'RX7', 'RX7', 'RX7', 'RX7', 'RX7', 'DRU', 'PRE', 'CON', 'COM', 'RX8', 'RX8', 'RX8', 'RX8', 'RX8', 'RX8', 'RX8', 'RX8', 'RX8', 'RX8', 'RX8', 'RX8', 'RX8', 'RX8', 'RX8', 'RX8', 'DRU', 'PRE', 'CON', 'COM', 'RX9', 'RX9', 'RX9', 'RX9', 'RX9', 'RX9', 'RX9', 'RX9', 'RX9', 'RX9', 'RX9', 'RX9', 'RX9', 'RX9', 'RX9', 'RX9', 'DRU', 'PRE', 'CON', 'COM', 'RX1', 'RX1', 'RX1', 'RX1', 'RX1', 'RX1', 'RX1', 'RX1', 'RX1', 'RX1', 'RX1', 'RX1', 'RX1', 'RX1', 'RX1', 'RX1', 'DRU', 'PRE', 'CON', 'COM', 'RX1', 'RX1', 'RX1', 'RX1', 'RX1', 'RX1', 'RX1', 'RX1', 'RX1', 'RX1', 'RX1', 'RX1', 'RX1', 'RX1', 'RX1', 'RX1', 'DRU', 'PRE', 'CON', 'COM', 'RX1', 'RX1', 'RX1', 'RX1', 'RX1', 'RX1', 'RX1', 'RX1', 'RX1', 'RX1', 'RX1', 'RX1', 'RX1', 'RX1', 'RX1', 'RX1', 'DRU', 'PRE', 'CON', 'COM', 'RX1', 'RX1', 'RX1', 'RX1', 'RX1', 'RX1', 'RX1', 'RX1', 'RX1', 'RX1', 'RX1', 'RX1', 'RX1', 'RX1', 'RX1', 'RX1', 'DRU', 'PRE', 'CON', 'COM', 'RX1', 'RX1', 'RX1', 'RX1', 'RX1', 'RX1', 'RX1', 'RX1', 'RX1', 'RX1', 'RX1', 'RX1', 'RX1', 'RX1', 'RX1', 'RX1', 'DRU', 'PRE', 'CON', 'COM', 'RX1', 'RX1', 'RX1', 'RX1', 'RX1', 'RX1', 'RX1', 'RX1', 'RX1', 'RX1', 'RX1', 'RX1', 'RX1', 'RX1', 'RX1', 'RX1', 'DRU', 'PRE', 'CON', 'COM', 'RX1', 'RX1', 'RX1', 'RX1', 'RX1', 'RX1', 'RX1', 'RX1', 'RX1', 'RX1', 'RX1', 'RX1', 'RX1', 'RX1', 'RX1', 'RX1', 'DRU', 'PRE', 'CON', 'COM', 'RX1', 'RX1', 'RX1', 'RX1', 'RX1', 'RX1', 'RX1', 'RX1', 'RX1', 'RX1', 'RX1', 'RX1', 'RX1', 'RX1', 'RX1', 'RX1', 'DRU', 'PRE', 'CON', 'COM', 'RX1', 'RX1', 'RX1', 'RX1', 'RX1', 'RX1', 'RX1', 'RX1', 'RX1', 'RX1', 'RX1', 'RX1', 'RX1', 'RX1', 'RX1', 'RX1', 'DRU', 'PRE', 'CON', 'COM', 'RX1', 'RX1', 'RX1', 'RX1', 'RX1', 'RX1', 'RX1', 'RX1', 'RX1', 'RX1', 'RX1', 'RX1', 'RX1', 'RX1', 'RX1', 'RX1', 'DRU', 'PRE', 'CON', 'COM', 'RX2', 'RX2', 'RX2', 'RX2', 'RX2', 'RX2', 'RX2', 'RX2', 'RX2', 'RX2', 'RX2', 'RX2', 'RX2', 'RX2', 'RX2', 'RX2', 'DRU', 'PRE', 'CON', 'COM', 'RX2', 'RX2', 'RX2', 'RX2', 'RX2', 'RX2', 'RX2', 'RX2', 'RX2', 'RX2', 'RX2', 'RX2', 'RX2', 'RX2', 'RX2', 'RX2', 'DRU', 'PRE', 'CON', 'COM', 'RX2', 'RX2', 'RX2', 'RX2', 'RX2', 'RX2', 'RX2', 'RX2', 'RX2', 'RX2', 'RX2', 'RX2', 'RX2', 'RX2', 'RX2', 'RX2', 'DRU', 'PRE', 'CON', 'COM', 'RX2', 'RX2', 'RX2', 'RX2', 'RX2', 'RX2', 'RX2', 'RX2', 'RX2', 'RX2', 'RX2', 'RX2', 'RX2', 'RX2', 'RX2', 'RX2', 'DRU', 'PRE', 'CON', 'COM', 'RX2', 'RX2', 'RX2', 'RX2', 'RX2', 'RX2', 'RX2', 'RX2', 'RX2', 'RX2', 'RX2', 'RX2', 'RX2', 'RX2', 'RX2', 'RX2', 'DRU', 'PRE', 'CON', 'COM', 'RX2', 'RX2', 'RX2', 'RX2', 'RX2', 'RX2', 'RX2', 'RX2', 'RX2', 'RX2', 'RX2', 'RX2', 'RX2', 'RX2', 'RX2', 'RX2', 'DRU', 'PRE', 'CON', 'COM', 'RX2', 'RX2', 'RX2', 'RX2', 'RX2', 'RX2', 'RX2', 'RX2', 'RX2', 'RX2', 'RX2', 'RX2', 'RX2', 'RX2', 'RX2', 'RX2', 'DRU', 'PRE', 'CON', 'COM', 'RX2', 'RX2', 'RX2', 'RX2', 'RX2', 'RX2', 'RX2', 'RX2', 'RX2', 'RX2', 'RX2', 'RX2', 'RX2', 'RX2', 'RX2', 'RX2', 'DRU', 'PRE', 'CON', 'COM', 'RX2', 'RX2', 'RX2', 'RX2', 'RX2', 'RX2', 'RX2', 'RX2', 'RX2', 'RX2', 'RX2', 'RX2', 'RX2', 'RX2', 'RX2', 'RX2', 'DRU', 'PRE', 'CON', 'COM', 'RX2', 'RX2', 'RX2', 'RX2', 'RX2', 'RX2', 'RX2', 'RX2', 'RX2', 'RX2', 'RX2', 'RX2', 'RX2', 'RX2', 'RX2', 'RX2', 'DRU', 'PRE', 'CON', 'COM', 'RX3', 'RX3', 'RX3', 'RX3', 'RX3', 'RX3', 'RX3', 'RX3', 'RX3', 'RX3', 'RX3', 'RX3', 'RX3', 'RX3', 'RX3', 'RX3', 'SET', 'YEA', 'CST', 'CPS', 'PAT', 'EDW']\n",
      "------------------------------------------------------------------------------------------------------------\n",
      "\n",
      "\n",
      "For 4 -length prefixes, there are:\n",
      "['VMON', 'VDAY', 'ARRT', 'WAIT', 'BLAN', 'AGE', 'AGER', 'AGED', 'RESI', 'SEX', 'ETHU', 'ETHI', 'RACE', 'RACE', 'RACE', 'ARRE', 'AMBT', 'NOPA', 'PAYP', 'PAYM', 'PAYM', 'PAYW', 'PAYS', 'PAYN', 'PAYO', 'PAYD', 'PAYT', 'TEMP', 'PULS', 'RESP', 'BPSY', 'BPDI', 'POPC', 'IMME', 'PAIN', 'SEEN', 'RFV1', 'RFV2', 'RFV3', 'RFV4', 'RFV5', 'RFV1', 'RFV2', 'RFV3', 'RFV4', 'RFV5', 'EPIS', 'INJU', 'INJP', 'INJU', 'INTE', 'INJU', 'CAUS', 'CAUS', 'CAUS', 'DIAG', 'DIAG', 'DIAG', 'DIAG', 'DIAG', 'PRDI', 'PRDI', 'PRDI', 'PRDI', 'PRDI', 'ETOH', 'ALZH', 'ASTH', 'CANC', 'CEBV', 'CKD', 'COPD', 'CHF', 'CAD', 'DEPR', 'DIAB', 'DIAB', 'DIAB', 'ESRD', 'HPE', 'EDHI', 'HYPL', 'HTN', 'OBES', 'OSA', 'OSTP', 'SUBS', 'NOCH', 'TOTC', 'DIAG', 'ABG', 'BAC', 'BMP', 'BNP', 'BUNC', 'CARD', 'CBC', 'CMP', 'BLOO', 'TRTC', 'URIN', 'WOUN', 'OTHC', 'DDIM', 'ELEC', 'GLUC', 'LACT', 'LFT', 'PTTI', 'OTHE', 'CARD', 'EKG', 'HIVT', 'FLUT', 'PREG', 'TOXS', 'URIN', 'OTHR', 'ANYI', 'XRAY', 'CATS', 'CTCO', 'CTAB', 'CTCH', 'CTHE', 'CTOT', 'CTUN', 'MRI', 'MRIC', 'ULTR', 'OTHI', 'TOTD', 'PROC', 'BPAP', 'BLAD', 'CAST', 'CENT', 'CPR', 'ENDO', 'INCD', 'IVFL', 'LUMB', 'NEBU', 'PELV', 'SKIN', 'SUTU', 'OTHP', 'TOTP', 'MED', 'MED1', 'MED2', 'MED3', 'MED4', 'MED5', 'MED6', 'MED7', 'MED8', 'MED9', 'MED1', 'MED1', 'MED1', 'MED1', 'MED1', 'MED1', 'MED1', 'MED1', 'MED1', 'MED1', 'MED2', 'MED2', 'MED2', 'MED2', 'MED2', 'MED2', 'MED2', 'MED2', 'MED2', 'MED2', 'MED3', 'GPME', 'GPME', 'GPME', 'GPME', 'GPME', 'GPME', 'GPME', 'GPME', 'GPME', 'GPME', 'GPME', 'GPME', 'GPME', 'GPME', 'GPME', 'GPME', 'GPME', 'GPME', 'GPME', 'GPME', 'GPME', 'GPME', 'GPME', 'GPME', 'GPME', 'GPME', 'GPME', 'GPME', 'GPME', 'GPME', 'NUMG', 'NUMD', 'NUMM', 'VITA', 'TEMP', 'PULS', 'RESP', 'BPSY', 'BPDI', 'NOPR', 'ATTP', 'RESI', 'CONS', 'RNLP', 'NURS', 'PHYS', 'EMT', 'MHPR', 'OTHP', 'NODI', 'NOFU', 'RETR', 'RETR', 'LWBS', 'LBTC', 'LEFT', 'DOA', 'DIED', 'TRAN', 'TRAN', 'TRAN', 'ADMI', 'OBSH', 'OBSD', 'OTHD', 'ADMI', 'ADMT', 'BLAN', 'HDDI', 'HDDI', 'HDDI', 'HDDI', 'HDDI', 'HDST', 'ADIS', 'BLAN', 'BLAN', 'AGEF', 'BDAT', 'SEXF', 'ETHN', 'RACE', 'HOSP', 'PATC', 'EBIL', 'EMRE', 'HHSM', 'EHRI', 'EDEM', 'EPRO', 'EPNO', 'EMED', 'EMED', 'EREM', 'ECPO', 'ESCR', 'EWAR', 'ECON', 'ECON', 'ECTO', 'ERES', 'ERAD', 'EIMG', 'EIDP', 'EGEN', 'EDAT', 'ESUM', 'EMSG', 'ESHA', 'ESHA', 'ESHA', 'EDIS', 'EDIS', 'EDIS', 'EEDS', 'EEDS', 'EEDS', 'ESUM', 'ESUM', 'ESUM', 'PTON', 'PTON', 'PTON', 'PTON', 'PTON', 'PTON', 'EDPR', 'EDIN', 'OBSC', 'OBSS', 'OBSP', 'OBSH', 'OBSP', 'OBSP', 'BOAR', 'BOAR', 'AMBD', 'TOTH', 'REGD', 'ADMD', 'INCS', 'INCP', 'EXPS', 'BEDR', 'KIOS', 'CATR', 'IMBE', 'ADVT', 'PHYS', 'FAST', 'EDPT', 'DASH', 'RFID', 'WIRE', 'ZONE', 'POOL', 'SURG', 'BEDC', 'BEDD', 'HLIS', 'HLIS', 'EMED', 'REGI', 'MSA', 'DRUG', 'PRES', 'CONT', 'COMS', 'RX1C', 'RX1C', 'RX1C', 'RX1C', 'RX1V', 'RX1V', 'RX1V', 'RX1V', 'RX1V', 'RX1V', 'RX1V', 'RX1V', 'RX1V', 'RX1V', 'RX1V', 'RX1V', 'DRUG', 'PRES', 'CONT', 'COMS', 'RX2C', 'RX2C', 'RX2C', 'RX2C', 'RX2V', 'RX2V', 'RX2V', 'RX2V', 'RX2V', 'RX2V', 'RX2V', 'RX2V', 'RX2V', 'RX2V', 'RX2V', 'RX2V', 'DRUG', 'PRES', 'CONT', 'COMS', 'RX3C', 'RX3C', 'RX3C', 'RX3C', 'RX3V', 'RX3V', 'RX3V', 'RX3V', 'RX3V', 'RX3V', 'RX3V', 'RX3V', 'RX3V', 'RX3V', 'RX3V', 'RX3V', 'DRUG', 'PRES', 'CONT', 'COMS', 'RX4C', 'RX4C', 'RX4C', 'RX4C', 'RX4V', 'RX4V', 'RX4V', 'RX4V', 'RX4V', 'RX4V', 'RX4V', 'RX4V', 'RX4V', 'RX4V', 'RX4V', 'RX4V', 'DRUG', 'PRES', 'CONT', 'COMS', 'RX5C', 'RX5C', 'RX5C', 'RX5C', 'RX5V', 'RX5V', 'RX5V', 'RX5V', 'RX5V', 'RX5V', 'RX5V', 'RX5V', 'RX5V', 'RX5V', 'RX5V', 'RX5V', 'DRUG', 'PRES', 'CONT', 'COMS', 'RX6C', 'RX6C', 'RX6C', 'RX6C', 'RX6V', 'RX6V', 'RX6V', 'RX6V', 'RX6V', 'RX6V', 'RX6V', 'RX6V', 'RX6V', 'RX6V', 'RX6V', 'RX6V', 'DRUG', 'PRES', 'CONT', 'COMS', 'RX7C', 'RX7C', 'RX7C', 'RX7C', 'RX7V', 'RX7V', 'RX7V', 'RX7V', 'RX7V', 'RX7V', 'RX7V', 'RX7V', 'RX7V', 'RX7V', 'RX7V', 'RX7V', 'DRUG', 'PRES', 'CONT', 'COMS', 'RX8C', 'RX8C', 'RX8C', 'RX8C', 'RX8V', 'RX8V', 'RX8V', 'RX8V', 'RX8V', 'RX8V', 'RX8V', 'RX8V', 'RX8V', 'RX8V', 'RX8V', 'RX8V', 'DRUG', 'PRES', 'CONT', 'COMS', 'RX9C', 'RX9C', 'RX9C', 'RX9C', 'RX9V', 'RX9V', 'RX9V', 'RX9V', 'RX9V', 'RX9V', 'RX9V', 'RX9V', 'RX9V', 'RX9V', 'RX9V', 'RX9V', 'DRUG', 'PRES', 'CONT', 'COMS', 'RX10', 'RX10', 'RX10', 'RX10', 'RX10', 'RX10', 'RX10', 'RX10', 'RX10', 'RX10', 'RX10', 'RX10', 'RX10', 'RX10', 'RX10', 'RX10', 'DRUG', 'PRES', 'CONT', 'COMS', 'RX11', 'RX11', 'RX11', 'RX11', 'RX11', 'RX11', 'RX11', 'RX11', 'RX11', 'RX11', 'RX11', 'RX11', 'RX11', 'RX11', 'RX11', 'RX11', 'DRUG', 'PRES', 'CONT', 'COMS', 'RX12', 'RX12', 'RX12', 'RX12', 'RX12', 'RX12', 'RX12', 'RX12', 'RX12', 'RX12', 'RX12', 'RX12', 'RX12', 'RX12', 'RX12', 'RX12', 'DRUG', 'PRES', 'CONT', 'COMS', 'RX13', 'RX13', 'RX13', 'RX13', 'RX13', 'RX13', 'RX13', 'RX13', 'RX13', 'RX13', 'RX13', 'RX13', 'RX13', 'RX13', 'RX13', 'RX13', 'DRUG', 'PRES', 'CONT', 'COMS', 'RX14', 'RX14', 'RX14', 'RX14', 'RX14', 'RX14', 'RX14', 'RX14', 'RX14', 'RX14', 'RX14', 'RX14', 'RX14', 'RX14', 'RX14', 'RX14', 'DRUG', 'PRES', 'CONT', 'COMS', 'RX15', 'RX15', 'RX15', 'RX15', 'RX15', 'RX15', 'RX15', 'RX15', 'RX15', 'RX15', 'RX15', 'RX15', 'RX15', 'RX15', 'RX15', 'RX15', 'DRUG', 'PRES', 'CONT', 'COMS', 'RX16', 'RX16', 'RX16', 'RX16', 'RX16', 'RX16', 'RX16', 'RX16', 'RX16', 'RX16', 'RX16', 'RX16', 'RX16', 'RX16', 'RX16', 'RX16', 'DRUG', 'PRES', 'CONT', 'COMS', 'RX17', 'RX17', 'RX17', 'RX17', 'RX17', 'RX17', 'RX17', 'RX17', 'RX17', 'RX17', 'RX17', 'RX17', 'RX17', 'RX17', 'RX17', 'RX17', 'DRUG', 'PRES', 'CONT', 'COMS', 'RX18', 'RX18', 'RX18', 'RX18', 'RX18', 'RX18', 'RX18', 'RX18', 'RX18', 'RX18', 'RX18', 'RX18', 'RX18', 'RX18', 'RX18', 'RX18', 'DRUG', 'PRES', 'CONT', 'COMS', 'RX19', 'RX19', 'RX19', 'RX19', 'RX19', 'RX19', 'RX19', 'RX19', 'RX19', 'RX19', 'RX19', 'RX19', 'RX19', 'RX19', 'RX19', 'RX19', 'DRUG', 'PRES', 'CONT', 'COMS', 'RX20', 'RX20', 'RX20', 'RX20', 'RX20', 'RX20', 'RX20', 'RX20', 'RX20', 'RX20', 'RX20', 'RX20', 'RX20', 'RX20', 'RX20', 'RX20', 'DRUG', 'PRES', 'CONT', 'COMS', 'RX21', 'RX21', 'RX21', 'RX21', 'RX21', 'RX21', 'RX21', 'RX21', 'RX21', 'RX21', 'RX21', 'RX21', 'RX21', 'RX21', 'RX21', 'RX21', 'DRUG', 'PRES', 'CONT', 'COMS', 'RX22', 'RX22', 'RX22', 'RX22', 'RX22', 'RX22', 'RX22', 'RX22', 'RX22', 'RX22', 'RX22', 'RX22', 'RX22', 'RX22', 'RX22', 'RX22', 'DRUG', 'PRES', 'CONT', 'COMS', 'RX23', 'RX23', 'RX23', 'RX23', 'RX23', 'RX23', 'RX23', 'RX23', 'RX23', 'RX23', 'RX23', 'RX23', 'RX23', 'RX23', 'RX23', 'RX23', 'DRUG', 'PRES', 'CONT', 'COMS', 'RX24', 'RX24', 'RX24', 'RX24', 'RX24', 'RX24', 'RX24', 'RX24', 'RX24', 'RX24', 'RX24', 'RX24', 'RX24', 'RX24', 'RX24', 'RX24', 'DRUG', 'PRES', 'CONT', 'COMS', 'RX25', 'RX25', 'RX25', 'RX25', 'RX25', 'RX25', 'RX25', 'RX25', 'RX25', 'RX25', 'RX25', 'RX25', 'RX25', 'RX25', 'RX25', 'RX25', 'DRUG', 'PRES', 'CONT', 'COMS', 'RX26', 'RX26', 'RX26', 'RX26', 'RX26', 'RX26', 'RX26', 'RX26', 'RX26', 'RX26', 'RX26', 'RX26', 'RX26', 'RX26', 'RX26', 'RX26', 'DRUG', 'PRES', 'CONT', 'COMS', 'RX27', 'RX27', 'RX27', 'RX27', 'RX27', 'RX27', 'RX27', 'RX27', 'RX27', 'RX27', 'RX27', 'RX27', 'RX27', 'RX27', 'RX27', 'RX27', 'DRUG', 'PRES', 'CONT', 'COMS', 'RX28', 'RX28', 'RX28', 'RX28', 'RX28', 'RX28', 'RX28', 'RX28', 'RX28', 'RX28', 'RX28', 'RX28', 'RX28', 'RX28', 'RX28', 'RX28', 'DRUG', 'PRES', 'CONT', 'COMS', 'RX29', 'RX29', 'RX29', 'RX29', 'RX29', 'RX29', 'RX29', 'RX29', 'RX29', 'RX29', 'RX29', 'RX29', 'RX29', 'RX29', 'RX29', 'RX29', 'DRUG', 'PRES', 'CONT', 'COMS', 'RX30', 'RX30', 'RX30', 'RX30', 'RX30', 'RX30', 'RX30', 'RX30', 'RX30', 'RX30', 'RX30', 'RX30', 'RX30', 'RX30', 'RX30', 'RX30', 'SETT', 'YEAR', 'CSTR', 'CPSU', 'PATW', 'EDWT']\n",
      "------------------------------------------------------------------------------------------------------------\n",
      "\n",
      "\n",
      "For 5 -length prefixes, there are:\n",
      "['VMONT', 'VDAYR', 'ARRTI', 'WAITT', 'BLANK', 'AGE', 'AGER', 'AGEDA', 'RESID', 'SEX', 'ETHUN', 'ETHIM', 'RACEU', 'RACER', 'RACER', 'ARREM', 'AMBTR', 'NOPAY', 'PAYPR', 'PAYMC', 'PAYMC', 'PAYWK', 'PAYSE', 'PAYNO', 'PAYOT', 'PAYDK', 'PAYTY', 'TEMPF', 'PULSE', 'RESPR', 'BPSYS', 'BPDIA', 'POPCT', 'IMMED', 'PAINS', 'SEEN7', 'RFV1', 'RFV2', 'RFV3', 'RFV4', 'RFV5', 'RFV13', 'RFV23', 'RFV33', 'RFV43', 'RFV53', 'EPISO', 'INJUR', 'INJPO', 'INJUR', 'INTEN', 'INJUR', 'CAUSE', 'CAUSE', 'CAUSE', 'DIAG1', 'DIAG2', 'DIAG3', 'DIAG4', 'DIAG5', 'PRDIA', 'PRDIA', 'PRDIA', 'PRDIA', 'PRDIA', 'ETOHA', 'ALZHD', 'ASTHM', 'CANCE', 'CEBVD', 'CKD', 'COPD', 'CHF', 'CAD', 'DEPRN', 'DIABT', 'DIABT', 'DIABT', 'ESRD', 'HPE', 'EDHIV', 'HYPLI', 'HTN', 'OBESI', 'OSA', 'OSTPR', 'SUBST', 'NOCHR', 'TOTCH', 'DIAGS', 'ABG', 'BAC', 'BMP', 'BNP', 'BUNCR', 'CARDE', 'CBC', 'CMP', 'BLOOD', 'TRTCX', 'URINE', 'WOUND', 'OTHCX', 'DDIME', 'ELECT', 'GLUCO', 'LACTA', 'LFT', 'PTTIN', 'OTHER', 'CARDM', 'EKG', 'HIVTE', 'FLUTE', 'PREGT', 'TOXSC', 'URINE', 'OTHRT', 'ANYIM', 'XRAY', 'CATSC', 'CTCON', 'CTAB', 'CTCHE', 'CTHEA', 'CTOTH', 'CTUNK', 'MRI', 'MRICO', 'ULTRA', 'OTHIM', 'TOTDI', 'PROC', 'BPAP', 'BLADC', 'CASTS', 'CENTL', 'CPR', 'ENDOI', 'INCDR', 'IVFLU', 'LUMBA', 'NEBUT', 'PELVI', 'SKINA', 'SUTUR', 'OTHPR', 'TOTPR', 'MED', 'MED1', 'MED2', 'MED3', 'MED4', 'MED5', 'MED6', 'MED7', 'MED8', 'MED9', 'MED10', 'MED11', 'MED12', 'MED13', 'MED14', 'MED15', 'MED16', 'MED17', 'MED18', 'MED19', 'MED20', 'MED21', 'MED22', 'MED23', 'MED24', 'MED25', 'MED26', 'MED27', 'MED28', 'MED29', 'MED30', 'GPMED', 'GPMED', 'GPMED', 'GPMED', 'GPMED', 'GPMED', 'GPMED', 'GPMED', 'GPMED', 'GPMED', 'GPMED', 'GPMED', 'GPMED', 'GPMED', 'GPMED', 'GPMED', 'GPMED', 'GPMED', 'GPMED', 'GPMED', 'GPMED', 'GPMED', 'GPMED', 'GPMED', 'GPMED', 'GPMED', 'GPMED', 'GPMED', 'GPMED', 'GPMED', 'NUMGI', 'NUMDI', 'NUMME', 'VITAL', 'TEMPD', 'PULSE', 'RESPR', 'BPSYS', 'BPDIA', 'NOPRO', 'ATTPH', 'RESIN', 'CONSU', 'RNLPN', 'NURSE', 'PHYSA', 'EMT', 'MHPRO', 'OTHPR', 'NODIS', 'NOFU', 'RETRN', 'RETRE', 'LWBS', 'LBTC', 'LEFTA', 'DOA', 'DIEDE', 'TRANN', 'TRANP', 'TRANO', 'ADMIT', 'OBSHO', 'OBSDI', 'OTHDI', 'ADMIT', 'ADMTP', 'BLANK', 'HDDIA', 'HDDIA', 'HDDIA', 'HDDIA', 'HDDIA', 'HDSTA', 'ADISP', 'BLANK', 'BLANK', 'AGEFL', 'BDATE', 'SEXFL', 'ETHNI', 'RACER', 'HOSPC', 'PATCO', 'EBILL', 'EMRED', 'HHSMU', 'EHRIN', 'EDEMO', 'EPROL', 'EPNOT', 'EMEDA', 'EMEDI', 'EREMI', 'ECPOE', 'ESCRI', 'EWARN', 'ECONT', 'ECONT', 'ECTOE', 'ERESU', 'ERADI', 'EIMGR', 'EIDPT', 'EGENL', 'EDATA', 'ESUME', 'EMSGE', 'ESHAR', 'ESHAR', 'ESHAR', 'EDISC', 'EDISC', 'EDISC', 'EEDSR', 'EEDSR', 'EEDSR', 'ESUMC', 'ESUMC', 'ESUMC', 'PTONL', 'PTONL', 'PTONL', 'PTONL', 'PTONL', 'PTONL', 'EDPRI', 'EDINF', 'OBSCL', 'OBSSE', 'OBSPH', 'OBSHO', 'OBSPH', 'OBSPH', 'BOARD', 'BOARD', 'AMBDI', 'TOTHR', 'REGDI', 'ADMDI', 'INCSH', 'INCPH', 'EXPSP', 'BEDRE', 'KIOSE', 'CATRI', 'IMBED', 'ADVTR', 'PHYSP', 'FASTT', 'EDPTO', 'DASHB', 'RFID', 'WIREL', 'ZONEN', 'POOLN', 'SURGD', 'BEDCZ', 'BEDDA', 'HLIST', 'HLIST', 'EMEDR', 'REGIO', 'MSA', 'DRUGI', 'PRESC', 'CONTS', 'COMST', 'RX1CA', 'RX1CA', 'RX1CA', 'RX1CA', 'RX1V1', 'RX1V1', 'RX1V1', 'RX1V1', 'RX1V2', 'RX1V2', 'RX1V2', 'RX1V2', 'RX1V3', 'RX1V3', 'RX1V3', 'RX1V3', 'DRUGI', 'PRESC', 'CONTS', 'COMST', 'RX2CA', 'RX2CA', 'RX2CA', 'RX2CA', 'RX2V1', 'RX2V1', 'RX2V1', 'RX2V1', 'RX2V2', 'RX2V2', 'RX2V2', 'RX2V2', 'RX2V3', 'RX2V3', 'RX2V3', 'RX2V3', 'DRUGI', 'PRESC', 'CONTS', 'COMST', 'RX3CA', 'RX3CA', 'RX3CA', 'RX3CA', 'RX3V1', 'RX3V1', 'RX3V1', 'RX3V1', 'RX3V2', 'RX3V2', 'RX3V2', 'RX3V2', 'RX3V3', 'RX3V3', 'RX3V3', 'RX3V3', 'DRUGI', 'PRESC', 'CONTS', 'COMST', 'RX4CA', 'RX4CA', 'RX4CA', 'RX4CA', 'RX4V1', 'RX4V1', 'RX4V1', 'RX4V1', 'RX4V2', 'RX4V2', 'RX4V2', 'RX4V2', 'RX4V3', 'RX4V3', 'RX4V3', 'RX4V3', 'DRUGI', 'PRESC', 'CONTS', 'COMST', 'RX5CA', 'RX5CA', 'RX5CA', 'RX5CA', 'RX5V1', 'RX5V1', 'RX5V1', 'RX5V1', 'RX5V2', 'RX5V2', 'RX5V2', 'RX5V2', 'RX5V3', 'RX5V3', 'RX5V3', 'RX5V3', 'DRUGI', 'PRESC', 'CONTS', 'COMST', 'RX6CA', 'RX6CA', 'RX6CA', 'RX6CA', 'RX6V1', 'RX6V1', 'RX6V1', 'RX6V1', 'RX6V2', 'RX6V2', 'RX6V2', 'RX6V2', 'RX6V3', 'RX6V3', 'RX6V3', 'RX6V3', 'DRUGI', 'PRESC', 'CONTS', 'COMST', 'RX7CA', 'RX7CA', 'RX7CA', 'RX7CA', 'RX7V1', 'RX7V1', 'RX7V1', 'RX7V1', 'RX7V2', 'RX7V2', 'RX7V2', 'RX7V2', 'RX7V3', 'RX7V3', 'RX7V3', 'RX7V3', 'DRUGI', 'PRESC', 'CONTS', 'COMST', 'RX8CA', 'RX8CA', 'RX8CA', 'RX8CA', 'RX8V1', 'RX8V1', 'RX8V1', 'RX8V1', 'RX8V2', 'RX8V2', 'RX8V2', 'RX8V2', 'RX8V3', 'RX8V3', 'RX8V3', 'RX8V3', 'DRUGI', 'PRESC', 'CONTS', 'COMST', 'RX9CA', 'RX9CA', 'RX9CA', 'RX9CA', 'RX9V1', 'RX9V1', 'RX9V1', 'RX9V1', 'RX9V2', 'RX9V2', 'RX9V2', 'RX9V2', 'RX9V3', 'RX9V3', 'RX9V3', 'RX9V3', 'DRUGI', 'PRESC', 'CONTS', 'COMST', 'RX10C', 'RX10C', 'RX10C', 'RX10C', 'RX10V', 'RX10V', 'RX10V', 'RX10V', 'RX10V', 'RX10V', 'RX10V', 'RX10V', 'RX10V', 'RX10V', 'RX10V', 'RX10V', 'DRUGI', 'PRESC', 'CONTS', 'COMST', 'RX11C', 'RX11C', 'RX11C', 'RX11C', 'RX11V', 'RX11V', 'RX11V', 'RX11V', 'RX11V', 'RX11V', 'RX11V', 'RX11V', 'RX11V', 'RX11V', 'RX11V', 'RX11V', 'DRUGI', 'PRESC', 'CONTS', 'COMST', 'RX12C', 'RX12C', 'RX12C', 'RX12C', 'RX12V', 'RX12V', 'RX12V', 'RX12V', 'RX12V', 'RX12V', 'RX12V', 'RX12V', 'RX12V', 'RX12V', 'RX12V', 'RX12V', 'DRUGI', 'PRESC', 'CONTS', 'COMST', 'RX13C', 'RX13C', 'RX13C', 'RX13C', 'RX13V', 'RX13V', 'RX13V', 'RX13V', 'RX13V', 'RX13V', 'RX13V', 'RX13V', 'RX13V', 'RX13V', 'RX13V', 'RX13V', 'DRUGI', 'PRESC', 'CONTS', 'COMST', 'RX14C', 'RX14C', 'RX14C', 'RX14C', 'RX14V', 'RX14V', 'RX14V', 'RX14V', 'RX14V', 'RX14V', 'RX14V', 'RX14V', 'RX14V', 'RX14V', 'RX14V', 'RX14V', 'DRUGI', 'PRESC', 'CONTS', 'COMST', 'RX15C', 'RX15C', 'RX15C', 'RX15C', 'RX15V', 'RX15V', 'RX15V', 'RX15V', 'RX15V', 'RX15V', 'RX15V', 'RX15V', 'RX15V', 'RX15V', 'RX15V', 'RX15V', 'DRUGI', 'PRESC', 'CONTS', 'COMST', 'RX16C', 'RX16C', 'RX16C', 'RX16C', 'RX16V', 'RX16V', 'RX16V', 'RX16V', 'RX16V', 'RX16V', 'RX16V', 'RX16V', 'RX16V', 'RX16V', 'RX16V', 'RX16V', 'DRUGI', 'PRESC', 'CONTS', 'COMST', 'RX17C', 'RX17C', 'RX17C', 'RX17C', 'RX17V', 'RX17V', 'RX17V', 'RX17V', 'RX17V', 'RX17V', 'RX17V', 'RX17V', 'RX17V', 'RX17V', 'RX17V', 'RX17V', 'DRUGI', 'PRESC', 'CONTS', 'COMST', 'RX18C', 'RX18C', 'RX18C', 'RX18C', 'RX18V', 'RX18V', 'RX18V', 'RX18V', 'RX18V', 'RX18V', 'RX18V', 'RX18V', 'RX18V', 'RX18V', 'RX18V', 'RX18V', 'DRUGI', 'PRESC', 'CONTS', 'COMST', 'RX19C', 'RX19C', 'RX19C', 'RX19C', 'RX19V', 'RX19V', 'RX19V', 'RX19V', 'RX19V', 'RX19V', 'RX19V', 'RX19V', 'RX19V', 'RX19V', 'RX19V', 'RX19V', 'DRUGI', 'PRESC', 'CONTS', 'COMST', 'RX20C', 'RX20C', 'RX20C', 'RX20C', 'RX20V', 'RX20V', 'RX20V', 'RX20V', 'RX20V', 'RX20V', 'RX20V', 'RX20V', 'RX20V', 'RX20V', 'RX20V', 'RX20V', 'DRUGI', 'PRESC', 'CONTS', 'COMST', 'RX21C', 'RX21C', 'RX21C', 'RX21C', 'RX21V', 'RX21V', 'RX21V', 'RX21V', 'RX21V', 'RX21V', 'RX21V', 'RX21V', 'RX21V', 'RX21V', 'RX21V', 'RX21V', 'DRUGI', 'PRESC', 'CONTS', 'COMST', 'RX22C', 'RX22C', 'RX22C', 'RX22C', 'RX22V', 'RX22V', 'RX22V', 'RX22V', 'RX22V', 'RX22V', 'RX22V', 'RX22V', 'RX22V', 'RX22V', 'RX22V', 'RX22V', 'DRUGI', 'PRESC', 'CONTS', 'COMST', 'RX23C', 'RX23C', 'RX23C', 'RX23C', 'RX23V', 'RX23V', 'RX23V', 'RX23V', 'RX23V', 'RX23V', 'RX23V', 'RX23V', 'RX23V', 'RX23V', 'RX23V', 'RX23V', 'DRUGI', 'PRESC', 'CONTS', 'COMST', 'RX24C', 'RX24C', 'RX24C', 'RX24C', 'RX24V', 'RX24V', 'RX24V', 'RX24V', 'RX24V', 'RX24V', 'RX24V', 'RX24V', 'RX24V', 'RX24V', 'RX24V', 'RX24V', 'DRUGI', 'PRESC', 'CONTS', 'COMST', 'RX25C', 'RX25C', 'RX25C', 'RX25C', 'RX25V', 'RX25V', 'RX25V', 'RX25V', 'RX25V', 'RX25V', 'RX25V', 'RX25V', 'RX25V', 'RX25V', 'RX25V', 'RX25V', 'DRUGI', 'PRESC', 'CONTS', 'COMST', 'RX26C', 'RX26C', 'RX26C', 'RX26C', 'RX26V', 'RX26V', 'RX26V', 'RX26V', 'RX26V', 'RX26V', 'RX26V', 'RX26V', 'RX26V', 'RX26V', 'RX26V', 'RX26V', 'DRUGI', 'PRESC', 'CONTS', 'COMST', 'RX27C', 'RX27C', 'RX27C', 'RX27C', 'RX27V', 'RX27V', 'RX27V', 'RX27V', 'RX27V', 'RX27V', 'RX27V', 'RX27V', 'RX27V', 'RX27V', 'RX27V', 'RX27V', 'DRUGI', 'PRESC', 'CONTS', 'COMST', 'RX28C', 'RX28C', 'RX28C', 'RX28C', 'RX28V', 'RX28V', 'RX28V', 'RX28V', 'RX28V', 'RX28V', 'RX28V', 'RX28V', 'RX28V', 'RX28V', 'RX28V', 'RX28V', 'DRUGI', 'PRESC', 'CONTS', 'COMST', 'RX29C', 'RX29C', 'RX29C', 'RX29C', 'RX29V', 'RX29V', 'RX29V', 'RX29V', 'RX29V', 'RX29V', 'RX29V', 'RX29V', 'RX29V', 'RX29V', 'RX29V', 'RX29V', 'DRUGI', 'PRESC', 'CONTS', 'COMST', 'RX30C', 'RX30C', 'RX30C', 'RX30C', 'RX30V', 'RX30V', 'RX30V', 'RX30V', 'RX30V', 'RX30V', 'RX30V', 'RX30V', 'RX30V', 'RX30V', 'RX30V', 'RX30V', 'SETTY', 'YEAR', 'CSTRA', 'CPSUM', 'PATWT', 'EDWT']\n",
      "------------------------------------------------------------------------------------------------------------\n",
      "\n",
      "\n",
      "For 6 -length prefixes, there are:\n",
      "['VMONTH', 'VDAYR', 'ARRTIM', 'WAITTI', 'BLANK1', 'AGE', 'AGER', 'AGEDAY', 'RESIDN', 'SEX', 'ETHUN', 'ETHIM', 'RACEUN', 'RACER', 'RACERE', 'ARREMS', 'AMBTRA', 'NOPAY', 'PAYPRI', 'PAYMCA', 'PAYMCA', 'PAYWKC', 'PAYSEL', 'PAYNOC', 'PAYOTH', 'PAYDK', 'PAYTYP', 'TEMPF', 'PULSE', 'RESPR', 'BPSYS', 'BPDIAS', 'POPCT', 'IMMEDR', 'PAINSC', 'SEEN72', 'RFV1', 'RFV2', 'RFV3', 'RFV4', 'RFV5', 'RFV13D', 'RFV23D', 'RFV33D', 'RFV43D', 'RFV53D', 'EPISOD', 'INJURY', 'INJPOI', 'INJURY', 'INTENT', 'INJURY', 'CAUSE1', 'CAUSE2', 'CAUSE3', 'DIAG1', 'DIAG2', 'DIAG3', 'DIAG4', 'DIAG5', 'PRDIAG', 'PRDIAG', 'PRDIAG', 'PRDIAG', 'PRDIAG', 'ETOHAB', 'ALZHD', 'ASTHMA', 'CANCER', 'CEBVD', 'CKD', 'COPD', 'CHF', 'CAD', 'DEPRN', 'DIABTY', 'DIABTY', 'DIABTY', 'ESRD', 'HPE', 'EDHIV', 'HYPLIP', 'HTN', 'OBESIT', 'OSA', 'OSTPRS', 'SUBSTA', 'NOCHRO', 'TOTCHR', 'DIAGSC', 'ABG', 'BAC', 'BMP', 'BNP', 'BUNCRE', 'CARDEN', 'CBC', 'CMP', 'BLOODC', 'TRTCX', 'URINEC', 'WOUNDC', 'OTHCX', 'DDIMER', 'ELECTR', 'GLUCOS', 'LACTAT', 'LFT', 'PTTINR', 'OTHERB', 'CARDMO', 'EKG', 'HIVTES', 'FLUTES', 'PREGTE', 'TOXSCR', 'URINE', 'OTHRTE', 'ANYIMA', 'XRAY', 'CATSCA', 'CTCONT', 'CTAB', 'CTCHES', 'CTHEAD', 'CTOTHE', 'CTUNK', 'MRI', 'MRICON', 'ULTRAS', 'OTHIMA', 'TOTDIA', 'PROC', 'BPAP', 'BLADCA', 'CASTSP', 'CENTLI', 'CPR', 'ENDOIN', 'INCDRA', 'IVFLUI', 'LUMBAR', 'NEBUTH', 'PELVIC', 'SKINAD', 'SUTURE', 'OTHPRO', 'TOTPRO', 'MED', 'MED1', 'MED2', 'MED3', 'MED4', 'MED5', 'MED6', 'MED7', 'MED8', 'MED9', 'MED10', 'MED11', 'MED12', 'MED13', 'MED14', 'MED15', 'MED16', 'MED17', 'MED18', 'MED19', 'MED20', 'MED21', 'MED22', 'MED23', 'MED24', 'MED25', 'MED26', 'MED27', 'MED28', 'MED29', 'MED30', 'GPMED1', 'GPMED2', 'GPMED3', 'GPMED4', 'GPMED5', 'GPMED6', 'GPMED7', 'GPMED8', 'GPMED9', 'GPMED1', 'GPMED1', 'GPMED1', 'GPMED1', 'GPMED1', 'GPMED1', 'GPMED1', 'GPMED1', 'GPMED1', 'GPMED1', 'GPMED2', 'GPMED2', 'GPMED2', 'GPMED2', 'GPMED2', 'GPMED2', 'GPMED2', 'GPMED2', 'GPMED2', 'GPMED2', 'GPMED3', 'NUMGIV', 'NUMDIS', 'NUMMED', 'VITALS', 'TEMPDF', 'PULSED', 'RESPRD', 'BPSYSD', 'BPDIAS', 'NOPROV', 'ATTPHY', 'RESINT', 'CONSUL', 'RNLPN', 'NURSEP', 'PHYSAS', 'EMT', 'MHPROV', 'OTHPRO', 'NODISP', 'NOFU', 'RETRNE', 'RETREF', 'LWBS', 'LBTC', 'LEFTAM', 'DOA', 'DIEDED', 'TRANNH', 'TRANPS', 'TRANOT', 'ADMITH', 'OBSHOS', 'OBSDIS', 'OTHDIS', 'ADMIT', 'ADMTPH', 'BLANK2', 'HDDIAG', 'HDDIAG', 'HDDIAG', 'HDDIAG', 'HDDIAG', 'HDSTAT', 'ADISP', 'BLANK3', 'BLANK4', 'AGEFL', 'BDATEF', 'SEXFL', 'ETHNIC', 'RACERF', 'HOSPCO', 'PATCOD', 'EBILLA', 'EMRED', 'HHSMUE', 'EHRINS', 'EDEMOG', 'EPROLS', 'EPNOTE', 'EMEDAL', 'EMEDID', 'EREMIN', 'ECPOEE', 'ESCRIP', 'EWARNE', 'ECONTR', 'ECONTS', 'ECTOEE', 'ERESUL', 'ERADIE', 'EIMGRE', 'EIDPTE', 'EGENLI', 'EDATAR', 'ESUMER', 'EMSGER', 'ESHARE', 'ESHARE', 'ESHARE', 'EDISCH', 'EDISCH', 'EDISCH', 'EEDSRE', 'EEDSRE', 'EEDSRE', 'ESUMCS', 'ESUMCS', 'ESUMCS', 'PTONLI', 'PTONLI', 'PTONLI', 'PTONLI', 'PTONLI', 'PTONLI', 'EDPRIM', 'EDINFO', 'OBSCLI', 'OBSSEP', 'OBSPHY', 'OBSHOS', 'OBSPHY', 'OBSPHY', 'BOARD', 'BOARDH', 'AMBDIV', 'TOTHRD', 'REGDIV', 'ADMDIV', 'INCSHX', 'INCPHY', 'EXPSPA', 'BEDREG', 'KIOSEL', 'CATRIA', 'IMBED', 'ADVTRI', 'PHYSPR', 'FASTTR', 'EDPTOR', 'DASHBO', 'RFID', 'WIRELE', 'ZONENU', 'POOLNU', 'SURGDA', 'BEDCZA', 'BEDDAT', 'HLIST', 'HLISTE', 'EMEDRE', 'REGION', 'MSA', 'DRUGID', 'PRESCR', 'CONTSU', 'COMSTA', 'RX1CAT', 'RX1CAT', 'RX1CAT', 'RX1CAT', 'RX1V1C', 'RX1V1C', 'RX1V1C', 'RX1V1C', 'RX1V2C', 'RX1V2C', 'RX1V2C', 'RX1V2C', 'RX1V3C', 'RX1V3C', 'RX1V3C', 'RX1V3C', 'DRUGID', 'PRESCR', 'CONTSU', 'COMSTA', 'RX2CAT', 'RX2CAT', 'RX2CAT', 'RX2CAT', 'RX2V1C', 'RX2V1C', 'RX2V1C', 'RX2V1C', 'RX2V2C', 'RX2V2C', 'RX2V2C', 'RX2V2C', 'RX2V3C', 'RX2V3C', 'RX2V3C', 'RX2V3C', 'DRUGID', 'PRESCR', 'CONTSU', 'COMSTA', 'RX3CAT', 'RX3CAT', 'RX3CAT', 'RX3CAT', 'RX3V1C', 'RX3V1C', 'RX3V1C', 'RX3V1C', 'RX3V2C', 'RX3V2C', 'RX3V2C', 'RX3V2C', 'RX3V3C', 'RX3V3C', 'RX3V3C', 'RX3V3C', 'DRUGID', 'PRESCR', 'CONTSU', 'COMSTA', 'RX4CAT', 'RX4CAT', 'RX4CAT', 'RX4CAT', 'RX4V1C', 'RX4V1C', 'RX4V1C', 'RX4V1C', 'RX4V2C', 'RX4V2C', 'RX4V2C', 'RX4V2C', 'RX4V3C', 'RX4V3C', 'RX4V3C', 'RX4V3C', 'DRUGID', 'PRESCR', 'CONTSU', 'COMSTA', 'RX5CAT', 'RX5CAT', 'RX5CAT', 'RX5CAT', 'RX5V1C', 'RX5V1C', 'RX5V1C', 'RX5V1C', 'RX5V2C', 'RX5V2C', 'RX5V2C', 'RX5V2C', 'RX5V3C', 'RX5V3C', 'RX5V3C', 'RX5V3C', 'DRUGID', 'PRESCR', 'CONTSU', 'COMSTA', 'RX6CAT', 'RX6CAT', 'RX6CAT', 'RX6CAT', 'RX6V1C', 'RX6V1C', 'RX6V1C', 'RX6V1C', 'RX6V2C', 'RX6V2C', 'RX6V2C', 'RX6V2C', 'RX6V3C', 'RX6V3C', 'RX6V3C', 'RX6V3C', 'DRUGID', 'PRESCR', 'CONTSU', 'COMSTA', 'RX7CAT', 'RX7CAT', 'RX7CAT', 'RX7CAT', 'RX7V1C', 'RX7V1C', 'RX7V1C', 'RX7V1C', 'RX7V2C', 'RX7V2C', 'RX7V2C', 'RX7V2C', 'RX7V3C', 'RX7V3C', 'RX7V3C', 'RX7V3C', 'DRUGID', 'PRESCR', 'CONTSU', 'COMSTA', 'RX8CAT', 'RX8CAT', 'RX8CAT', 'RX8CAT', 'RX8V1C', 'RX8V1C', 'RX8V1C', 'RX8V1C', 'RX8V2C', 'RX8V2C', 'RX8V2C', 'RX8V2C', 'RX8V3C', 'RX8V3C', 'RX8V3C', 'RX8V3C', 'DRUGID', 'PRESCR', 'CONTSU', 'COMSTA', 'RX9CAT', 'RX9CAT', 'RX9CAT', 'RX9CAT', 'RX9V1C', 'RX9V1C', 'RX9V1C', 'RX9V1C', 'RX9V2C', 'RX9V2C', 'RX9V2C', 'RX9V2C', 'RX9V3C', 'RX9V3C', 'RX9V3C', 'RX9V3C', 'DRUGID', 'PRESCR', 'CONTSU', 'COMSTA', 'RX10CA', 'RX10CA', 'RX10CA', 'RX10CA', 'RX10V1', 'RX10V1', 'RX10V1', 'RX10V1', 'RX10V2', 'RX10V2', 'RX10V2', 'RX10V2', 'RX10V3', 'RX10V3', 'RX10V3', 'RX10V3', 'DRUGID', 'PRESCR', 'CONTSU', 'COMSTA', 'RX11CA', 'RX11CA', 'RX11CA', 'RX11CA', 'RX11V1', 'RX11V1', 'RX11V1', 'RX11V1', 'RX11V2', 'RX11V2', 'RX11V2', 'RX11V2', 'RX11V3', 'RX11V3', 'RX11V3', 'RX11V3', 'DRUGID', 'PRESCR', 'CONTSU', 'COMSTA', 'RX12CA', 'RX12CA', 'RX12CA', 'RX12CA', 'RX12V1', 'RX12V1', 'RX12V1', 'RX12V1', 'RX12V2', 'RX12V2', 'RX12V2', 'RX12V2', 'RX12V3', 'RX12V3', 'RX12V3', 'RX12V3', 'DRUGID', 'PRESCR', 'CONTSU', 'COMSTA', 'RX13CA', 'RX13CA', 'RX13CA', 'RX13CA', 'RX13V1', 'RX13V1', 'RX13V1', 'RX13V1', 'RX13V2', 'RX13V2', 'RX13V2', 'RX13V2', 'RX13V3', 'RX13V3', 'RX13V3', 'RX13V3', 'DRUGID', 'PRESCR', 'CONTSU', 'COMSTA', 'RX14CA', 'RX14CA', 'RX14CA', 'RX14CA', 'RX14V1', 'RX14V1', 'RX14V1', 'RX14V1', 'RX14V2', 'RX14V2', 'RX14V2', 'RX14V2', 'RX14V3', 'RX14V3', 'RX14V3', 'RX14V3', 'DRUGID', 'PRESCR', 'CONTSU', 'COMSTA', 'RX15CA', 'RX15CA', 'RX15CA', 'RX15CA', 'RX15V1', 'RX15V1', 'RX15V1', 'RX15V1', 'RX15V2', 'RX15V2', 'RX15V2', 'RX15V2', 'RX15V3', 'RX15V3', 'RX15V3', 'RX15V3', 'DRUGID', 'PRESCR', 'CONTSU', 'COMSTA', 'RX16CA', 'RX16CA', 'RX16CA', 'RX16CA', 'RX16V1', 'RX16V1', 'RX16V1', 'RX16V1', 'RX16V2', 'RX16V2', 'RX16V2', 'RX16V2', 'RX16V3', 'RX16V3', 'RX16V3', 'RX16V3', 'DRUGID', 'PRESCR', 'CONTSU', 'COMSTA', 'RX17CA', 'RX17CA', 'RX17CA', 'RX17CA', 'RX17V1', 'RX17V1', 'RX17V1', 'RX17V1', 'RX17V2', 'RX17V2', 'RX17V2', 'RX17V2', 'RX17V3', 'RX17V3', 'RX17V3', 'RX17V3', 'DRUGID', 'PRESCR', 'CONTSU', 'COMSTA', 'RX18CA', 'RX18CA', 'RX18CA', 'RX18CA', 'RX18V1', 'RX18V1', 'RX18V1', 'RX18V1', 'RX18V2', 'RX18V2', 'RX18V2', 'RX18V2', 'RX18V3', 'RX18V3', 'RX18V3', 'RX18V3', 'DRUGID', 'PRESCR', 'CONTSU', 'COMSTA', 'RX19CA', 'RX19CA', 'RX19CA', 'RX19CA', 'RX19V1', 'RX19V1', 'RX19V1', 'RX19V1', 'RX19V2', 'RX19V2', 'RX19V2', 'RX19V2', 'RX19V3', 'RX19V3', 'RX19V3', 'RX19V3', 'DRUGID', 'PRESCR', 'CONTSU', 'COMSTA', 'RX20CA', 'RX20CA', 'RX20CA', 'RX20CA', 'RX20V1', 'RX20V1', 'RX20V1', 'RX20V1', 'RX20V2', 'RX20V2', 'RX20V2', 'RX20V2', 'RX20V3', 'RX20V3', 'RX20V3', 'RX20V3', 'DRUGID', 'PRESCR', 'CONTSU', 'COMSTA', 'RX21CA', 'RX21CA', 'RX21CA', 'RX21CA', 'RX21V1', 'RX21V1', 'RX21V1', 'RX21V1', 'RX21V2', 'RX21V2', 'RX21V2', 'RX21V2', 'RX21V3', 'RX21V3', 'RX21V3', 'RX21V3', 'DRUGID', 'PRESCR', 'CONTSU', 'COMSTA', 'RX22CA', 'RX22CA', 'RX22CA', 'RX22CA', 'RX22V1', 'RX22V1', 'RX22V1', 'RX22V1', 'RX22V2', 'RX22V2', 'RX22V2', 'RX22V2', 'RX22V3', 'RX22V3', 'RX22V3', 'RX22V3', 'DRUGID', 'PRESCR', 'CONTSU', 'COMSTA', 'RX23CA', 'RX23CA', 'RX23CA', 'RX23CA', 'RX23V1', 'RX23V1', 'RX23V1', 'RX23V1', 'RX23V2', 'RX23V2', 'RX23V2', 'RX23V2', 'RX23V3', 'RX23V3', 'RX23V3', 'RX23V3', 'DRUGID', 'PRESCR', 'CONTSU', 'COMSTA', 'RX24CA', 'RX24CA', 'RX24CA', 'RX24CA', 'RX24V1', 'RX24V1', 'RX24V1', 'RX24V1', 'RX24V2', 'RX24V2', 'RX24V2', 'RX24V2', 'RX24V3', 'RX24V3', 'RX24V3', 'RX24V3', 'DRUGID', 'PRESCR', 'CONTSU', 'COMSTA', 'RX25CA', 'RX25CA', 'RX25CA', 'RX25CA', 'RX25V1', 'RX25V1', 'RX25V1', 'RX25V1', 'RX25V2', 'RX25V2', 'RX25V2', 'RX25V2', 'RX25V3', 'RX25V3', 'RX25V3', 'RX25V3', 'DRUGID', 'PRESCR', 'CONTSU', 'COMSTA', 'RX26CA', 'RX26CA', 'RX26CA', 'RX26CA', 'RX26V1', 'RX26V1', 'RX26V1', 'RX26V1', 'RX26V2', 'RX26V2', 'RX26V2', 'RX26V2', 'RX26V3', 'RX26V3', 'RX26V3', 'RX26V3', 'DRUGID', 'PRESCR', 'CONTSU', 'COMSTA', 'RX27CA', 'RX27CA', 'RX27CA', 'RX27CA', 'RX27V1', 'RX27V1', 'RX27V1', 'RX27V1', 'RX27V2', 'RX27V2', 'RX27V2', 'RX27V2', 'RX27V3', 'RX27V3', 'RX27V3', 'RX27V3', 'DRUGID', 'PRESCR', 'CONTSU', 'COMSTA', 'RX28CA', 'RX28CA', 'RX28CA', 'RX28CA', 'RX28V1', 'RX28V1', 'RX28V1', 'RX28V1', 'RX28V2', 'RX28V2', 'RX28V2', 'RX28V2', 'RX28V3', 'RX28V3', 'RX28V3', 'RX28V3', 'DRUGID', 'PRESCR', 'CONTSU', 'COMSTA', 'RX29CA', 'RX29CA', 'RX29CA', 'RX29CA', 'RX29V1', 'RX29V1', 'RX29V1', 'RX29V1', 'RX29V2', 'RX29V2', 'RX29V2', 'RX29V2', 'RX29V3', 'RX29V3', 'RX29V3', 'RX29V3', 'DRUGID', 'PRESCR', 'CONTSU', 'COMSTA', 'RX30CA', 'RX30CA', 'RX30CA', 'RX30CA', 'RX30V1', 'RX30V1', 'RX30V1', 'RX30V1', 'RX30V2', 'RX30V2', 'RX30V2', 'RX30V2', 'RX30V3', 'RX30V3', 'RX30V3', 'RX30V3', 'SETTYP', 'YEAR', 'CSTRAT', 'CPSUM', 'PATWT', 'EDWT']\n",
      "------------------------------------------------------------------------------------------------------------\n",
      "\n",
      "\n",
      "For 7 -length prefixes, there are:\n",
      "['VMONTH', 'VDAYR', 'ARRTIME', 'WAITTIM', 'BLANK1', 'AGE', 'AGER', 'AGEDAYS', 'RESIDNC', 'SEX', 'ETHUN', 'ETHIM', 'RACEUN', 'RACER', 'RACERET', 'ARREMS', 'AMBTRAN', 'NOPAY', 'PAYPRIV', 'PAYMCAR', 'PAYMCAI', 'PAYWKCM', 'PAYSELF', 'PAYNOCH', 'PAYOTH', 'PAYDK', 'PAYTYPE', 'TEMPF', 'PULSE', 'RESPR', 'BPSYS', 'BPDIAS', 'POPCT', 'IMMEDR', 'PAINSCA', 'SEEN72', 'RFV1', 'RFV2', 'RFV3', 'RFV4', 'RFV5', 'RFV13D', 'RFV23D', 'RFV33D', 'RFV43D', 'RFV53D', 'EPISODE', 'INJURY', 'INJPOIS', 'INJURY7', 'INTENT1', 'INJURY_', 'CAUSE1', 'CAUSE2', 'CAUSE3', 'DIAG1', 'DIAG2', 'DIAG3', 'DIAG4', 'DIAG5', 'PRDIAG1', 'PRDIAG2', 'PRDIAG3', 'PRDIAG4', 'PRDIAG5', 'ETOHAB', 'ALZHD', 'ASTHMA', 'CANCER', 'CEBVD', 'CKD', 'COPD', 'CHF', 'CAD', 'DEPRN', 'DIABTYP', 'DIABTYP', 'DIABTYP', 'ESRD', 'HPE', 'EDHIV', 'HYPLIPI', 'HTN', 'OBESITY', 'OSA', 'OSTPRSI', 'SUBSTAB', 'NOCHRON', 'TOTCHRO', 'DIAGSCR', 'ABG', 'BAC', 'BMP', 'BNP', 'BUNCREA', 'CARDENZ', 'CBC', 'CMP', 'BLOODCX', 'TRTCX', 'URINECX', 'WOUNDCX', 'OTHCX', 'DDIMER', 'ELECTRO', 'GLUCOSE', 'LACTATE', 'LFT', 'PTTINR', 'OTHERBL', 'CARDMON', 'EKG', 'HIVTEST', 'FLUTEST', 'PREGTES', 'TOXSCRE', 'URINE', 'OTHRTES', 'ANYIMAG', 'XRAY', 'CATSCAN', 'CTCONTR', 'CTAB', 'CTCHEST', 'CTHEAD', 'CTOTHER', 'CTUNK', 'MRI', 'MRICONT', 'ULTRASN', 'OTHIMAG', 'TOTDIAG', 'PROC', 'BPAP', 'BLADCAT', 'CASTSPL', 'CENTLIN', 'CPR', 'ENDOINT', 'INCDRAI', 'IVFLUID', 'LUMBAR', 'NEBUTHE', 'PELVIC', 'SKINADH', 'SUTURE', 'OTHPROC', 'TOTPROC', 'MED', 'MED1', 'MED2', 'MED3', 'MED4', 'MED5', 'MED6', 'MED7', 'MED8', 'MED9', 'MED10', 'MED11', 'MED12', 'MED13', 'MED14', 'MED15', 'MED16', 'MED17', 'MED18', 'MED19', 'MED20', 'MED21', 'MED22', 'MED23', 'MED24', 'MED25', 'MED26', 'MED27', 'MED28', 'MED29', 'MED30', 'GPMED1', 'GPMED2', 'GPMED3', 'GPMED4', 'GPMED5', 'GPMED6', 'GPMED7', 'GPMED8', 'GPMED9', 'GPMED10', 'GPMED11', 'GPMED12', 'GPMED13', 'GPMED14', 'GPMED15', 'GPMED16', 'GPMED17', 'GPMED18', 'GPMED19', 'GPMED20', 'GPMED21', 'GPMED22', 'GPMED23', 'GPMED24', 'GPMED25', 'GPMED26', 'GPMED27', 'GPMED28', 'GPMED29', 'GPMED30', 'NUMGIV', 'NUMDIS', 'NUMMED', 'VITALSD', 'TEMPDF', 'PULSED', 'RESPRD', 'BPSYSD', 'BPDIASD', 'NOPROVI', 'ATTPHYS', 'RESINT', 'CONSULT', 'RNLPN', 'NURSEPR', 'PHYSASS', 'EMT', 'MHPROV', 'OTHPROV', 'NODISP', 'NOFU', 'RETRNED', 'RETREFF', 'LWBS', 'LBTC', 'LEFTAMA', 'DOA', 'DIEDED', 'TRANNH', 'TRANPSY', 'TRANOTH', 'ADMITHO', 'OBSHOS', 'OBSDIS', 'OTHDISP', 'ADMIT', 'ADMTPHY', 'BLANK2', 'HDDIAG1', 'HDDIAG2', 'HDDIAG3', 'HDDIAG4', 'HDDIAG5', 'HDSTAT', 'ADISP', 'BLANK3', 'BLANK4', 'AGEFL', 'BDATEFL', 'SEXFL', 'ETHNICF', 'RACERFL', 'HOSPCOD', 'PATCODE', 'EBILLAN', 'EMRED', 'HHSMUE', 'EHRINSE', 'EDEMOGE', 'EPROLST', 'EPNOTES', 'EMEDALG', 'EMEDIDE', 'EREMIND', 'ECPOEER', 'ESCRIPE', 'EWARNER', 'ECONTR', 'ECONTSC', 'ECTOEER', 'ERESULT', 'ERADIER', 'EIMGRES', 'EIDPTER', 'EGENLIS', 'EDATARE', 'ESUMER', 'EMSGER', 'ESHAREE', 'ESHARES', 'ESHARER', 'EDISCHS', 'EDISCHS', 'EDISCHS', 'EEDSRE1', 'EEDSRE2', 'EEDSRE3', 'ESUMCSR', 'ESUMCSR', 'ESUMCSR', 'PTONLIN', 'PTONLIN', 'PTONLIN', 'PTONLIN', 'PTONLIN', 'PTONLIN', 'EDPRIM', 'EDINFO', 'OBSCLIN', 'OBSSEP', 'OBSPHYS', 'OBSHOSP', 'OBSPHYS', 'OBSPHYS', 'BOARD', 'BOARDHO', 'AMBDIV', 'TOTHRDI', 'REGDIV', 'ADMDIV', 'INCSHX', 'INCPHYS', 'EXPSPAC', 'BEDREG', 'KIOSELC', 'CATRIAG', 'IMBED', 'ADVTRIA', 'PHYSPRA', 'FASTTRA', 'EDPTOR', 'DASHBOR', 'RFID', 'WIRELES', 'ZONENUR', 'POOLNUR', 'SURGDAY', 'BEDCZAR', 'BEDDATA', 'HLIST', 'HLISTED', 'EMEDRES', 'REGION', 'MSA', 'DRUGID1', 'PRESCR1', 'CONTSUB', 'COMSTAT', 'RX1CAT1', 'RX1CAT2', 'RX1CAT3', 'RX1CAT4', 'RX1V1C1', 'RX1V1C2', 'RX1V1C3', 'RX1V1C4', 'RX1V2C1', 'RX1V2C2', 'RX1V2C3', 'RX1V2C4', 'RX1V3C1', 'RX1V3C2', 'RX1V3C3', 'RX1V3C4', 'DRUGID2', 'PRESCR2', 'CONTSUB', 'COMSTAT', 'RX2CAT1', 'RX2CAT2', 'RX2CAT3', 'RX2CAT4', 'RX2V1C1', 'RX2V1C2', 'RX2V1C3', 'RX2V1C4', 'RX2V2C1', 'RX2V2C2', 'RX2V2C3', 'RX2V2C4', 'RX2V3C1', 'RX2V3C2', 'RX2V3C3', 'RX2V3C4', 'DRUGID3', 'PRESCR3', 'CONTSUB', 'COMSTAT', 'RX3CAT1', 'RX3CAT2', 'RX3CAT3', 'RX3CAT4', 'RX3V1C1', 'RX3V1C2', 'RX3V1C3', 'RX3V1C4', 'RX3V2C1', 'RX3V2C2', 'RX3V2C3', 'RX3V2C4', 'RX3V3C1', 'RX3V3C2', 'RX3V3C3', 'RX3V3C4', 'DRUGID4', 'PRESCR4', 'CONTSUB', 'COMSTAT', 'RX4CAT1', 'RX4CAT2', 'RX4CAT3', 'RX4CAT4', 'RX4V1C1', 'RX4V1C2', 'RX4V1C3', 'RX4V1C4', 'RX4V2C1', 'RX4V2C2', 'RX4V2C3', 'RX4V2C4', 'RX4V3C1', 'RX4V3C2', 'RX4V3C3', 'RX4V3C4', 'DRUGID5', 'PRESCR5', 'CONTSUB', 'COMSTAT', 'RX5CAT1', 'RX5CAT2', 'RX5CAT3', 'RX5CAT4', 'RX5V1C1', 'RX5V1C2', 'RX5V1C3', 'RX5V1C4', 'RX5V2C1', 'RX5V2C2', 'RX5V2C3', 'RX5V2C4', 'RX5V3C1', 'RX5V3C2', 'RX5V3C3', 'RX5V3C4', 'DRUGID6', 'PRESCR6', 'CONTSUB', 'COMSTAT', 'RX6CAT1', 'RX6CAT2', 'RX6CAT3', 'RX6CAT4', 'RX6V1C1', 'RX6V1C2', 'RX6V1C3', 'RX6V1C4', 'RX6V2C1', 'RX6V2C2', 'RX6V2C3', 'RX6V2C4', 'RX6V3C1', 'RX6V3C2', 'RX6V3C3', 'RX6V3C4', 'DRUGID7', 'PRESCR7', 'CONTSUB', 'COMSTAT', 'RX7CAT1', 'RX7CAT2', 'RX7CAT3', 'RX7CAT4', 'RX7V1C1', 'RX7V1C2', 'RX7V1C3', 'RX7V1C4', 'RX7V2C1', 'RX7V2C2', 'RX7V2C3', 'RX7V2C4', 'RX7V3C1', 'RX7V3C2', 'RX7V3C3', 'RX7V3C4', 'DRUGID8', 'PRESCR8', 'CONTSUB', 'COMSTAT', 'RX8CAT1', 'RX8CAT2', 'RX8CAT3', 'RX8CAT4', 'RX8V1C1', 'RX8V1C2', 'RX8V1C3', 'RX8V1C4', 'RX8V2C1', 'RX8V2C2', 'RX8V2C3', 'RX8V2C4', 'RX8V3C1', 'RX8V3C2', 'RX8V3C3', 'RX8V3C4', 'DRUGID9', 'PRESCR9', 'CONTSUB', 'COMSTAT', 'RX9CAT1', 'RX9CAT2', 'RX9CAT3', 'RX9CAT4', 'RX9V1C1', 'RX9V1C2', 'RX9V1C3', 'RX9V1C4', 'RX9V2C1', 'RX9V2C2', 'RX9V2C3', 'RX9V2C4', 'RX9V3C1', 'RX9V3C2', 'RX9V3C3', 'RX9V3C4', 'DRUGID1', 'PRESCR1', 'CONTSUB', 'COMSTAT', 'RX10CAT', 'RX10CAT', 'RX10CAT', 'RX10CAT', 'RX10V1C', 'RX10V1C', 'RX10V1C', 'RX10V1C', 'RX10V2C', 'RX10V2C', 'RX10V2C', 'RX10V2C', 'RX10V3C', 'RX10V3C', 'RX10V3C', 'RX10V3C', 'DRUGID1', 'PRESCR1', 'CONTSUB', 'COMSTAT', 'RX11CAT', 'RX11CAT', 'RX11CAT', 'RX11CAT', 'RX11V1C', 'RX11V1C', 'RX11V1C', 'RX11V1C', 'RX11V2C', 'RX11V2C', 'RX11V2C', 'RX11V2C', 'RX11V3C', 'RX11V3C', 'RX11V3C', 'RX11V3C', 'DRUGID1', 'PRESCR1', 'CONTSUB', 'COMSTAT', 'RX12CAT', 'RX12CAT', 'RX12CAT', 'RX12CAT', 'RX12V1C', 'RX12V1C', 'RX12V1C', 'RX12V1C', 'RX12V2C', 'RX12V2C', 'RX12V2C', 'RX12V2C', 'RX12V3C', 'RX12V3C', 'RX12V3C', 'RX12V3C', 'DRUGID1', 'PRESCR1', 'CONTSUB', 'COMSTAT', 'RX13CAT', 'RX13CAT', 'RX13CAT', 'RX13CAT', 'RX13V1C', 'RX13V1C', 'RX13V1C', 'RX13V1C', 'RX13V2C', 'RX13V2C', 'RX13V2C', 'RX13V2C', 'RX13V3C', 'RX13V3C', 'RX13V3C', 'RX13V3C', 'DRUGID1', 'PRESCR1', 'CONTSUB', 'COMSTAT', 'RX14CAT', 'RX14CAT', 'RX14CAT', 'RX14CAT', 'RX14V1C', 'RX14V1C', 'RX14V1C', 'RX14V1C', 'RX14V2C', 'RX14V2C', 'RX14V2C', 'RX14V2C', 'RX14V3C', 'RX14V3C', 'RX14V3C', 'RX14V3C', 'DRUGID1', 'PRESCR1', 'CONTSUB', 'COMSTAT', 'RX15CAT', 'RX15CAT', 'RX15CAT', 'RX15CAT', 'RX15V1C', 'RX15V1C', 'RX15V1C', 'RX15V1C', 'RX15V2C', 'RX15V2C', 'RX15V2C', 'RX15V2C', 'RX15V3C', 'RX15V3C', 'RX15V3C', 'RX15V3C', 'DRUGID1', 'PRESCR1', 'CONTSUB', 'COMSTAT', 'RX16CAT', 'RX16CAT', 'RX16CAT', 'RX16CAT', 'RX16V1C', 'RX16V1C', 'RX16V1C', 'RX16V1C', 'RX16V2C', 'RX16V2C', 'RX16V2C', 'RX16V2C', 'RX16V3C', 'RX16V3C', 'RX16V3C', 'RX16V3C', 'DRUGID1', 'PRESCR1', 'CONTSUB', 'COMSTAT', 'RX17CAT', 'RX17CAT', 'RX17CAT', 'RX17CAT', 'RX17V1C', 'RX17V1C', 'RX17V1C', 'RX17V1C', 'RX17V2C', 'RX17V2C', 'RX17V2C', 'RX17V2C', 'RX17V3C', 'RX17V3C', 'RX17V3C', 'RX17V3C', 'DRUGID1', 'PRESCR1', 'CONTSUB', 'COMSTAT', 'RX18CAT', 'RX18CAT', 'RX18CAT', 'RX18CAT', 'RX18V1C', 'RX18V1C', 'RX18V1C', 'RX18V1C', 'RX18V2C', 'RX18V2C', 'RX18V2C', 'RX18V2C', 'RX18V3C', 'RX18V3C', 'RX18V3C', 'RX18V3C', 'DRUGID1', 'PRESCR1', 'CONTSUB', 'COMSTAT', 'RX19CAT', 'RX19CAT', 'RX19CAT', 'RX19CAT', 'RX19V1C', 'RX19V1C', 'RX19V1C', 'RX19V1C', 'RX19V2C', 'RX19V2C', 'RX19V2C', 'RX19V2C', 'RX19V3C', 'RX19V3C', 'RX19V3C', 'RX19V3C', 'DRUGID2', 'PRESCR2', 'CONTSUB', 'COMSTAT', 'RX20CAT', 'RX20CAT', 'RX20CAT', 'RX20CAT', 'RX20V1C', 'RX20V1C', 'RX20V1C', 'RX20V1C', 'RX20V2C', 'RX20V2C', 'RX20V2C', 'RX20V2C', 'RX20V3C', 'RX20V3C', 'RX20V3C', 'RX20V3C', 'DRUGID2', 'PRESCR2', 'CONTSUB', 'COMSTAT', 'RX21CAT', 'RX21CAT', 'RX21CAT', 'RX21CAT', 'RX21V1C', 'RX21V1C', 'RX21V1C', 'RX21V1C', 'RX21V2C', 'RX21V2C', 'RX21V2C', 'RX21V2C', 'RX21V3C', 'RX21V3C', 'RX21V3C', 'RX21V3C', 'DRUGID2', 'PRESCR2', 'CONTSUB', 'COMSTAT', 'RX22CAT', 'RX22CAT', 'RX22CAT', 'RX22CAT', 'RX22V1C', 'RX22V1C', 'RX22V1C', 'RX22V1C', 'RX22V2C', 'RX22V2C', 'RX22V2C', 'RX22V2C', 'RX22V3C', 'RX22V3C', 'RX22V3C', 'RX22V3C', 'DRUGID2', 'PRESCR2', 'CONTSUB', 'COMSTAT', 'RX23CAT', 'RX23CAT', 'RX23CAT', 'RX23CAT', 'RX23V1C', 'RX23V1C', 'RX23V1C', 'RX23V1C', 'RX23V2C', 'RX23V2C', 'RX23V2C', 'RX23V2C', 'RX23V3C', 'RX23V3C', 'RX23V3C', 'RX23V3C', 'DRUGID2', 'PRESCR2', 'CONTSUB', 'COMSTAT', 'RX24CAT', 'RX24CAT', 'RX24CAT', 'RX24CAT', 'RX24V1C', 'RX24V1C', 'RX24V1C', 'RX24V1C', 'RX24V2C', 'RX24V2C', 'RX24V2C', 'RX24V2C', 'RX24V3C', 'RX24V3C', 'RX24V3C', 'RX24V3C', 'DRUGID2', 'PRESCR2', 'CONTSUB', 'COMSTAT', 'RX25CAT', 'RX25CAT', 'RX25CAT', 'RX25CAT', 'RX25V1C', 'RX25V1C', 'RX25V1C', 'RX25V1C', 'RX25V2C', 'RX25V2C', 'RX25V2C', 'RX25V2C', 'RX25V3C', 'RX25V3C', 'RX25V3C', 'RX25V3C', 'DRUGID2', 'PRESCR2', 'CONTSUB', 'COMSTAT', 'RX26CAT', 'RX26CAT', 'RX26CAT', 'RX26CAT', 'RX26V1C', 'RX26V1C', 'RX26V1C', 'RX26V1C', 'RX26V2C', 'RX26V2C', 'RX26V2C', 'RX26V2C', 'RX26V3C', 'RX26V3C', 'RX26V3C', 'RX26V3C', 'DRUGID2', 'PRESCR2', 'CONTSUB', 'COMSTAT', 'RX27CAT', 'RX27CAT', 'RX27CAT', 'RX27CAT', 'RX27V1C', 'RX27V1C', 'RX27V1C', 'RX27V1C', 'RX27V2C', 'RX27V2C', 'RX27V2C', 'RX27V2C', 'RX27V3C', 'RX27V3C', 'RX27V3C', 'RX27V3C', 'DRUGID2', 'PRESCR2', 'CONTSUB', 'COMSTAT', 'RX28CAT', 'RX28CAT', 'RX28CAT', 'RX28CAT', 'RX28V1C', 'RX28V1C', 'RX28V1C', 'RX28V1C', 'RX28V2C', 'RX28V2C', 'RX28V2C', 'RX28V2C', 'RX28V3C', 'RX28V3C', 'RX28V3C', 'RX28V3C', 'DRUGID2', 'PRESCR2', 'CONTSUB', 'COMSTAT', 'RX29CAT', 'RX29CAT', 'RX29CAT', 'RX29CAT', 'RX29V1C', 'RX29V1C', 'RX29V1C', 'RX29V1C', 'RX29V2C', 'RX29V2C', 'RX29V2C', 'RX29V2C', 'RX29V3C', 'RX29V3C', 'RX29V3C', 'RX29V3C', 'DRUGID3', 'PRESCR3', 'CONTSUB', 'COMSTAT', 'RX30CAT', 'RX30CAT', 'RX30CAT', 'RX30CAT', 'RX30V1C', 'RX30V1C', 'RX30V1C', 'RX30V1C', 'RX30V2C', 'RX30V2C', 'RX30V2C', 'RX30V2C', 'RX30V3C', 'RX30V3C', 'RX30V3C', 'RX30V3C', 'SETTYPE', 'YEAR', 'CSTRATM', 'CPSUM', 'PATWT', 'EDWT']\n",
      "------------------------------------------------------------------------------------------------------------\n",
      "\n",
      "\n",
      "For 8 -length prefixes, there are:\n",
      "['VMONTH', 'VDAYR', 'ARRTIME', 'WAITTIME', 'BLANK1', 'AGE', 'AGER', 'AGEDAYS', 'RESIDNCE', 'SEX', 'ETHUN', 'ETHIM', 'RACEUN', 'RACER', 'RACERETH', 'ARREMS', 'AMBTRANS', 'NOPAY', 'PAYPRIV', 'PAYMCARE', 'PAYMCAID', 'PAYWKCMP', 'PAYSELF', 'PAYNOCHG', 'PAYOTH', 'PAYDK', 'PAYTYPER', 'TEMPF', 'PULSE', 'RESPR', 'BPSYS', 'BPDIAS', 'POPCT', 'IMMEDR', 'PAINSCAL', 'SEEN72', 'RFV1', 'RFV2', 'RFV3', 'RFV4', 'RFV5', 'RFV13D', 'RFV23D', 'RFV33D', 'RFV43D', 'RFV53D', 'EPISODE', 'INJURY', 'INJPOISA', 'INJURY72', 'INTENT15', 'INJURY_E', 'CAUSE1', 'CAUSE2', 'CAUSE3', 'DIAG1', 'DIAG2', 'DIAG3', 'DIAG4', 'DIAG5', 'PRDIAG1', 'PRDIAG2', 'PRDIAG3', 'PRDIAG4', 'PRDIAG5', 'ETOHAB', 'ALZHD', 'ASTHMA', 'CANCER', 'CEBVD', 'CKD', 'COPD', 'CHF', 'CAD', 'DEPRN', 'DIABTYP1', 'DIABTYP2', 'DIABTYP0', 'ESRD', 'HPE', 'EDHIV', 'HYPLIPID', 'HTN', 'OBESITY', 'OSA', 'OSTPRSIS', 'SUBSTAB', 'NOCHRON', 'TOTCHRON', 'DIAGSCRN', 'ABG', 'BAC', 'BMP', 'BNP', 'BUNCREAT', 'CARDENZ', 'CBC', 'CMP', 'BLOODCX', 'TRTCX', 'URINECX', 'WOUNDCX', 'OTHCX', 'DDIMER', 'ELECTROL', 'GLUCOSE', 'LACTATE', 'LFT', 'PTTINR', 'OTHERBLD', 'CARDMON', 'EKG', 'HIVTEST', 'FLUTEST', 'PREGTEST', 'TOXSCREN', 'URINE', 'OTHRTEST', 'ANYIMAGE', 'XRAY', 'CATSCAN', 'CTCONTRA', 'CTAB', 'CTCHEST', 'CTHEAD', 'CTOTHER', 'CTUNK', 'MRI', 'MRICONTR', 'ULTRASND', 'OTHIMAGE', 'TOTDIAG', 'PROC', 'BPAP', 'BLADCATH', 'CASTSPLI', 'CENTLINE', 'CPR', 'ENDOINT', 'INCDRAIN', 'IVFLUIDS', 'LUMBAR', 'NEBUTHER', 'PELVIC', 'SKINADH', 'SUTURE', 'OTHPROC', 'TOTPROC', 'MED', 'MED1', 'MED2', 'MED3', 'MED4', 'MED5', 'MED6', 'MED7', 'MED8', 'MED9', 'MED10', 'MED11', 'MED12', 'MED13', 'MED14', 'MED15', 'MED16', 'MED17', 'MED18', 'MED19', 'MED20', 'MED21', 'MED22', 'MED23', 'MED24', 'MED25', 'MED26', 'MED27', 'MED28', 'MED29', 'MED30', 'GPMED1', 'GPMED2', 'GPMED3', 'GPMED4', 'GPMED5', 'GPMED6', 'GPMED7', 'GPMED8', 'GPMED9', 'GPMED10', 'GPMED11', 'GPMED12', 'GPMED13', 'GPMED14', 'GPMED15', 'GPMED16', 'GPMED17', 'GPMED18', 'GPMED19', 'GPMED20', 'GPMED21', 'GPMED22', 'GPMED23', 'GPMED24', 'GPMED25', 'GPMED26', 'GPMED27', 'GPMED28', 'GPMED29', 'GPMED30', 'NUMGIV', 'NUMDIS', 'NUMMED', 'VITALSD', 'TEMPDF', 'PULSED', 'RESPRD', 'BPSYSD', 'BPDIASD', 'NOPROVID', 'ATTPHYS', 'RESINT', 'CONSULT', 'RNLPN', 'NURSEPR', 'PHYSASST', 'EMT', 'MHPROV', 'OTHPROV', 'NODISP', 'NOFU', 'RETRNED', 'RETREFFU', 'LWBS', 'LBTC', 'LEFTAMA', 'DOA', 'DIEDED', 'TRANNH', 'TRANPSYC', 'TRANOTH', 'ADMITHOS', 'OBSHOS', 'OBSDIS', 'OTHDISP', 'ADMIT', 'ADMTPHYS', 'BLANK2', 'HDDIAG1', 'HDDIAG2', 'HDDIAG3', 'HDDIAG4', 'HDDIAG5', 'HDSTAT', 'ADISP', 'BLANK3', 'BLANK4', 'AGEFL', 'BDATEFL', 'SEXFL', 'ETHNICFL', 'RACERFL', 'HOSPCODE', 'PATCODE', 'EBILLANY', 'EMRED', 'HHSMUE', 'EHRINSE', 'EDEMOGER', 'EPROLSTE', 'EPNOTESE', 'EMEDALGE', 'EMEDIDER', 'EREMINDE', 'ECPOEER', 'ESCRIPER', 'EWARNER', 'ECONTR', 'ECONTSCR', 'ECTOEER', 'ERESULTE', 'ERADIER', 'EIMGRESE', 'EIDPTER', 'EGENLIST', 'EDATAREP', 'ESUMER', 'EMSGER', 'ESHAREE', 'ESHARESE', 'ESHARERE', 'EDISCHSR', 'EDISCHSR', 'EDISCHSR', 'EEDSRE1', 'EEDSRE2', 'EEDSRE3', 'ESUMCSRE', 'ESUMCSRE', 'ESUMCSRE', 'PTONLINE', 'PTONLINE', 'PTONLINE', 'PTONLINE', 'PTONLINE', 'PTONLINE', 'EDPRIM', 'EDINFO', 'OBSCLIN', 'OBSSEP', 'OBSPHYSE', 'OBSHOSP', 'OBSPHYSO', 'OBSPHYSU', 'BOARD', 'BOARDHOS', 'AMBDIV', 'TOTHRDIV', 'REGDIV', 'ADMDIV', 'INCSHX', 'INCPHYS', 'EXPSPACE', 'BEDREG', 'KIOSELCH', 'CATRIAGE', 'IMBED', 'ADVTRIAG', 'PHYSPRAC', 'FASTTRAK', 'EDPTOR', 'DASHBORD', 'RFID', 'WIRELESS', 'ZONENURS', 'POOLNURS', 'SURGDAY', 'BEDCZAR', 'BEDDATA', 'HLIST', 'HLISTED', 'EMEDRES', 'REGION', 'MSA', 'DRUGID1', 'PRESCR1', 'CONTSUB1', 'COMSTAT1', 'RX1CAT1', 'RX1CAT2', 'RX1CAT3', 'RX1CAT4', 'RX1V1C1', 'RX1V1C2', 'RX1V1C3', 'RX1V1C4', 'RX1V2C1', 'RX1V2C2', 'RX1V2C3', 'RX1V2C4', 'RX1V3C1', 'RX1V3C2', 'RX1V3C3', 'RX1V3C4', 'DRUGID2', 'PRESCR2', 'CONTSUB2', 'COMSTAT2', 'RX2CAT1', 'RX2CAT2', 'RX2CAT3', 'RX2CAT4', 'RX2V1C1', 'RX2V1C2', 'RX2V1C3', 'RX2V1C4', 'RX2V2C1', 'RX2V2C2', 'RX2V2C3', 'RX2V2C4', 'RX2V3C1', 'RX2V3C2', 'RX2V3C3', 'RX2V3C4', 'DRUGID3', 'PRESCR3', 'CONTSUB3', 'COMSTAT3', 'RX3CAT1', 'RX3CAT2', 'RX3CAT3', 'RX3CAT4', 'RX3V1C1', 'RX3V1C2', 'RX3V1C3', 'RX3V1C4', 'RX3V2C1', 'RX3V2C2', 'RX3V2C3', 'RX3V2C4', 'RX3V3C1', 'RX3V3C2', 'RX3V3C3', 'RX3V3C4', 'DRUGID4', 'PRESCR4', 'CONTSUB4', 'COMSTAT4', 'RX4CAT1', 'RX4CAT2', 'RX4CAT3', 'RX4CAT4', 'RX4V1C1', 'RX4V1C2', 'RX4V1C3', 'RX4V1C4', 'RX4V2C1', 'RX4V2C2', 'RX4V2C3', 'RX4V2C4', 'RX4V3C1', 'RX4V3C2', 'RX4V3C3', 'RX4V3C4', 'DRUGID5', 'PRESCR5', 'CONTSUB5', 'COMSTAT5', 'RX5CAT1', 'RX5CAT2', 'RX5CAT3', 'RX5CAT4', 'RX5V1C1', 'RX5V1C2', 'RX5V1C3', 'RX5V1C4', 'RX5V2C1', 'RX5V2C2', 'RX5V2C3', 'RX5V2C4', 'RX5V3C1', 'RX5V3C2', 'RX5V3C3', 'RX5V3C4', 'DRUGID6', 'PRESCR6', 'CONTSUB6', 'COMSTAT6', 'RX6CAT1', 'RX6CAT2', 'RX6CAT3', 'RX6CAT4', 'RX6V1C1', 'RX6V1C2', 'RX6V1C3', 'RX6V1C4', 'RX6V2C1', 'RX6V2C2', 'RX6V2C3', 'RX6V2C4', 'RX6V3C1', 'RX6V3C2', 'RX6V3C3', 'RX6V3C4', 'DRUGID7', 'PRESCR7', 'CONTSUB7', 'COMSTAT7', 'RX7CAT1', 'RX7CAT2', 'RX7CAT3', 'RX7CAT4', 'RX7V1C1', 'RX7V1C2', 'RX7V1C3', 'RX7V1C4', 'RX7V2C1', 'RX7V2C2', 'RX7V2C3', 'RX7V2C4', 'RX7V3C1', 'RX7V3C2', 'RX7V3C3', 'RX7V3C4', 'DRUGID8', 'PRESCR8', 'CONTSUB8', 'COMSTAT8', 'RX8CAT1', 'RX8CAT2', 'RX8CAT3', 'RX8CAT4', 'RX8V1C1', 'RX8V1C2', 'RX8V1C3', 'RX8V1C4', 'RX8V2C1', 'RX8V2C2', 'RX8V2C3', 'RX8V2C4', 'RX8V3C1', 'RX8V3C2', 'RX8V3C3', 'RX8V3C4', 'DRUGID9', 'PRESCR9', 'CONTSUB9', 'COMSTAT9', 'RX9CAT1', 'RX9CAT2', 'RX9CAT3', 'RX9CAT4', 'RX9V1C1', 'RX9V1C2', 'RX9V1C3', 'RX9V1C4', 'RX9V2C1', 'RX9V2C2', 'RX9V2C3', 'RX9V2C4', 'RX9V3C1', 'RX9V3C2', 'RX9V3C3', 'RX9V3C4', 'DRUGID10', 'PRESCR10', 'CONTSUB1', 'COMSTAT1', 'RX10CAT1', 'RX10CAT2', 'RX10CAT3', 'RX10CAT4', 'RX10V1C1', 'RX10V1C2', 'RX10V1C3', 'RX10V1C4', 'RX10V2C1', 'RX10V2C2', 'RX10V2C3', 'RX10V2C4', 'RX10V3C1', 'RX10V3C2', 'RX10V3C3', 'RX10V3C4', 'DRUGID11', 'PRESCR11', 'CONTSUB1', 'COMSTAT1', 'RX11CAT1', 'RX11CAT2', 'RX11CAT3', 'RX11CAT4', 'RX11V1C1', 'RX11V1C2', 'RX11V1C3', 'RX11V1C4', 'RX11V2C1', 'RX11V2C2', 'RX11V2C3', 'RX11V2C4', 'RX11V3C1', 'RX11V3C2', 'RX11V3C3', 'RX11V3C4', 'DRUGID12', 'PRESCR12', 'CONTSUB1', 'COMSTAT1', 'RX12CAT1', 'RX12CAT2', 'RX12CAT3', 'RX12CAT4', 'RX12V1C1', 'RX12V1C2', 'RX12V1C3', 'RX12V1C4', 'RX12V2C1', 'RX12V2C2', 'RX12V2C3', 'RX12V2C4', 'RX12V3C1', 'RX12V3C2', 'RX12V3C3', 'RX12V3C4', 'DRUGID13', 'PRESCR13', 'CONTSUB1', 'COMSTAT1', 'RX13CAT1', 'RX13CAT2', 'RX13CAT3', 'RX13CAT4', 'RX13V1C1', 'RX13V1C2', 'RX13V1C3', 'RX13V1C4', 'RX13V2C1', 'RX13V2C2', 'RX13V2C3', 'RX13V2C4', 'RX13V3C1', 'RX13V3C2', 'RX13V3C3', 'RX13V3C4', 'DRUGID14', 'PRESCR14', 'CONTSUB1', 'COMSTAT1', 'RX14CAT1', 'RX14CAT2', 'RX14CAT3', 'RX14CAT4', 'RX14V1C1', 'RX14V1C2', 'RX14V1C3', 'RX14V1C4', 'RX14V2C1', 'RX14V2C2', 'RX14V2C3', 'RX14V2C4', 'RX14V3C1', 'RX14V3C2', 'RX14V3C3', 'RX14V3C4', 'DRUGID15', 'PRESCR15', 'CONTSUB1', 'COMSTAT1', 'RX15CAT1', 'RX15CAT2', 'RX15CAT3', 'RX15CAT4', 'RX15V1C1', 'RX15V1C2', 'RX15V1C3', 'RX15V1C4', 'RX15V2C1', 'RX15V2C2', 'RX15V2C3', 'RX15V2C4', 'RX15V3C1', 'RX15V3C2', 'RX15V3C3', 'RX15V3C4', 'DRUGID16', 'PRESCR16', 'CONTSUB1', 'COMSTAT1', 'RX16CAT1', 'RX16CAT2', 'RX16CAT3', 'RX16CAT4', 'RX16V1C1', 'RX16V1C2', 'RX16V1C3', 'RX16V1C4', 'RX16V2C1', 'RX16V2C2', 'RX16V2C3', 'RX16V2C4', 'RX16V3C1', 'RX16V3C2', 'RX16V3C3', 'RX16V3C4', 'DRUGID17', 'PRESCR17', 'CONTSUB1', 'COMSTAT1', 'RX17CAT1', 'RX17CAT2', 'RX17CAT3', 'RX17CAT4', 'RX17V1C1', 'RX17V1C2', 'RX17V1C3', 'RX17V1C4', 'RX17V2C1', 'RX17V2C2', 'RX17V2C3', 'RX17V2C4', 'RX17V3C1', 'RX17V3C2', 'RX17V3C3', 'RX17V3C4', 'DRUGID18', 'PRESCR18', 'CONTSUB1', 'COMSTAT1', 'RX18CAT1', 'RX18CAT2', 'RX18CAT3', 'RX18CAT4', 'RX18V1C1', 'RX18V1C2', 'RX18V1C3', 'RX18V1C4', 'RX18V2C1', 'RX18V2C2', 'RX18V2C3', 'RX18V2C4', 'RX18V3C1', 'RX18V3C2', 'RX18V3C3', 'RX18V3C4', 'DRUGID19', 'PRESCR19', 'CONTSUB1', 'COMSTAT1', 'RX19CAT1', 'RX19CAT2', 'RX19CAT3', 'RX19CAT4', 'RX19V1C1', 'RX19V1C2', 'RX19V1C3', 'RX19V1C4', 'RX19V2C1', 'RX19V2C2', 'RX19V2C3', 'RX19V2C4', 'RX19V3C1', 'RX19V3C2', 'RX19V3C3', 'RX19V3C4', 'DRUGID20', 'PRESCR20', 'CONTSUB2', 'COMSTAT2', 'RX20CAT1', 'RX20CAT2', 'RX20CAT3', 'RX20CAT4', 'RX20V1C1', 'RX20V1C2', 'RX20V1C3', 'RX20V1C4', 'RX20V2C1', 'RX20V2C2', 'RX20V2C3', 'RX20V2C4', 'RX20V3C1', 'RX20V3C2', 'RX20V3C3', 'RX20V3C4', 'DRUGID21', 'PRESCR21', 'CONTSUB2', 'COMSTAT2', 'RX21CAT1', 'RX21CAT2', 'RX21CAT3', 'RX21CAT4', 'RX21V1C1', 'RX21V1C2', 'RX21V1C3', 'RX21V1C4', 'RX21V2C1', 'RX21V2C2', 'RX21V2C3', 'RX21V2C4', 'RX21V3C1', 'RX21V3C2', 'RX21V3C3', 'RX21V3C4', 'DRUGID22', 'PRESCR22', 'CONTSUB2', 'COMSTAT2', 'RX22CAT1', 'RX22CAT2', 'RX22CAT3', 'RX22CAT4', 'RX22V1C1', 'RX22V1C2', 'RX22V1C3', 'RX22V1C4', 'RX22V2C1', 'RX22V2C2', 'RX22V2C3', 'RX22V2C4', 'RX22V3C1', 'RX22V3C2', 'RX22V3C3', 'RX22V3C4', 'DRUGID23', 'PRESCR23', 'CONTSUB2', 'COMSTAT2', 'RX23CAT1', 'RX23CAT2', 'RX23CAT3', 'RX23CAT4', 'RX23V1C1', 'RX23V1C2', 'RX23V1C3', 'RX23V1C4', 'RX23V2C1', 'RX23V2C2', 'RX23V2C3', 'RX23V2C4', 'RX23V3C1', 'RX23V3C2', 'RX23V3C3', 'RX23V3C4', 'DRUGID24', 'PRESCR24', 'CONTSUB2', 'COMSTAT2', 'RX24CAT1', 'RX24CAT2', 'RX24CAT3', 'RX24CAT4', 'RX24V1C1', 'RX24V1C2', 'RX24V1C3', 'RX24V1C4', 'RX24V2C1', 'RX24V2C2', 'RX24V2C3', 'RX24V2C4', 'RX24V3C1', 'RX24V3C2', 'RX24V3C3', 'RX24V3C4', 'DRUGID25', 'PRESCR25', 'CONTSUB2', 'COMSTAT2', 'RX25CAT1', 'RX25CAT2', 'RX25CAT3', 'RX25CAT4', 'RX25V1C1', 'RX25V1C2', 'RX25V1C3', 'RX25V1C4', 'RX25V2C1', 'RX25V2C2', 'RX25V2C3', 'RX25V2C4', 'RX25V3C1', 'RX25V3C2', 'RX25V3C3', 'RX25V3C4', 'DRUGID26', 'PRESCR26', 'CONTSUB2', 'COMSTAT2', 'RX26CAT1', 'RX26CAT2', 'RX26CAT3', 'RX26CAT4', 'RX26V1C1', 'RX26V1C2', 'RX26V1C3', 'RX26V1C4', 'RX26V2C1', 'RX26V2C2', 'RX26V2C3', 'RX26V2C4', 'RX26V3C1', 'RX26V3C2', 'RX26V3C3', 'RX26V3C4', 'DRUGID27', 'PRESCR27', 'CONTSUB2', 'COMSTAT2', 'RX27CAT1', 'RX27CAT2', 'RX27CAT3', 'RX27CAT4', 'RX27V1C1', 'RX27V1C2', 'RX27V1C3', 'RX27V1C4', 'RX27V2C1', 'RX27V2C2', 'RX27V2C3', 'RX27V2C4', 'RX27V3C1', 'RX27V3C2', 'RX27V3C3', 'RX27V3C4', 'DRUGID28', 'PRESCR28', 'CONTSUB2', 'COMSTAT2', 'RX28CAT1', 'RX28CAT2', 'RX28CAT3', 'RX28CAT4', 'RX28V1C1', 'RX28V1C2', 'RX28V1C3', 'RX28V1C4', 'RX28V2C1', 'RX28V2C2', 'RX28V2C3', 'RX28V2C4', 'RX28V3C1', 'RX28V3C2', 'RX28V3C3', 'RX28V3C4', 'DRUGID29', 'PRESCR29', 'CONTSUB2', 'COMSTAT2', 'RX29CAT1', 'RX29CAT2', 'RX29CAT3', 'RX29CAT4', 'RX29V1C1', 'RX29V1C2', 'RX29V1C3', 'RX29V1C4', 'RX29V2C1', 'RX29V2C2', 'RX29V2C3', 'RX29V2C4', 'RX29V3C1', 'RX29V3C2', 'RX29V3C3', 'RX29V3C4', 'DRUGID30', 'PRESCR30', 'CONTSUB3', 'COMSTAT3', 'RX30CAT1', 'RX30CAT2', 'RX30CAT3', 'RX30CAT4', 'RX30V1C1', 'RX30V1C2', 'RX30V1C3', 'RX30V1C4', 'RX30V2C1', 'RX30V2C2', 'RX30V2C3', 'RX30V2C4', 'RX30V3C1', 'RX30V3C2', 'RX30V3C3', 'RX30V3C4', 'SETTYPE', 'YEAR', 'CSTRATM', 'CPSUM', 'PATWT', 'EDWT']\n",
      "------------------------------------------------------------------------------------------------------------\n",
      "\n",
      "\n",
      "For 9 -length prefixes, there are:\n",
      "['VMONTH', 'VDAYR', 'ARRTIME', 'WAITTIME', 'BLANK1', 'AGE', 'AGER', 'AGEDAYS', 'RESIDNCE', 'SEX', 'ETHUN', 'ETHIM', 'RACEUN', 'RACER', 'RACERETH', 'ARREMS', 'AMBTRANSF', 'NOPAY', 'PAYPRIV', 'PAYMCARE', 'PAYMCAID', 'PAYWKCMP', 'PAYSELF', 'PAYNOCHG', 'PAYOTH', 'PAYDK', 'PAYTYPER', 'TEMPF', 'PULSE', 'RESPR', 'BPSYS', 'BPDIAS', 'POPCT', 'IMMEDR', 'PAINSCALE', 'SEEN72', 'RFV1', 'RFV2', 'RFV3', 'RFV4', 'RFV5', 'RFV13D', 'RFV23D', 'RFV33D', 'RFV43D', 'RFV53D', 'EPISODE', 'INJURY', 'INJPOISAD', 'INJURY72', 'INTENT15', 'INJURY_EN', 'CAUSE1', 'CAUSE2', 'CAUSE3', 'DIAG1', 'DIAG2', 'DIAG3', 'DIAG4', 'DIAG5', 'PRDIAG1', 'PRDIAG2', 'PRDIAG3', 'PRDIAG4', 'PRDIAG5', 'ETOHAB', 'ALZHD', 'ASTHMA', 'CANCER', 'CEBVD', 'CKD', 'COPD', 'CHF', 'CAD', 'DEPRN', 'DIABTYP1', 'DIABTYP2', 'DIABTYP0', 'ESRD', 'HPE', 'EDHIV', 'HYPLIPID', 'HTN', 'OBESITY', 'OSA', 'OSTPRSIS', 'SUBSTAB', 'NOCHRON', 'TOTCHRON', 'DIAGSCRN', 'ABG', 'BAC', 'BMP', 'BNP', 'BUNCREAT', 'CARDENZ', 'CBC', 'CMP', 'BLOODCX', 'TRTCX', 'URINECX', 'WOUNDCX', 'OTHCX', 'DDIMER', 'ELECTROL', 'GLUCOSE', 'LACTATE', 'LFT', 'PTTINR', 'OTHERBLD', 'CARDMON', 'EKG', 'HIVTEST', 'FLUTEST', 'PREGTEST', 'TOXSCREN', 'URINE', 'OTHRTEST', 'ANYIMAGE', 'XRAY', 'CATSCAN', 'CTCONTRAS', 'CTAB', 'CTCHEST', 'CTHEAD', 'CTOTHER', 'CTUNK', 'MRI', 'MRICONTRA', 'ULTRASND', 'OTHIMAGE', 'TOTDIAG', 'PROC', 'BPAP', 'BLADCATH', 'CASTSPLIN', 'CENTLINE', 'CPR', 'ENDOINT', 'INCDRAIN', 'IVFLUIDS', 'LUMBAR', 'NEBUTHER', 'PELVIC', 'SKINADH', 'SUTURE', 'OTHPROC', 'TOTPROC', 'MED', 'MED1', 'MED2', 'MED3', 'MED4', 'MED5', 'MED6', 'MED7', 'MED8', 'MED9', 'MED10', 'MED11', 'MED12', 'MED13', 'MED14', 'MED15', 'MED16', 'MED17', 'MED18', 'MED19', 'MED20', 'MED21', 'MED22', 'MED23', 'MED24', 'MED25', 'MED26', 'MED27', 'MED28', 'MED29', 'MED30', 'GPMED1', 'GPMED2', 'GPMED3', 'GPMED4', 'GPMED5', 'GPMED6', 'GPMED7', 'GPMED8', 'GPMED9', 'GPMED10', 'GPMED11', 'GPMED12', 'GPMED13', 'GPMED14', 'GPMED15', 'GPMED16', 'GPMED17', 'GPMED18', 'GPMED19', 'GPMED20', 'GPMED21', 'GPMED22', 'GPMED23', 'GPMED24', 'GPMED25', 'GPMED26', 'GPMED27', 'GPMED28', 'GPMED29', 'GPMED30', 'NUMGIV', 'NUMDIS', 'NUMMED', 'VITALSD', 'TEMPDF', 'PULSED', 'RESPRD', 'BPSYSD', 'BPDIASD', 'NOPROVID', 'ATTPHYS', 'RESINT', 'CONSULT', 'RNLPN', 'NURSEPR', 'PHYSASST', 'EMT', 'MHPROV', 'OTHPROV', 'NODISP', 'NOFU', 'RETRNED', 'RETREFFU', 'LWBS', 'LBTC', 'LEFTAMA', 'DOA', 'DIEDED', 'TRANNH', 'TRANPSYC', 'TRANOTH', 'ADMITHOS', 'OBSHOS', 'OBSDIS', 'OTHDISP', 'ADMIT', 'ADMTPHYS', 'BLANK2', 'HDDIAG1', 'HDDIAG2', 'HDDIAG3', 'HDDIAG4', 'HDDIAG5', 'HDSTAT', 'ADISP', 'BLANK3', 'BLANK4', 'AGEFL', 'BDATEFL', 'SEXFL', 'ETHNICFL', 'RACERFL', 'HOSPCODE', 'PATCODE', 'EBILLANYE', 'EMRED', 'HHSMUE', 'EHRINSE', 'EDEMOGER', 'EPROLSTER', 'EPNOTESER', 'EMEDALGER', 'EMEDIDER', 'EREMINDER', 'ECPOEER', 'ESCRIPER', 'EWARNER', 'ECONTR', 'ECONTSCRI', 'ECTOEER', 'ERESULTER', 'ERADIER', 'EIMGRESER', 'EIDPTER', 'EGENLISTE', 'EDATAREPE', 'ESUMER', 'EMSGER', 'ESHAREE', 'ESHARESE', 'ESHARERE', 'EDISCHSRE', 'EDISCHSRE', 'EDISCHSRE', 'EEDSRE1', 'EEDSRE2', 'EEDSRE3', 'ESUMCSRE1', 'ESUMCSRE2', 'ESUMCSRE3', 'PTONLINEE', 'PTONLINEE', 'PTONLINEE', 'PTONLINEE', 'PTONLINEE', 'PTONLINEE', 'EDPRIM', 'EDINFO', 'OBSCLIN', 'OBSSEP', 'OBSPHYSED', 'OBSHOSP', 'OBSPHYSOT', 'OBSPHYSUN', 'BOARD', 'BOARDHOS', 'AMBDIV', 'TOTHRDIVR', 'REGDIV', 'ADMDIV', 'INCSHX', 'INCPHYS', 'EXPSPACE', 'BEDREG', 'KIOSELCHK', 'CATRIAGE', 'IMBED', 'ADVTRIAG', 'PHYSPRACT', 'FASTTRAK', 'EDPTOR', 'DASHBORD', 'RFID', 'WIRELESS', 'ZONENURS', 'POOLNURS', 'SURGDAY', 'BEDCZAR', 'BEDDATA', 'HLIST', 'HLISTED', 'EMEDRES', 'REGION', 'MSA', 'DRUGID1', 'PRESCR1', 'CONTSUB1', 'COMSTAT1', 'RX1CAT1', 'RX1CAT2', 'RX1CAT3', 'RX1CAT4', 'RX1V1C1', 'RX1V1C2', 'RX1V1C3', 'RX1V1C4', 'RX1V2C1', 'RX1V2C2', 'RX1V2C3', 'RX1V2C4', 'RX1V3C1', 'RX1V3C2', 'RX1V3C3', 'RX1V3C4', 'DRUGID2', 'PRESCR2', 'CONTSUB2', 'COMSTAT2', 'RX2CAT1', 'RX2CAT2', 'RX2CAT3', 'RX2CAT4', 'RX2V1C1', 'RX2V1C2', 'RX2V1C3', 'RX2V1C4', 'RX2V2C1', 'RX2V2C2', 'RX2V2C3', 'RX2V2C4', 'RX2V3C1', 'RX2V3C2', 'RX2V3C3', 'RX2V3C4', 'DRUGID3', 'PRESCR3', 'CONTSUB3', 'COMSTAT3', 'RX3CAT1', 'RX3CAT2', 'RX3CAT3', 'RX3CAT4', 'RX3V1C1', 'RX3V1C2', 'RX3V1C3', 'RX3V1C4', 'RX3V2C1', 'RX3V2C2', 'RX3V2C3', 'RX3V2C4', 'RX3V3C1', 'RX3V3C2', 'RX3V3C3', 'RX3V3C4', 'DRUGID4', 'PRESCR4', 'CONTSUB4', 'COMSTAT4', 'RX4CAT1', 'RX4CAT2', 'RX4CAT3', 'RX4CAT4', 'RX4V1C1', 'RX4V1C2', 'RX4V1C3', 'RX4V1C4', 'RX4V2C1', 'RX4V2C2', 'RX4V2C3', 'RX4V2C4', 'RX4V3C1', 'RX4V3C2', 'RX4V3C3', 'RX4V3C4', 'DRUGID5', 'PRESCR5', 'CONTSUB5', 'COMSTAT5', 'RX5CAT1', 'RX5CAT2', 'RX5CAT3', 'RX5CAT4', 'RX5V1C1', 'RX5V1C2', 'RX5V1C3', 'RX5V1C4', 'RX5V2C1', 'RX5V2C2', 'RX5V2C3', 'RX5V2C4', 'RX5V3C1', 'RX5V3C2', 'RX5V3C3', 'RX5V3C4', 'DRUGID6', 'PRESCR6', 'CONTSUB6', 'COMSTAT6', 'RX6CAT1', 'RX6CAT2', 'RX6CAT3', 'RX6CAT4', 'RX6V1C1', 'RX6V1C2', 'RX6V1C3', 'RX6V1C4', 'RX6V2C1', 'RX6V2C2', 'RX6V2C3', 'RX6V2C4', 'RX6V3C1', 'RX6V3C2', 'RX6V3C3', 'RX6V3C4', 'DRUGID7', 'PRESCR7', 'CONTSUB7', 'COMSTAT7', 'RX7CAT1', 'RX7CAT2', 'RX7CAT3', 'RX7CAT4', 'RX7V1C1', 'RX7V1C2', 'RX7V1C3', 'RX7V1C4', 'RX7V2C1', 'RX7V2C2', 'RX7V2C3', 'RX7V2C4', 'RX7V3C1', 'RX7V3C2', 'RX7V3C3', 'RX7V3C4', 'DRUGID8', 'PRESCR8', 'CONTSUB8', 'COMSTAT8', 'RX8CAT1', 'RX8CAT2', 'RX8CAT3', 'RX8CAT4', 'RX8V1C1', 'RX8V1C2', 'RX8V1C3', 'RX8V1C4', 'RX8V2C1', 'RX8V2C2', 'RX8V2C3', 'RX8V2C4', 'RX8V3C1', 'RX8V3C2', 'RX8V3C3', 'RX8V3C4', 'DRUGID9', 'PRESCR9', 'CONTSUB9', 'COMSTAT9', 'RX9CAT1', 'RX9CAT2', 'RX9CAT3', 'RX9CAT4', 'RX9V1C1', 'RX9V1C2', 'RX9V1C3', 'RX9V1C4', 'RX9V2C1', 'RX9V2C2', 'RX9V2C3', 'RX9V2C4', 'RX9V3C1', 'RX9V3C2', 'RX9V3C3', 'RX9V3C4', 'DRUGID10', 'PRESCR10', 'CONTSUB10', 'COMSTAT10', 'RX10CAT1', 'RX10CAT2', 'RX10CAT3', 'RX10CAT4', 'RX10V1C1', 'RX10V1C2', 'RX10V1C3', 'RX10V1C4', 'RX10V2C1', 'RX10V2C2', 'RX10V2C3', 'RX10V2C4', 'RX10V3C1', 'RX10V3C2', 'RX10V3C3', 'RX10V3C4', 'DRUGID11', 'PRESCR11', 'CONTSUB11', 'COMSTAT11', 'RX11CAT1', 'RX11CAT2', 'RX11CAT3', 'RX11CAT4', 'RX11V1C1', 'RX11V1C2', 'RX11V1C3', 'RX11V1C4', 'RX11V2C1', 'RX11V2C2', 'RX11V2C3', 'RX11V2C4', 'RX11V3C1', 'RX11V3C2', 'RX11V3C3', 'RX11V3C4', 'DRUGID12', 'PRESCR12', 'CONTSUB12', 'COMSTAT12', 'RX12CAT1', 'RX12CAT2', 'RX12CAT3', 'RX12CAT4', 'RX12V1C1', 'RX12V1C2', 'RX12V1C3', 'RX12V1C4', 'RX12V2C1', 'RX12V2C2', 'RX12V2C3', 'RX12V2C4', 'RX12V3C1', 'RX12V3C2', 'RX12V3C3', 'RX12V3C4', 'DRUGID13', 'PRESCR13', 'CONTSUB13', 'COMSTAT13', 'RX13CAT1', 'RX13CAT2', 'RX13CAT3', 'RX13CAT4', 'RX13V1C1', 'RX13V1C2', 'RX13V1C3', 'RX13V1C4', 'RX13V2C1', 'RX13V2C2', 'RX13V2C3', 'RX13V2C4', 'RX13V3C1', 'RX13V3C2', 'RX13V3C3', 'RX13V3C4', 'DRUGID14', 'PRESCR14', 'CONTSUB14', 'COMSTAT14', 'RX14CAT1', 'RX14CAT2', 'RX14CAT3', 'RX14CAT4', 'RX14V1C1', 'RX14V1C2', 'RX14V1C3', 'RX14V1C4', 'RX14V2C1', 'RX14V2C2', 'RX14V2C3', 'RX14V2C4', 'RX14V3C1', 'RX14V3C2', 'RX14V3C3', 'RX14V3C4', 'DRUGID15', 'PRESCR15', 'CONTSUB15', 'COMSTAT15', 'RX15CAT1', 'RX15CAT2', 'RX15CAT3', 'RX15CAT4', 'RX15V1C1', 'RX15V1C2', 'RX15V1C3', 'RX15V1C4', 'RX15V2C1', 'RX15V2C2', 'RX15V2C3', 'RX15V2C4', 'RX15V3C1', 'RX15V3C2', 'RX15V3C3', 'RX15V3C4', 'DRUGID16', 'PRESCR16', 'CONTSUB16', 'COMSTAT16', 'RX16CAT1', 'RX16CAT2', 'RX16CAT3', 'RX16CAT4', 'RX16V1C1', 'RX16V1C2', 'RX16V1C3', 'RX16V1C4', 'RX16V2C1', 'RX16V2C2', 'RX16V2C3', 'RX16V2C4', 'RX16V3C1', 'RX16V3C2', 'RX16V3C3', 'RX16V3C4', 'DRUGID17', 'PRESCR17', 'CONTSUB17', 'COMSTAT17', 'RX17CAT1', 'RX17CAT2', 'RX17CAT3', 'RX17CAT4', 'RX17V1C1', 'RX17V1C2', 'RX17V1C3', 'RX17V1C4', 'RX17V2C1', 'RX17V2C2', 'RX17V2C3', 'RX17V2C4', 'RX17V3C1', 'RX17V3C2', 'RX17V3C3', 'RX17V3C4', 'DRUGID18', 'PRESCR18', 'CONTSUB18', 'COMSTAT18', 'RX18CAT1', 'RX18CAT2', 'RX18CAT3', 'RX18CAT4', 'RX18V1C1', 'RX18V1C2', 'RX18V1C3', 'RX18V1C4', 'RX18V2C1', 'RX18V2C2', 'RX18V2C3', 'RX18V2C4', 'RX18V3C1', 'RX18V3C2', 'RX18V3C3', 'RX18V3C4', 'DRUGID19', 'PRESCR19', 'CONTSUB19', 'COMSTAT19', 'RX19CAT1', 'RX19CAT2', 'RX19CAT3', 'RX19CAT4', 'RX19V1C1', 'RX19V1C2', 'RX19V1C3', 'RX19V1C4', 'RX19V2C1', 'RX19V2C2', 'RX19V2C3', 'RX19V2C4', 'RX19V3C1', 'RX19V3C2', 'RX19V3C3', 'RX19V3C4', 'DRUGID20', 'PRESCR20', 'CONTSUB20', 'COMSTAT20', 'RX20CAT1', 'RX20CAT2', 'RX20CAT3', 'RX20CAT4', 'RX20V1C1', 'RX20V1C2', 'RX20V1C3', 'RX20V1C4', 'RX20V2C1', 'RX20V2C2', 'RX20V2C3', 'RX20V2C4', 'RX20V3C1', 'RX20V3C2', 'RX20V3C3', 'RX20V3C4', 'DRUGID21', 'PRESCR21', 'CONTSUB21', 'COMSTAT21', 'RX21CAT1', 'RX21CAT2', 'RX21CAT3', 'RX21CAT4', 'RX21V1C1', 'RX21V1C2', 'RX21V1C3', 'RX21V1C4', 'RX21V2C1', 'RX21V2C2', 'RX21V2C3', 'RX21V2C4', 'RX21V3C1', 'RX21V3C2', 'RX21V3C3', 'RX21V3C4', 'DRUGID22', 'PRESCR22', 'CONTSUB22', 'COMSTAT22', 'RX22CAT1', 'RX22CAT2', 'RX22CAT3', 'RX22CAT4', 'RX22V1C1', 'RX22V1C2', 'RX22V1C3', 'RX22V1C4', 'RX22V2C1', 'RX22V2C2', 'RX22V2C3', 'RX22V2C4', 'RX22V3C1', 'RX22V3C2', 'RX22V3C3', 'RX22V3C4', 'DRUGID23', 'PRESCR23', 'CONTSUB23', 'COMSTAT23', 'RX23CAT1', 'RX23CAT2', 'RX23CAT3', 'RX23CAT4', 'RX23V1C1', 'RX23V1C2', 'RX23V1C3', 'RX23V1C4', 'RX23V2C1', 'RX23V2C2', 'RX23V2C3', 'RX23V2C4', 'RX23V3C1', 'RX23V3C2', 'RX23V3C3', 'RX23V3C4', 'DRUGID24', 'PRESCR24', 'CONTSUB24', 'COMSTAT24', 'RX24CAT1', 'RX24CAT2', 'RX24CAT3', 'RX24CAT4', 'RX24V1C1', 'RX24V1C2', 'RX24V1C3', 'RX24V1C4', 'RX24V2C1', 'RX24V2C2', 'RX24V2C3', 'RX24V2C4', 'RX24V3C1', 'RX24V3C2', 'RX24V3C3', 'RX24V3C4', 'DRUGID25', 'PRESCR25', 'CONTSUB25', 'COMSTAT25', 'RX25CAT1', 'RX25CAT2', 'RX25CAT3', 'RX25CAT4', 'RX25V1C1', 'RX25V1C2', 'RX25V1C3', 'RX25V1C4', 'RX25V2C1', 'RX25V2C2', 'RX25V2C3', 'RX25V2C4', 'RX25V3C1', 'RX25V3C2', 'RX25V3C3', 'RX25V3C4', 'DRUGID26', 'PRESCR26', 'CONTSUB26', 'COMSTAT26', 'RX26CAT1', 'RX26CAT2', 'RX26CAT3', 'RX26CAT4', 'RX26V1C1', 'RX26V1C2', 'RX26V1C3', 'RX26V1C4', 'RX26V2C1', 'RX26V2C2', 'RX26V2C3', 'RX26V2C4', 'RX26V3C1', 'RX26V3C2', 'RX26V3C3', 'RX26V3C4', 'DRUGID27', 'PRESCR27', 'CONTSUB27', 'COMSTAT27', 'RX27CAT1', 'RX27CAT2', 'RX27CAT3', 'RX27CAT4', 'RX27V1C1', 'RX27V1C2', 'RX27V1C3', 'RX27V1C4', 'RX27V2C1', 'RX27V2C2', 'RX27V2C3', 'RX27V2C4', 'RX27V3C1', 'RX27V3C2', 'RX27V3C3', 'RX27V3C4', 'DRUGID28', 'PRESCR28', 'CONTSUB28', 'COMSTAT28', 'RX28CAT1', 'RX28CAT2', 'RX28CAT3', 'RX28CAT4', 'RX28V1C1', 'RX28V1C2', 'RX28V1C3', 'RX28V1C4', 'RX28V2C1', 'RX28V2C2', 'RX28V2C3', 'RX28V2C4', 'RX28V3C1', 'RX28V3C2', 'RX28V3C3', 'RX28V3C4', 'DRUGID29', 'PRESCR29', 'CONTSUB29', 'COMSTAT29', 'RX29CAT1', 'RX29CAT2', 'RX29CAT3', 'RX29CAT4', 'RX29V1C1', 'RX29V1C2', 'RX29V1C3', 'RX29V1C4', 'RX29V2C1', 'RX29V2C2', 'RX29V2C3', 'RX29V2C4', 'RX29V3C1', 'RX29V3C2', 'RX29V3C3', 'RX29V3C4', 'DRUGID30', 'PRESCR30', 'CONTSUB30', 'COMSTAT30', 'RX30CAT1', 'RX30CAT2', 'RX30CAT3', 'RX30CAT4', 'RX30V1C1', 'RX30V1C2', 'RX30V1C3', 'RX30V1C4', 'RX30V2C1', 'RX30V2C2', 'RX30V2C3', 'RX30V2C4', 'RX30V3C1', 'RX30V3C2', 'RX30V3C3', 'RX30V3C4', 'SETTYPE', 'YEAR', 'CSTRATM', 'CPSUM', 'PATWT', 'EDWT']\n",
      "------------------------------------------------------------------------------------------------------------\n",
      "\n",
      "\n",
      "For 10 -length prefixes, there are:\n",
      "['VMONTH', 'VDAYR', 'ARRTIME', 'WAITTIME', 'BLANK1', 'AGE', 'AGER', 'AGEDAYS', 'RESIDNCE', 'SEX', 'ETHUN', 'ETHIM', 'RACEUN', 'RACER', 'RACERETH', 'ARREMS', 'AMBTRANSFE', 'NOPAY', 'PAYPRIV', 'PAYMCARE', 'PAYMCAID', 'PAYWKCMP', 'PAYSELF', 'PAYNOCHG', 'PAYOTH', 'PAYDK', 'PAYTYPER', 'TEMPF', 'PULSE', 'RESPR', 'BPSYS', 'BPDIAS', 'POPCT', 'IMMEDR', 'PAINSCALE', 'SEEN72', 'RFV1', 'RFV2', 'RFV3', 'RFV4', 'RFV5', 'RFV13D', 'RFV23D', 'RFV33D', 'RFV43D', 'RFV53D', 'EPISODE', 'INJURY', 'INJPOISAD', 'INJURY72', 'INTENT15', 'INJURY_ENC', 'CAUSE1', 'CAUSE2', 'CAUSE3', 'DIAG1', 'DIAG2', 'DIAG3', 'DIAG4', 'DIAG5', 'PRDIAG1', 'PRDIAG2', 'PRDIAG3', 'PRDIAG4', 'PRDIAG5', 'ETOHAB', 'ALZHD', 'ASTHMA', 'CANCER', 'CEBVD', 'CKD', 'COPD', 'CHF', 'CAD', 'DEPRN', 'DIABTYP1', 'DIABTYP2', 'DIABTYP0', 'ESRD', 'HPE', 'EDHIV', 'HYPLIPID', 'HTN', 'OBESITY', 'OSA', 'OSTPRSIS', 'SUBSTAB', 'NOCHRON', 'TOTCHRON', 'DIAGSCRN', 'ABG', 'BAC', 'BMP', 'BNP', 'BUNCREAT', 'CARDENZ', 'CBC', 'CMP', 'BLOODCX', 'TRTCX', 'URINECX', 'WOUNDCX', 'OTHCX', 'DDIMER', 'ELECTROL', 'GLUCOSE', 'LACTATE', 'LFT', 'PTTINR', 'OTHERBLD', 'CARDMON', 'EKG', 'HIVTEST', 'FLUTEST', 'PREGTEST', 'TOXSCREN', 'URINE', 'OTHRTEST', 'ANYIMAGE', 'XRAY', 'CATSCAN', 'CTCONTRAST', 'CTAB', 'CTCHEST', 'CTHEAD', 'CTOTHER', 'CTUNK', 'MRI', 'MRICONTRAS', 'ULTRASND', 'OTHIMAGE', 'TOTDIAG', 'PROC', 'BPAP', 'BLADCATH', 'CASTSPLINT', 'CENTLINE', 'CPR', 'ENDOINT', 'INCDRAIN', 'IVFLUIDS', 'LUMBAR', 'NEBUTHER', 'PELVIC', 'SKINADH', 'SUTURE', 'OTHPROC', 'TOTPROC', 'MED', 'MED1', 'MED2', 'MED3', 'MED4', 'MED5', 'MED6', 'MED7', 'MED8', 'MED9', 'MED10', 'MED11', 'MED12', 'MED13', 'MED14', 'MED15', 'MED16', 'MED17', 'MED18', 'MED19', 'MED20', 'MED21', 'MED22', 'MED23', 'MED24', 'MED25', 'MED26', 'MED27', 'MED28', 'MED29', 'MED30', 'GPMED1', 'GPMED2', 'GPMED3', 'GPMED4', 'GPMED5', 'GPMED6', 'GPMED7', 'GPMED8', 'GPMED9', 'GPMED10', 'GPMED11', 'GPMED12', 'GPMED13', 'GPMED14', 'GPMED15', 'GPMED16', 'GPMED17', 'GPMED18', 'GPMED19', 'GPMED20', 'GPMED21', 'GPMED22', 'GPMED23', 'GPMED24', 'GPMED25', 'GPMED26', 'GPMED27', 'GPMED28', 'GPMED29', 'GPMED30', 'NUMGIV', 'NUMDIS', 'NUMMED', 'VITALSD', 'TEMPDF', 'PULSED', 'RESPRD', 'BPSYSD', 'BPDIASD', 'NOPROVID', 'ATTPHYS', 'RESINT', 'CONSULT', 'RNLPN', 'NURSEPR', 'PHYSASST', 'EMT', 'MHPROV', 'OTHPROV', 'NODISP', 'NOFU', 'RETRNED', 'RETREFFU', 'LWBS', 'LBTC', 'LEFTAMA', 'DOA', 'DIEDED', 'TRANNH', 'TRANPSYC', 'TRANOTH', 'ADMITHOS', 'OBSHOS', 'OBSDIS', 'OTHDISP', 'ADMIT', 'ADMTPHYS', 'BLANK2', 'HDDIAG1', 'HDDIAG2', 'HDDIAG3', 'HDDIAG4', 'HDDIAG5', 'HDSTAT', 'ADISP', 'BLANK3', 'BLANK4', 'AGEFL', 'BDATEFL', 'SEXFL', 'ETHNICFL', 'RACERFL', 'HOSPCODE', 'PATCODE', 'EBILLANYE', 'EMRED', 'HHSMUE', 'EHRINSE', 'EDEMOGER', 'EPROLSTER', 'EPNOTESER', 'EMEDALGER', 'EMEDIDER', 'EREMINDER', 'ECPOEER', 'ESCRIPER', 'EWARNER', 'ECONTR', 'ECONTSCRIP', 'ECTOEER', 'ERESULTER', 'ERADIER', 'EIMGRESER', 'EIDPTER', 'EGENLISTER', 'EDATAREPER', 'ESUMER', 'EMSGER', 'ESHAREE', 'ESHARESE', 'ESHARERE', 'EDISCHSRE1', 'EDISCHSRE2', 'EDISCHSRE3', 'EEDSRE1', 'EEDSRE2', 'EEDSRE3', 'ESUMCSRE1', 'ESUMCSRE2', 'ESUMCSRE3', 'PTONLINEE1', 'PTONLINEE2', 'PTONLINEE3', 'PTONLINEE4', 'PTONLINEE5', 'PTONLINEE6', 'EDPRIM', 'EDINFO', 'OBSCLIN', 'OBSSEP', 'OBSPHYSED', 'OBSHOSP', 'OBSPHYSOT', 'OBSPHYSUN', 'BOARD', 'BOARDHOS', 'AMBDIV', 'TOTHRDIVR', 'REGDIV', 'ADMDIV', 'INCSHX', 'INCPHYS', 'EXPSPACE', 'BEDREG', 'KIOSELCHK', 'CATRIAGE', 'IMBED', 'ADVTRIAG', 'PHYSPRACTR', 'FASTTRAK', 'EDPTOR', 'DASHBORD', 'RFID', 'WIRELESS', 'ZONENURS', 'POOLNURS', 'SURGDAY', 'BEDCZAR', 'BEDDATA', 'HLIST', 'HLISTED', 'EMEDRES', 'REGION', 'MSA', 'DRUGID1', 'PRESCR1', 'CONTSUB1', 'COMSTAT1', 'RX1CAT1', 'RX1CAT2', 'RX1CAT3', 'RX1CAT4', 'RX1V1C1', 'RX1V1C2', 'RX1V1C3', 'RX1V1C4', 'RX1V2C1', 'RX1V2C2', 'RX1V2C3', 'RX1V2C4', 'RX1V3C1', 'RX1V3C2', 'RX1V3C3', 'RX1V3C4', 'DRUGID2', 'PRESCR2', 'CONTSUB2', 'COMSTAT2', 'RX2CAT1', 'RX2CAT2', 'RX2CAT3', 'RX2CAT4', 'RX2V1C1', 'RX2V1C2', 'RX2V1C3', 'RX2V1C4', 'RX2V2C1', 'RX2V2C2', 'RX2V2C3', 'RX2V2C4', 'RX2V3C1', 'RX2V3C2', 'RX2V3C3', 'RX2V3C4', 'DRUGID3', 'PRESCR3', 'CONTSUB3', 'COMSTAT3', 'RX3CAT1', 'RX3CAT2', 'RX3CAT3', 'RX3CAT4', 'RX3V1C1', 'RX3V1C2', 'RX3V1C3', 'RX3V1C4', 'RX3V2C1', 'RX3V2C2', 'RX3V2C3', 'RX3V2C4', 'RX3V3C1', 'RX3V3C2', 'RX3V3C3', 'RX3V3C4', 'DRUGID4', 'PRESCR4', 'CONTSUB4', 'COMSTAT4', 'RX4CAT1', 'RX4CAT2', 'RX4CAT3', 'RX4CAT4', 'RX4V1C1', 'RX4V1C2', 'RX4V1C3', 'RX4V1C4', 'RX4V2C1', 'RX4V2C2', 'RX4V2C3', 'RX4V2C4', 'RX4V3C1', 'RX4V3C2', 'RX4V3C3', 'RX4V3C4', 'DRUGID5', 'PRESCR5', 'CONTSUB5', 'COMSTAT5', 'RX5CAT1', 'RX5CAT2', 'RX5CAT3', 'RX5CAT4', 'RX5V1C1', 'RX5V1C2', 'RX5V1C3', 'RX5V1C4', 'RX5V2C1', 'RX5V2C2', 'RX5V2C3', 'RX5V2C4', 'RX5V3C1', 'RX5V3C2', 'RX5V3C3', 'RX5V3C4', 'DRUGID6', 'PRESCR6', 'CONTSUB6', 'COMSTAT6', 'RX6CAT1', 'RX6CAT2', 'RX6CAT3', 'RX6CAT4', 'RX6V1C1', 'RX6V1C2', 'RX6V1C3', 'RX6V1C4', 'RX6V2C1', 'RX6V2C2', 'RX6V2C3', 'RX6V2C4', 'RX6V3C1', 'RX6V3C2', 'RX6V3C3', 'RX6V3C4', 'DRUGID7', 'PRESCR7', 'CONTSUB7', 'COMSTAT7', 'RX7CAT1', 'RX7CAT2', 'RX7CAT3', 'RX7CAT4', 'RX7V1C1', 'RX7V1C2', 'RX7V1C3', 'RX7V1C4', 'RX7V2C1', 'RX7V2C2', 'RX7V2C3', 'RX7V2C4', 'RX7V3C1', 'RX7V3C2', 'RX7V3C3', 'RX7V3C4', 'DRUGID8', 'PRESCR8', 'CONTSUB8', 'COMSTAT8', 'RX8CAT1', 'RX8CAT2', 'RX8CAT3', 'RX8CAT4', 'RX8V1C1', 'RX8V1C2', 'RX8V1C3', 'RX8V1C4', 'RX8V2C1', 'RX8V2C2', 'RX8V2C3', 'RX8V2C4', 'RX8V3C1', 'RX8V3C2', 'RX8V3C3', 'RX8V3C4', 'DRUGID9', 'PRESCR9', 'CONTSUB9', 'COMSTAT9', 'RX9CAT1', 'RX9CAT2', 'RX9CAT3', 'RX9CAT4', 'RX9V1C1', 'RX9V1C2', 'RX9V1C3', 'RX9V1C4', 'RX9V2C1', 'RX9V2C2', 'RX9V2C3', 'RX9V2C4', 'RX9V3C1', 'RX9V3C2', 'RX9V3C3', 'RX9V3C4', 'DRUGID10', 'PRESCR10', 'CONTSUB10', 'COMSTAT10', 'RX10CAT1', 'RX10CAT2', 'RX10CAT3', 'RX10CAT4', 'RX10V1C1', 'RX10V1C2', 'RX10V1C3', 'RX10V1C4', 'RX10V2C1', 'RX10V2C2', 'RX10V2C3', 'RX10V2C4', 'RX10V3C1', 'RX10V3C2', 'RX10V3C3', 'RX10V3C4', 'DRUGID11', 'PRESCR11', 'CONTSUB11', 'COMSTAT11', 'RX11CAT1', 'RX11CAT2', 'RX11CAT3', 'RX11CAT4', 'RX11V1C1', 'RX11V1C2', 'RX11V1C3', 'RX11V1C4', 'RX11V2C1', 'RX11V2C2', 'RX11V2C3', 'RX11V2C4', 'RX11V3C1', 'RX11V3C2', 'RX11V3C3', 'RX11V3C4', 'DRUGID12', 'PRESCR12', 'CONTSUB12', 'COMSTAT12', 'RX12CAT1', 'RX12CAT2', 'RX12CAT3', 'RX12CAT4', 'RX12V1C1', 'RX12V1C2', 'RX12V1C3', 'RX12V1C4', 'RX12V2C1', 'RX12V2C2', 'RX12V2C3', 'RX12V2C4', 'RX12V3C1', 'RX12V3C2', 'RX12V3C3', 'RX12V3C4', 'DRUGID13', 'PRESCR13', 'CONTSUB13', 'COMSTAT13', 'RX13CAT1', 'RX13CAT2', 'RX13CAT3', 'RX13CAT4', 'RX13V1C1', 'RX13V1C2', 'RX13V1C3', 'RX13V1C4', 'RX13V2C1', 'RX13V2C2', 'RX13V2C3', 'RX13V2C4', 'RX13V3C1', 'RX13V3C2', 'RX13V3C3', 'RX13V3C4', 'DRUGID14', 'PRESCR14', 'CONTSUB14', 'COMSTAT14', 'RX14CAT1', 'RX14CAT2', 'RX14CAT3', 'RX14CAT4', 'RX14V1C1', 'RX14V1C2', 'RX14V1C3', 'RX14V1C4', 'RX14V2C1', 'RX14V2C2', 'RX14V2C3', 'RX14V2C4', 'RX14V3C1', 'RX14V3C2', 'RX14V3C3', 'RX14V3C4', 'DRUGID15', 'PRESCR15', 'CONTSUB15', 'COMSTAT15', 'RX15CAT1', 'RX15CAT2', 'RX15CAT3', 'RX15CAT4', 'RX15V1C1', 'RX15V1C2', 'RX15V1C3', 'RX15V1C4', 'RX15V2C1', 'RX15V2C2', 'RX15V2C3', 'RX15V2C4', 'RX15V3C1', 'RX15V3C2', 'RX15V3C3', 'RX15V3C4', 'DRUGID16', 'PRESCR16', 'CONTSUB16', 'COMSTAT16', 'RX16CAT1', 'RX16CAT2', 'RX16CAT3', 'RX16CAT4', 'RX16V1C1', 'RX16V1C2', 'RX16V1C3', 'RX16V1C4', 'RX16V2C1', 'RX16V2C2', 'RX16V2C3', 'RX16V2C4', 'RX16V3C1', 'RX16V3C2', 'RX16V3C3', 'RX16V3C4', 'DRUGID17', 'PRESCR17', 'CONTSUB17', 'COMSTAT17', 'RX17CAT1', 'RX17CAT2', 'RX17CAT3', 'RX17CAT4', 'RX17V1C1', 'RX17V1C2', 'RX17V1C3', 'RX17V1C4', 'RX17V2C1', 'RX17V2C2', 'RX17V2C3', 'RX17V2C4', 'RX17V3C1', 'RX17V3C2', 'RX17V3C3', 'RX17V3C4', 'DRUGID18', 'PRESCR18', 'CONTSUB18', 'COMSTAT18', 'RX18CAT1', 'RX18CAT2', 'RX18CAT3', 'RX18CAT4', 'RX18V1C1', 'RX18V1C2', 'RX18V1C3', 'RX18V1C4', 'RX18V2C1', 'RX18V2C2', 'RX18V2C3', 'RX18V2C4', 'RX18V3C1', 'RX18V3C2', 'RX18V3C3', 'RX18V3C4', 'DRUGID19', 'PRESCR19', 'CONTSUB19', 'COMSTAT19', 'RX19CAT1', 'RX19CAT2', 'RX19CAT3', 'RX19CAT4', 'RX19V1C1', 'RX19V1C2', 'RX19V1C3', 'RX19V1C4', 'RX19V2C1', 'RX19V2C2', 'RX19V2C3', 'RX19V2C4', 'RX19V3C1', 'RX19V3C2', 'RX19V3C3', 'RX19V3C4', 'DRUGID20', 'PRESCR20', 'CONTSUB20', 'COMSTAT20', 'RX20CAT1', 'RX20CAT2', 'RX20CAT3', 'RX20CAT4', 'RX20V1C1', 'RX20V1C2', 'RX20V1C3', 'RX20V1C4', 'RX20V2C1', 'RX20V2C2', 'RX20V2C3', 'RX20V2C4', 'RX20V3C1', 'RX20V3C2', 'RX20V3C3', 'RX20V3C4', 'DRUGID21', 'PRESCR21', 'CONTSUB21', 'COMSTAT21', 'RX21CAT1', 'RX21CAT2', 'RX21CAT3', 'RX21CAT4', 'RX21V1C1', 'RX21V1C2', 'RX21V1C3', 'RX21V1C4', 'RX21V2C1', 'RX21V2C2', 'RX21V2C3', 'RX21V2C4', 'RX21V3C1', 'RX21V3C2', 'RX21V3C3', 'RX21V3C4', 'DRUGID22', 'PRESCR22', 'CONTSUB22', 'COMSTAT22', 'RX22CAT1', 'RX22CAT2', 'RX22CAT3', 'RX22CAT4', 'RX22V1C1', 'RX22V1C2', 'RX22V1C3', 'RX22V1C4', 'RX22V2C1', 'RX22V2C2', 'RX22V2C3', 'RX22V2C4', 'RX22V3C1', 'RX22V3C2', 'RX22V3C3', 'RX22V3C4', 'DRUGID23', 'PRESCR23', 'CONTSUB23', 'COMSTAT23', 'RX23CAT1', 'RX23CAT2', 'RX23CAT3', 'RX23CAT4', 'RX23V1C1', 'RX23V1C2', 'RX23V1C3', 'RX23V1C4', 'RX23V2C1', 'RX23V2C2', 'RX23V2C3', 'RX23V2C4', 'RX23V3C1', 'RX23V3C2', 'RX23V3C3', 'RX23V3C4', 'DRUGID24', 'PRESCR24', 'CONTSUB24', 'COMSTAT24', 'RX24CAT1', 'RX24CAT2', 'RX24CAT3', 'RX24CAT4', 'RX24V1C1', 'RX24V1C2', 'RX24V1C3', 'RX24V1C4', 'RX24V2C1', 'RX24V2C2', 'RX24V2C3', 'RX24V2C4', 'RX24V3C1', 'RX24V3C2', 'RX24V3C3', 'RX24V3C4', 'DRUGID25', 'PRESCR25', 'CONTSUB25', 'COMSTAT25', 'RX25CAT1', 'RX25CAT2', 'RX25CAT3', 'RX25CAT4', 'RX25V1C1', 'RX25V1C2', 'RX25V1C3', 'RX25V1C4', 'RX25V2C1', 'RX25V2C2', 'RX25V2C3', 'RX25V2C4', 'RX25V3C1', 'RX25V3C2', 'RX25V3C3', 'RX25V3C4', 'DRUGID26', 'PRESCR26', 'CONTSUB26', 'COMSTAT26', 'RX26CAT1', 'RX26CAT2', 'RX26CAT3', 'RX26CAT4', 'RX26V1C1', 'RX26V1C2', 'RX26V1C3', 'RX26V1C4', 'RX26V2C1', 'RX26V2C2', 'RX26V2C3', 'RX26V2C4', 'RX26V3C1', 'RX26V3C2', 'RX26V3C3', 'RX26V3C4', 'DRUGID27', 'PRESCR27', 'CONTSUB27', 'COMSTAT27', 'RX27CAT1', 'RX27CAT2', 'RX27CAT3', 'RX27CAT4', 'RX27V1C1', 'RX27V1C2', 'RX27V1C3', 'RX27V1C4', 'RX27V2C1', 'RX27V2C2', 'RX27V2C3', 'RX27V2C4', 'RX27V3C1', 'RX27V3C2', 'RX27V3C3', 'RX27V3C4', 'DRUGID28', 'PRESCR28', 'CONTSUB28', 'COMSTAT28', 'RX28CAT1', 'RX28CAT2', 'RX28CAT3', 'RX28CAT4', 'RX28V1C1', 'RX28V1C2', 'RX28V1C3', 'RX28V1C4', 'RX28V2C1', 'RX28V2C2', 'RX28V2C3', 'RX28V2C4', 'RX28V3C1', 'RX28V3C2', 'RX28V3C3', 'RX28V3C4', 'DRUGID29', 'PRESCR29', 'CONTSUB29', 'COMSTAT29', 'RX29CAT1', 'RX29CAT2', 'RX29CAT3', 'RX29CAT4', 'RX29V1C1', 'RX29V1C2', 'RX29V1C3', 'RX29V1C4', 'RX29V2C1', 'RX29V2C2', 'RX29V2C3', 'RX29V2C4', 'RX29V3C1', 'RX29V3C2', 'RX29V3C3', 'RX29V3C4', 'DRUGID30', 'PRESCR30', 'CONTSUB30', 'COMSTAT30', 'RX30CAT1', 'RX30CAT2', 'RX30CAT3', 'RX30CAT4', 'RX30V1C1', 'RX30V1C2', 'RX30V1C3', 'RX30V1C4', 'RX30V2C1', 'RX30V2C2', 'RX30V2C3', 'RX30V2C4', 'RX30V3C1', 'RX30V3C2', 'RX30V3C3', 'RX30V3C4', 'SETTYPE', 'YEAR', 'CSTRATM', 'CPSUM', 'PATWT', 'EDWT']\n",
      "------------------------------------------------------------------------------------------------------------\n",
      "\n",
      "\n",
      "For 11 -length prefixes, there are:\n",
      "['VMONTH', 'VDAYR', 'ARRTIME', 'WAITTIME', 'BLANK1', 'AGE', 'AGER', 'AGEDAYS', 'RESIDNCE', 'SEX', 'ETHUN', 'ETHIM', 'RACEUN', 'RACER', 'RACERETH', 'ARREMS', 'AMBTRANSFER', 'NOPAY', 'PAYPRIV', 'PAYMCARE', 'PAYMCAID', 'PAYWKCMP', 'PAYSELF', 'PAYNOCHG', 'PAYOTH', 'PAYDK', 'PAYTYPER', 'TEMPF', 'PULSE', 'RESPR', 'BPSYS', 'BPDIAS', 'POPCT', 'IMMEDR', 'PAINSCALE', 'SEEN72', 'RFV1', 'RFV2', 'RFV3', 'RFV4', 'RFV5', 'RFV13D', 'RFV23D', 'RFV33D', 'RFV43D', 'RFV53D', 'EPISODE', 'INJURY', 'INJPOISAD', 'INJURY72', 'INTENT15', 'INJURY_ENC', 'CAUSE1', 'CAUSE2', 'CAUSE3', 'DIAG1', 'DIAG2', 'DIAG3', 'DIAG4', 'DIAG5', 'PRDIAG1', 'PRDIAG2', 'PRDIAG3', 'PRDIAG4', 'PRDIAG5', 'ETOHAB', 'ALZHD', 'ASTHMA', 'CANCER', 'CEBVD', 'CKD', 'COPD', 'CHF', 'CAD', 'DEPRN', 'DIABTYP1', 'DIABTYP2', 'DIABTYP0', 'ESRD', 'HPE', 'EDHIV', 'HYPLIPID', 'HTN', 'OBESITY', 'OSA', 'OSTPRSIS', 'SUBSTAB', 'NOCHRON', 'TOTCHRON', 'DIAGSCRN', 'ABG', 'BAC', 'BMP', 'BNP', 'BUNCREAT', 'CARDENZ', 'CBC', 'CMP', 'BLOODCX', 'TRTCX', 'URINECX', 'WOUNDCX', 'OTHCX', 'DDIMER', 'ELECTROL', 'GLUCOSE', 'LACTATE', 'LFT', 'PTTINR', 'OTHERBLD', 'CARDMON', 'EKG', 'HIVTEST', 'FLUTEST', 'PREGTEST', 'TOXSCREN', 'URINE', 'OTHRTEST', 'ANYIMAGE', 'XRAY', 'CATSCAN', 'CTCONTRAST', 'CTAB', 'CTCHEST', 'CTHEAD', 'CTOTHER', 'CTUNK', 'MRI', 'MRICONTRAST', 'ULTRASND', 'OTHIMAGE', 'TOTDIAG', 'PROC', 'BPAP', 'BLADCATH', 'CASTSPLINT', 'CENTLINE', 'CPR', 'ENDOINT', 'INCDRAIN', 'IVFLUIDS', 'LUMBAR', 'NEBUTHER', 'PELVIC', 'SKINADH', 'SUTURE', 'OTHPROC', 'TOTPROC', 'MED', 'MED1', 'MED2', 'MED3', 'MED4', 'MED5', 'MED6', 'MED7', 'MED8', 'MED9', 'MED10', 'MED11', 'MED12', 'MED13', 'MED14', 'MED15', 'MED16', 'MED17', 'MED18', 'MED19', 'MED20', 'MED21', 'MED22', 'MED23', 'MED24', 'MED25', 'MED26', 'MED27', 'MED28', 'MED29', 'MED30', 'GPMED1', 'GPMED2', 'GPMED3', 'GPMED4', 'GPMED5', 'GPMED6', 'GPMED7', 'GPMED8', 'GPMED9', 'GPMED10', 'GPMED11', 'GPMED12', 'GPMED13', 'GPMED14', 'GPMED15', 'GPMED16', 'GPMED17', 'GPMED18', 'GPMED19', 'GPMED20', 'GPMED21', 'GPMED22', 'GPMED23', 'GPMED24', 'GPMED25', 'GPMED26', 'GPMED27', 'GPMED28', 'GPMED29', 'GPMED30', 'NUMGIV', 'NUMDIS', 'NUMMED', 'VITALSD', 'TEMPDF', 'PULSED', 'RESPRD', 'BPSYSD', 'BPDIASD', 'NOPROVID', 'ATTPHYS', 'RESINT', 'CONSULT', 'RNLPN', 'NURSEPR', 'PHYSASST', 'EMT', 'MHPROV', 'OTHPROV', 'NODISP', 'NOFU', 'RETRNED', 'RETREFFU', 'LWBS', 'LBTC', 'LEFTAMA', 'DOA', 'DIEDED', 'TRANNH', 'TRANPSYC', 'TRANOTH', 'ADMITHOS', 'OBSHOS', 'OBSDIS', 'OTHDISP', 'ADMIT', 'ADMTPHYS', 'BLANK2', 'HDDIAG1', 'HDDIAG2', 'HDDIAG3', 'HDDIAG4', 'HDDIAG5', 'HDSTAT', 'ADISP', 'BLANK3', 'BLANK4', 'AGEFL', 'BDATEFL', 'SEXFL', 'ETHNICFL', 'RACERFL', 'HOSPCODE', 'PATCODE', 'EBILLANYE', 'EMRED', 'HHSMUE', 'EHRINSE', 'EDEMOGER', 'EPROLSTER', 'EPNOTESER', 'EMEDALGER', 'EMEDIDER', 'EREMINDER', 'ECPOEER', 'ESCRIPER', 'EWARNER', 'ECONTR', 'ECONTSCRIPR', 'ECTOEER', 'ERESULTER', 'ERADIER', 'EIMGRESER', 'EIDPTER', 'EGENLISTER', 'EDATAREPER', 'ESUMER', 'EMSGER', 'ESHAREE', 'ESHARESE', 'ESHARERE', 'EDISCHSRE1', 'EDISCHSRE2', 'EDISCHSRE3', 'EEDSRE1', 'EEDSRE2', 'EEDSRE3', 'ESUMCSRE1', 'ESUMCSRE2', 'ESUMCSRE3', 'PTONLINEE1', 'PTONLINEE2', 'PTONLINEE3', 'PTONLINEE4', 'PTONLINEE5', 'PTONLINEE6', 'EDPRIM', 'EDINFO', 'OBSCLIN', 'OBSSEP', 'OBSPHYSED', 'OBSHOSP', 'OBSPHYSOT', 'OBSPHYSUN', 'BOARD', 'BOARDHOS', 'AMBDIV', 'TOTHRDIVR', 'REGDIV', 'ADMDIV', 'INCSHX', 'INCPHYS', 'EXPSPACE', 'BEDREG', 'KIOSELCHK', 'CATRIAGE', 'IMBED', 'ADVTRIAG', 'PHYSPRACTRI', 'FASTTRAK', 'EDPTOR', 'DASHBORD', 'RFID', 'WIRELESS', 'ZONENURS', 'POOLNURS', 'SURGDAY', 'BEDCZAR', 'BEDDATA', 'HLIST', 'HLISTED', 'EMEDRES', 'REGION', 'MSA', 'DRUGID1', 'PRESCR1', 'CONTSUB1', 'COMSTAT1', 'RX1CAT1', 'RX1CAT2', 'RX1CAT3', 'RX1CAT4', 'RX1V1C1', 'RX1V1C2', 'RX1V1C3', 'RX1V1C4', 'RX1V2C1', 'RX1V2C2', 'RX1V2C3', 'RX1V2C4', 'RX1V3C1', 'RX1V3C2', 'RX1V3C3', 'RX1V3C4', 'DRUGID2', 'PRESCR2', 'CONTSUB2', 'COMSTAT2', 'RX2CAT1', 'RX2CAT2', 'RX2CAT3', 'RX2CAT4', 'RX2V1C1', 'RX2V1C2', 'RX2V1C3', 'RX2V1C4', 'RX2V2C1', 'RX2V2C2', 'RX2V2C3', 'RX2V2C4', 'RX2V3C1', 'RX2V3C2', 'RX2V3C3', 'RX2V3C4', 'DRUGID3', 'PRESCR3', 'CONTSUB3', 'COMSTAT3', 'RX3CAT1', 'RX3CAT2', 'RX3CAT3', 'RX3CAT4', 'RX3V1C1', 'RX3V1C2', 'RX3V1C3', 'RX3V1C4', 'RX3V2C1', 'RX3V2C2', 'RX3V2C3', 'RX3V2C4', 'RX3V3C1', 'RX3V3C2', 'RX3V3C3', 'RX3V3C4', 'DRUGID4', 'PRESCR4', 'CONTSUB4', 'COMSTAT4', 'RX4CAT1', 'RX4CAT2', 'RX4CAT3', 'RX4CAT4', 'RX4V1C1', 'RX4V1C2', 'RX4V1C3', 'RX4V1C4', 'RX4V2C1', 'RX4V2C2', 'RX4V2C3', 'RX4V2C4', 'RX4V3C1', 'RX4V3C2', 'RX4V3C3', 'RX4V3C4', 'DRUGID5', 'PRESCR5', 'CONTSUB5', 'COMSTAT5', 'RX5CAT1', 'RX5CAT2', 'RX5CAT3', 'RX5CAT4', 'RX5V1C1', 'RX5V1C2', 'RX5V1C3', 'RX5V1C4', 'RX5V2C1', 'RX5V2C2', 'RX5V2C3', 'RX5V2C4', 'RX5V3C1', 'RX5V3C2', 'RX5V3C3', 'RX5V3C4', 'DRUGID6', 'PRESCR6', 'CONTSUB6', 'COMSTAT6', 'RX6CAT1', 'RX6CAT2', 'RX6CAT3', 'RX6CAT4', 'RX6V1C1', 'RX6V1C2', 'RX6V1C3', 'RX6V1C4', 'RX6V2C1', 'RX6V2C2', 'RX6V2C3', 'RX6V2C4', 'RX6V3C1', 'RX6V3C2', 'RX6V3C3', 'RX6V3C4', 'DRUGID7', 'PRESCR7', 'CONTSUB7', 'COMSTAT7', 'RX7CAT1', 'RX7CAT2', 'RX7CAT3', 'RX7CAT4', 'RX7V1C1', 'RX7V1C2', 'RX7V1C3', 'RX7V1C4', 'RX7V2C1', 'RX7V2C2', 'RX7V2C3', 'RX7V2C4', 'RX7V3C1', 'RX7V3C2', 'RX7V3C3', 'RX7V3C4', 'DRUGID8', 'PRESCR8', 'CONTSUB8', 'COMSTAT8', 'RX8CAT1', 'RX8CAT2', 'RX8CAT3', 'RX8CAT4', 'RX8V1C1', 'RX8V1C2', 'RX8V1C3', 'RX8V1C4', 'RX8V2C1', 'RX8V2C2', 'RX8V2C3', 'RX8V2C4', 'RX8V3C1', 'RX8V3C2', 'RX8V3C3', 'RX8V3C4', 'DRUGID9', 'PRESCR9', 'CONTSUB9', 'COMSTAT9', 'RX9CAT1', 'RX9CAT2', 'RX9CAT3', 'RX9CAT4', 'RX9V1C1', 'RX9V1C2', 'RX9V1C3', 'RX9V1C4', 'RX9V2C1', 'RX9V2C2', 'RX9V2C3', 'RX9V2C4', 'RX9V3C1', 'RX9V3C2', 'RX9V3C3', 'RX9V3C4', 'DRUGID10', 'PRESCR10', 'CONTSUB10', 'COMSTAT10', 'RX10CAT1', 'RX10CAT2', 'RX10CAT3', 'RX10CAT4', 'RX10V1C1', 'RX10V1C2', 'RX10V1C3', 'RX10V1C4', 'RX10V2C1', 'RX10V2C2', 'RX10V2C3', 'RX10V2C4', 'RX10V3C1', 'RX10V3C2', 'RX10V3C3', 'RX10V3C4', 'DRUGID11', 'PRESCR11', 'CONTSUB11', 'COMSTAT11', 'RX11CAT1', 'RX11CAT2', 'RX11CAT3', 'RX11CAT4', 'RX11V1C1', 'RX11V1C2', 'RX11V1C3', 'RX11V1C4', 'RX11V2C1', 'RX11V2C2', 'RX11V2C3', 'RX11V2C4', 'RX11V3C1', 'RX11V3C2', 'RX11V3C3', 'RX11V3C4', 'DRUGID12', 'PRESCR12', 'CONTSUB12', 'COMSTAT12', 'RX12CAT1', 'RX12CAT2', 'RX12CAT3', 'RX12CAT4', 'RX12V1C1', 'RX12V1C2', 'RX12V1C3', 'RX12V1C4', 'RX12V2C1', 'RX12V2C2', 'RX12V2C3', 'RX12V2C4', 'RX12V3C1', 'RX12V3C2', 'RX12V3C3', 'RX12V3C4', 'DRUGID13', 'PRESCR13', 'CONTSUB13', 'COMSTAT13', 'RX13CAT1', 'RX13CAT2', 'RX13CAT3', 'RX13CAT4', 'RX13V1C1', 'RX13V1C2', 'RX13V1C3', 'RX13V1C4', 'RX13V2C1', 'RX13V2C2', 'RX13V2C3', 'RX13V2C4', 'RX13V3C1', 'RX13V3C2', 'RX13V3C3', 'RX13V3C4', 'DRUGID14', 'PRESCR14', 'CONTSUB14', 'COMSTAT14', 'RX14CAT1', 'RX14CAT2', 'RX14CAT3', 'RX14CAT4', 'RX14V1C1', 'RX14V1C2', 'RX14V1C3', 'RX14V1C4', 'RX14V2C1', 'RX14V2C2', 'RX14V2C3', 'RX14V2C4', 'RX14V3C1', 'RX14V3C2', 'RX14V3C3', 'RX14V3C4', 'DRUGID15', 'PRESCR15', 'CONTSUB15', 'COMSTAT15', 'RX15CAT1', 'RX15CAT2', 'RX15CAT3', 'RX15CAT4', 'RX15V1C1', 'RX15V1C2', 'RX15V1C3', 'RX15V1C4', 'RX15V2C1', 'RX15V2C2', 'RX15V2C3', 'RX15V2C4', 'RX15V3C1', 'RX15V3C2', 'RX15V3C3', 'RX15V3C4', 'DRUGID16', 'PRESCR16', 'CONTSUB16', 'COMSTAT16', 'RX16CAT1', 'RX16CAT2', 'RX16CAT3', 'RX16CAT4', 'RX16V1C1', 'RX16V1C2', 'RX16V1C3', 'RX16V1C4', 'RX16V2C1', 'RX16V2C2', 'RX16V2C3', 'RX16V2C4', 'RX16V3C1', 'RX16V3C2', 'RX16V3C3', 'RX16V3C4', 'DRUGID17', 'PRESCR17', 'CONTSUB17', 'COMSTAT17', 'RX17CAT1', 'RX17CAT2', 'RX17CAT3', 'RX17CAT4', 'RX17V1C1', 'RX17V1C2', 'RX17V1C3', 'RX17V1C4', 'RX17V2C1', 'RX17V2C2', 'RX17V2C3', 'RX17V2C4', 'RX17V3C1', 'RX17V3C2', 'RX17V3C3', 'RX17V3C4', 'DRUGID18', 'PRESCR18', 'CONTSUB18', 'COMSTAT18', 'RX18CAT1', 'RX18CAT2', 'RX18CAT3', 'RX18CAT4', 'RX18V1C1', 'RX18V1C2', 'RX18V1C3', 'RX18V1C4', 'RX18V2C1', 'RX18V2C2', 'RX18V2C3', 'RX18V2C4', 'RX18V3C1', 'RX18V3C2', 'RX18V3C3', 'RX18V3C4', 'DRUGID19', 'PRESCR19', 'CONTSUB19', 'COMSTAT19', 'RX19CAT1', 'RX19CAT2', 'RX19CAT3', 'RX19CAT4', 'RX19V1C1', 'RX19V1C2', 'RX19V1C3', 'RX19V1C4', 'RX19V2C1', 'RX19V2C2', 'RX19V2C3', 'RX19V2C4', 'RX19V3C1', 'RX19V3C2', 'RX19V3C3', 'RX19V3C4', 'DRUGID20', 'PRESCR20', 'CONTSUB20', 'COMSTAT20', 'RX20CAT1', 'RX20CAT2', 'RX20CAT3', 'RX20CAT4', 'RX20V1C1', 'RX20V1C2', 'RX20V1C3', 'RX20V1C4', 'RX20V2C1', 'RX20V2C2', 'RX20V2C3', 'RX20V2C4', 'RX20V3C1', 'RX20V3C2', 'RX20V3C3', 'RX20V3C4', 'DRUGID21', 'PRESCR21', 'CONTSUB21', 'COMSTAT21', 'RX21CAT1', 'RX21CAT2', 'RX21CAT3', 'RX21CAT4', 'RX21V1C1', 'RX21V1C2', 'RX21V1C3', 'RX21V1C4', 'RX21V2C1', 'RX21V2C2', 'RX21V2C3', 'RX21V2C4', 'RX21V3C1', 'RX21V3C2', 'RX21V3C3', 'RX21V3C4', 'DRUGID22', 'PRESCR22', 'CONTSUB22', 'COMSTAT22', 'RX22CAT1', 'RX22CAT2', 'RX22CAT3', 'RX22CAT4', 'RX22V1C1', 'RX22V1C2', 'RX22V1C3', 'RX22V1C4', 'RX22V2C1', 'RX22V2C2', 'RX22V2C3', 'RX22V2C4', 'RX22V3C1', 'RX22V3C2', 'RX22V3C3', 'RX22V3C4', 'DRUGID23', 'PRESCR23', 'CONTSUB23', 'COMSTAT23', 'RX23CAT1', 'RX23CAT2', 'RX23CAT3', 'RX23CAT4', 'RX23V1C1', 'RX23V1C2', 'RX23V1C3', 'RX23V1C4', 'RX23V2C1', 'RX23V2C2', 'RX23V2C3', 'RX23V2C4', 'RX23V3C1', 'RX23V3C2', 'RX23V3C3', 'RX23V3C4', 'DRUGID24', 'PRESCR24', 'CONTSUB24', 'COMSTAT24', 'RX24CAT1', 'RX24CAT2', 'RX24CAT3', 'RX24CAT4', 'RX24V1C1', 'RX24V1C2', 'RX24V1C3', 'RX24V1C4', 'RX24V2C1', 'RX24V2C2', 'RX24V2C3', 'RX24V2C4', 'RX24V3C1', 'RX24V3C2', 'RX24V3C3', 'RX24V3C4', 'DRUGID25', 'PRESCR25', 'CONTSUB25', 'COMSTAT25', 'RX25CAT1', 'RX25CAT2', 'RX25CAT3', 'RX25CAT4', 'RX25V1C1', 'RX25V1C2', 'RX25V1C3', 'RX25V1C4', 'RX25V2C1', 'RX25V2C2', 'RX25V2C3', 'RX25V2C4', 'RX25V3C1', 'RX25V3C2', 'RX25V3C3', 'RX25V3C4', 'DRUGID26', 'PRESCR26', 'CONTSUB26', 'COMSTAT26', 'RX26CAT1', 'RX26CAT2', 'RX26CAT3', 'RX26CAT4', 'RX26V1C1', 'RX26V1C2', 'RX26V1C3', 'RX26V1C4', 'RX26V2C1', 'RX26V2C2', 'RX26V2C3', 'RX26V2C4', 'RX26V3C1', 'RX26V3C2', 'RX26V3C3', 'RX26V3C4', 'DRUGID27', 'PRESCR27', 'CONTSUB27', 'COMSTAT27', 'RX27CAT1', 'RX27CAT2', 'RX27CAT3', 'RX27CAT4', 'RX27V1C1', 'RX27V1C2', 'RX27V1C3', 'RX27V1C4', 'RX27V2C1', 'RX27V2C2', 'RX27V2C3', 'RX27V2C4', 'RX27V3C1', 'RX27V3C2', 'RX27V3C3', 'RX27V3C4', 'DRUGID28', 'PRESCR28', 'CONTSUB28', 'COMSTAT28', 'RX28CAT1', 'RX28CAT2', 'RX28CAT3', 'RX28CAT4', 'RX28V1C1', 'RX28V1C2', 'RX28V1C3', 'RX28V1C4', 'RX28V2C1', 'RX28V2C2', 'RX28V2C3', 'RX28V2C4', 'RX28V3C1', 'RX28V3C2', 'RX28V3C3', 'RX28V3C4', 'DRUGID29', 'PRESCR29', 'CONTSUB29', 'COMSTAT29', 'RX29CAT1', 'RX29CAT2', 'RX29CAT3', 'RX29CAT4', 'RX29V1C1', 'RX29V1C2', 'RX29V1C3', 'RX29V1C4', 'RX29V2C1', 'RX29V2C2', 'RX29V2C3', 'RX29V2C4', 'RX29V3C1', 'RX29V3C2', 'RX29V3C3', 'RX29V3C4', 'DRUGID30', 'PRESCR30', 'CONTSUB30', 'COMSTAT30', 'RX30CAT1', 'RX30CAT2', 'RX30CAT3', 'RX30CAT4', 'RX30V1C1', 'RX30V1C2', 'RX30V1C3', 'RX30V1C4', 'RX30V2C1', 'RX30V2C2', 'RX30V2C3', 'RX30V2C4', 'RX30V3C1', 'RX30V3C2', 'RX30V3C3', 'RX30V3C4', 'SETTYPE', 'YEAR', 'CSTRATM', 'CPSUM', 'PATWT', 'EDWT']\n",
      "------------------------------------------------------------------------------------------------------------\n",
      "\n",
      "\n"
     ]
    }
   ],
   "source": [
    "for i in [2,3,4,5,6,7,8,9,10,11]:\n",
    "    print('For', i, '-length prefixes, there are:')\n",
    "    print(extract_prefixes(i,NHAMCS))\n",
    "    print('------------------------------------------------------------------------------------------------------------')\n",
    "    print()\n",
    "    print()\n",
    "    "
   ]
  },
  {
   "cell_type": "code",
   "execution_count": null,
   "metadata": {},
   "outputs": [],
   "source": []
  }
 ],
 "metadata": {
  "colab": {
   "collapsed_sections": [],
   "name": "NHAMCS.ipynb",
   "provenance": []
  },
  "kernelspec": {
   "display_name": "Python 3",
   "language": "python",
   "name": "python3"
  },
  "language_info": {
   "codemirror_mode": {
    "name": "ipython",
    "version": 3
   },
   "file_extension": ".py",
   "mimetype": "text/x-python",
   "name": "python",
   "nbconvert_exporter": "python",
   "pygments_lexer": "ipython3",
   "version": "3.7.4"
  }
 },
 "nbformat": 4,
 "nbformat_minor": 1
}
