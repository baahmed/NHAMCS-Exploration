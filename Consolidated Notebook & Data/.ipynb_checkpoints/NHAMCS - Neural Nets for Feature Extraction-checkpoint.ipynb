{
 "cells": [
  {
   "cell_type": "markdown",
   "metadata": {},
   "source": [
    "# Neural Networks For Feature Selection"
   ]
  },
  {
   "cell_type": "markdown",
   "metadata": {},
   "source": [
    "methodology\n",
    ">implement pattern-matching algorithm to group data by same piece of information <br>\n",
    ">see what features to engineer<br>\n",
    ">What features do we need for the immediacy label?<br>\n",
    ">See how to deal with those missing values<br>\n",
    ">feed 5 features at a time to neural network. See the accuracy.<br>"
   ]
  },
  {
   "cell_type": "markdown",
   "metadata": {},
   "source": [
    "### Target Feature & Its Meaning"
   ]
  },
  {
   "cell_type": "markdown",
   "metadata": {},
   "source": [
    "IMMEDR=\"Immediacy with which patient should be seen (unimputed)\" => missing values not replaced.\n",
    "\n",
    "-    -9='Blank'\n",
    "-    -8='Unknown'\n",
    "-    0='No triage for this visit but ESA does conduct triage'\n",
    "-\t1='Immediate'\n",
    "-\t2='Emergent'\n",
    "-\t3='Urgent'\n",
    "-\t4='Semi-urgent'\n",
    "-\t5='Nonurgent'\n",
    "-\t7='Visit occurred in ESA that does not conduct nursing triage'"
   ]
  },
  {
   "cell_type": "code",
   "execution_count": 1,
   "metadata": {},
   "outputs": [],
   "source": [
    "import pandas as pd\n",
    "from matplotlib import pyplot as plt\n",
    "import numpy as np\n",
    "import seaborn as sns"
   ]
  },
  {
   "cell_type": "code",
   "execution_count": null,
   "metadata": {
    "colab": {
     "base_uri": "https://localhost:8080/",
     "height": 437
    },
    "colab_type": "code",
    "id": "KnXePibYHVfP",
    "outputId": "4ff5bb1e-c269-45d5-cbb6-4aec095760de"
   },
   "outputs": [],
   "source": [
    "NHAMCS = pd.read_sas(filepath_or_buffer = 'NHAMCS.sas7bdat')"
   ]
  },
  {
   "cell_type": "code",
   "execution_count": null,
   "metadata": {
    "scrolled": true
   },
   "outputs": [],
   "source": [
    "NHAMCS.head()"
   ]
  },
  {
   "cell_type": "code",
   "execution_count": null,
   "metadata": {},
   "outputs": [],
   "source": [
    "NHAMCS.shape"
   ]
  },
  {
   "cell_type": "markdown",
   "metadata": {},
   "source": [
    "### NaNs Exploration"
   ]
  },
  {
   "cell_type": "markdown",
   "metadata": {},
   "source": [
    ">In this subsection of the data quality section, we explore the following:\n",
    "- how many NaNs are there?\n",
    "- how can we visualize them?\n",
    "- what could be the reasons for these NaNs?\n",
    "- further steps to be taken for data quality remarks."
   ]
  },
  {
   "cell_type": "markdown",
   "metadata": {},
   "source": [
    "### How many NaNs are there?"
   ]
  },
  {
   "cell_type": "markdown",
   "metadata": {},
   "source": [
    "Count the number of NaNs Across all columns."
   ]
  },
  {
   "cell_type": "code",
   "execution_count": null,
   "metadata": {},
   "outputs": [],
   "source": [
    "nans = NHAMCS.isnull().sum()"
   ]
  },
  {
   "cell_type": "markdown",
   "metadata": {},
   "source": [
    "Order the series descendingly to be able to see those features with the most NaNs. These will most likely be eliminated from the dataset."
   ]
  },
  {
   "cell_type": "code",
   "execution_count": null,
   "metadata": {},
   "outputs": [],
   "source": [
    "nans.sort_values(ascending = False, inplace = True)"
   ]
  },
  {
   "cell_type": "markdown",
   "metadata": {},
   "source": [
    "Make sure all the features are captured."
   ]
  },
  {
   "cell_type": "code",
   "execution_count": null,
   "metadata": {},
   "outputs": [],
   "source": [
    "nans.count() "
   ]
  },
  {
   "cell_type": "markdown",
   "metadata": {},
   "source": [
    "Let's have a quick look..."
   ]
  },
  {
   "cell_type": "code",
   "execution_count": null,
   "metadata": {
    "scrolled": true
   },
   "outputs": [],
   "source": [
    "nans "
   ]
  },
  {
   "cell_type": "markdown",
   "metadata": {},
   "source": [
    "We see that the first entries seem to have ALL NaNs! How prevalent is this? Let's see."
   ]
  },
  {
   "cell_type": "code",
   "execution_count": null,
   "metadata": {},
   "outputs": [],
   "source": [
    "nans_max = nans[nans >= int(0.99*16709)]"
   ]
  },
  {
   "cell_type": "code",
   "execution_count": null,
   "metadata": {},
   "outputs": [],
   "source": [
    "nans_max.count()"
   ]
  },
  {
   "cell_type": "code",
   "execution_count": null,
   "metadata": {},
   "outputs": [],
   "source": [
    "448/949"
   ]
  },
  {
   "cell_type": "markdown",
   "metadata": {},
   "source": [
    "47% of the features are almost all NaNs! Let's continue to investigate different % of missing values. We exclude the ones with almost all NaNs."
   ]
  },
  {
   "cell_type": "code",
   "execution_count": null,
   "metadata": {},
   "outputs": [],
   "source": [
    "nans_no_max = nans[nans < int(0.99*16709)]"
   ]
  },
  {
   "cell_type": "code",
   "execution_count": null,
   "metadata": {},
   "outputs": [],
   "source": [
    "nans_90 = nans_no_max[nans_no_max >= int((0.90*16709))]"
   ]
  },
  {
   "cell_type": "code",
   "execution_count": null,
   "metadata": {},
   "outputs": [],
   "source": [
    "print(nans_90.count())\n",
    "print(104+448, 'features have 90%+ NaNs. That is', 552/949 *100, 'of the features.', 949-448, 'of 949 features have less than 90% NaN.')"
   ]
  },
  {
   "cell_type": "markdown",
   "metadata": {},
   "source": [
    "What about those with 70% NaNs? (excluding the ones with 90%+ NaNs)"
   ]
  },
  {
   "cell_type": "code",
   "execution_count": null,
   "metadata": {},
   "outputs": [],
   "source": [
    "nans_70 = nans_no_max[nans_no_max > int((0.7*16709))]\n",
    "nans_70.count()\n",
    "print(134+552,'features have 70%+ NaNs. That is', 686/949*100,'of the features.',949-686, 'of 949 features have less than 70%+ NaNs.' )"
   ]
  },
  {
   "cell_type": "markdown",
   "metadata": {},
   "source": [
    "Some interesting findings. Let's visualize the NaN trend, descendingly."
   ]
  },
  {
   "cell_type": "markdown",
   "metadata": {},
   "source": [
    "### NaNs Trend Visualization"
   ]
  },
  {
   "cell_type": "code",
   "execution_count": null,
   "metadata": {},
   "outputs": [],
   "source": [
    "nans.plot(kind = 'bar', figsize = (10,10), title = 'Number of NaNs per Column', xticks = []);"
   ]
  },
  {
   "cell_type": "markdown",
   "metadata": {},
   "source": [
    "### Why is so much data unavailable?\n",
    "\n",
    ">From the plot, it seems like we have approximately 550 features whose missing values exceed 80%. Looking at the dataset, this is not exactly surprising. There are four mains reasons. \n",
    "\n",
    "#### 1. Information that could have concisely been represented is represented in multiple variables.\n",
    "\n",
    "\n",
    ">##### EXAMPLE: Payment method. We could use feature engineering to just represent what the source of payment was.\n",
    "><ol>\n",
    "    <li>PAYPRIV = \"Expected source(s) of payment for this visit: Private insurance\"</li>\n",
    "    <li>PAYMCARE =\"Expected source(s) of payment for this visit: Medicare\"</li>\n",
    "    <li>PAYMCAID = \"Expected source(s) of payment for this visit: Medicaid or CHIP or other state-based program\"</li>\n",
    "    <li>PAYWKCMP = \"Expected source(s) of payment for this visit: Workers' compensation\"</li>\n",
    "    <li>PAYSELF = \"Expected source(s) of payment for this visit: Self pay\"</li>\n",
    "    <li>PAYNOCHG = \"Expected source(s) of payment for this visit: No charge/Charity\"</li>\n",
    "    <li>PAYOTH = \"Expected source(s) of payment for this visit: Other\"</li>\n",
    "    <li>PAYDK = \"Expected source(s) of payment for this visit: Unknown\"</li>\n",
    "    <li>PAYTYPER = \"Recoded primary expected source of payment for this visit (based on hierarchy)\"</li>\n",
    "</ol>\n",
    "\n",
    "\n",
    "#### 2. Some features, collectively, are a \"list\" for the same piece of information.\n",
    "\n",
    "\n",
    ">##### EXAMPLE: Paitent's medications. Not all pateints are prescribed 30 medicines.\n",
    "><ol>\n",
    "    <li>MED1=\"Medication #1\"</li>\n",
    "    <li>MED2=\"Medication #2\"</li>\n",
    "    <li>MED3=\"Medication #3\"</li>\n",
    "    <li>MED4=\"Medication #4\"</li>\n",
    "    <li>...</li>\n",
    "    <li>MED27=\"Medication #27\"</li>\n",
    "    <li>MED28=\"Medication #28\"</li>\n",
    "    <li>MED29=\"Medication #29\"</li>\n",
    "    <li>MED30=\"Medication #30\"</li>\n",
    "</ol>\n",
    "\n",
    "#### 3. With or without reason 2, a collection of features represent a level of detail for the same information.\n",
    "\n",
    ">##### EXAMPLE: Paitent's complaints. Along with the listing, there is a \"level of detail\" to the complaint.\n",
    "><ol>\n",
    "    <li>RFV1 = \"Patient's complaint, symptom, or other reason for visit #1 - detailed category\"</li>\n",
    "    <li>RFV1 = \"Patient's complaint, symptom, or other reason for visit #2 - detailed category\"</li>\n",
    "    <li>RFV1 = \"Patient's complaint, symptom, or other reason for visit #3 - detailed category\"</li>\n",
    "    <li>RFV1 = \"Patient's complaint, symptom, or other reason for visit #4 - detailed category\"</li>\n",
    "    <li>RFV1 = \"Patient's complaint, symptom, or other reason for visit #5 - detailed category\"</li>\n",
    "    <li>...</li>\n",
    "    <li>RFV13D = \"Patient's complaint, symptom, or other reason for visit #1 - detailed category\"</li>\n",
    "    <li>RFV13D = \"Patient's complaint, symptom, or other reason for visit #2 - detailed category\"</li>\n",
    "    <li>RFV13D = \"Patient's complaint, symptom, or other reason for visit #3 - detailed category\"</li>\n",
    "    <li>RFV13D = \"Patient's complaint, symptom, or other reason for visit #4 - detailed category\"</li>\n",
    "    <li>RFV13D = \"Patient's complaint, symptom, or other reason for visit #5 - detailed category\"</li>\n",
    "</ol>\n",
    "\n",
    "\n",
    "#### 4. There are features that are reserved for only special pateints. \n",
    "\n",
    ">##### EXAMPLE: 'AGEDAYS' - age days for babies. This could be missing for the rest of the sample.\n",
    "><ol>\n",
    "    <li>AGE=\"Patient age in years\"</li>\n",
    "    <li>AGER=\"Age recode\"</li>\n",
    "    <li>AGEDAYS=\"Age in days for patients less than one year\"</li>\n",
    "</ol>\n",
    "\n",
    "\n",
    "\n",
    "\n",
    "#### What are some key takeaways from these observations?\n",
    "\n",
    "- All the reasons portray how well-suited this dataset is for a myriad of specific use cases and research, albeit with challenging and elongated data cleaning procedures. \n",
    "\n",
    "- Reasons 1 to 3 Feature engineering may also be used extensively to extract the essence of the required data for the problem at hand.\n",
    "\n",
    "- Reason 4 unleashes an extremely important fact: Do not assume that, if 95% of a column's values are missing, that we could safely drop it. It might be catered for a specific use case and hence missing for the majority. For example, if the use case is to study which diseases result in ER visits for babies the most, although this feature could be mostly missing, it is actually important and the missing % is misleading.\n",
    "\n",
    "- All reasons show us that we might not necessarily need to drop a column with high % of NaNs. From the special features of the available subset along with some domain research, we might be able to replace the missing data accurately."
   ]
  },
  {
   "cell_type": "markdown",
   "metadata": {},
   "source": [
    "### Further Comments and Prospective Steps"
   ]
  },
  {
   "cell_type": "markdown",
   "metadata": {},
   "source": [
    "#### Missing Values Further Steps\n",
    "- Investigate for also these values: [-9, -8, -7, 0]. -9 always means missing values, so we deal with that as such. However, -8 means \"unknown\" and -7 means \"N/A\". 0 may also mean \"blank.\" For features extracted, according to the nature of each feature, we must decide what to do with entries with those values. Some examples include the below.\n",
    "\n",
    "\t\t\n",
    ">**1. VALUE RESIDF**<br>\n",
    "  >  -9='Blank'<br>\n",
    "   > -8='Unknown'<br>\n",
    "\t1='Private residence'<br>\n",
    "\t2='Nursing home'<br>\n",
    "\t3='Homeless/homeless shelter'<br>\n",
    "\t4='Other'<br>\n",
    "    \n",
    ">**2. VALUE WAITTIMEF**<br>\n",
    "    -9 ='Blank'<br>\n",
    "    -7 ='Not Applicable'<br>\n",
    "    \n",
    ">**3. VALUE PAYTYPERF**<br>\n",
    "      -9 ='All sources of payment are blank'<br>\n",
    "      -8 ='Unknown'<br>\n",
    "       1 ='Private insurance'<br>\n",
    "       2 ='Medicare'<br>\n",
    "       3 ='Medicaid or CHIP or other state-based program'<br>\n",
    "       4 =\"Worker's compensation\"<br>\n",
    "       5 ='Self-pay'<br>\n",
    "       6 ='No charge/Charity'<br>\n",
    "       7 ='Other'   <br>\n",
    " \n",
    "\n",
    "\n",
    "<br>\n",
    "\n",
    "\n",
    "- for the extracted features, based on the problem domain, available data %, and relationships with other features, how can we best replace those missing values? Extensive research is needed.\n",
    "\n",
    "\n",
    "#### Data Quality Concerns For Further Investigation\n",
    "- are the values consistent?\n",
    "- are the types suitable?\n",
    "- is te data too granular or too specific for a use case?\n",
    "- is the data comprehensive for a use case?\n",
    "- invesigate the data collection time and determine its relevance for today.\n",
    "- is the data precise?\n",
    "- are the features selected complete?\n",
    "\n"
   ]
  },
  {
   "cell_type": "code",
   "execution_count": null,
   "metadata": {},
   "outputs": [],
   "source": []
  }
 ],
 "metadata": {
  "colab": {
   "collapsed_sections": [],
   "name": "NHAMCS.ipynb",
   "provenance": []
  },
  "kernelspec": {
   "display_name": "Python 3",
   "language": "python",
   "name": "python3"
  },
  "language_info": {
   "codemirror_mode": {
    "name": "ipython",
    "version": 3
   },
   "file_extension": ".py",
   "mimetype": "text/x-python",
   "name": "python",
   "nbconvert_exporter": "python",
   "pygments_lexer": "ipython3",
   "version": "3.7.4"
  }
 },
 "nbformat": 4,
 "nbformat_minor": 1
}
