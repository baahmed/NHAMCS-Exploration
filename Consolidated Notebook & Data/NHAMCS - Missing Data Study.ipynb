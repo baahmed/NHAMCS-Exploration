{
 "cells": [
  {
   "cell_type": "code",
   "execution_count": 17,
   "metadata": {},
   "outputs": [],
   "source": [
    "import pandas as pd\n",
    "from matplotlib import pyplot as plt\n",
    "import numpy as np\n",
    "import seaborn as sns"
   ]
  },
  {
   "cell_type": "code",
   "execution_count": 2,
   "metadata": {
    "colab": {
     "base_uri": "https://localhost:8080/",
     "height": 437
    },
    "colab_type": "code",
    "id": "KnXePibYHVfP",
    "outputId": "4ff5bb1e-c269-45d5-cbb6-4aec095760de"
   },
   "outputs": [
    {
     "data": {
      "text/html": [
       "<div>\n",
       "<style scoped>\n",
       "    .dataframe tbody tr th:only-of-type {\n",
       "        vertical-align: middle;\n",
       "    }\n",
       "\n",
       "    .dataframe tbody tr th {\n",
       "        vertical-align: top;\n",
       "    }\n",
       "\n",
       "    .dataframe thead th {\n",
       "        text-align: right;\n",
       "    }\n",
       "</style>\n",
       "<table border=\"1\" class=\"dataframe\">\n",
       "  <thead>\n",
       "    <tr style=\"text-align: right;\">\n",
       "      <th></th>\n",
       "      <th>VMONTH</th>\n",
       "      <th>VDAYR</th>\n",
       "      <th>ARRTIME</th>\n",
       "      <th>WAITTIME</th>\n",
       "      <th>BLANK1</th>\n",
       "      <th>AGE</th>\n",
       "      <th>AGER</th>\n",
       "      <th>AGEDAYS</th>\n",
       "      <th>RESIDNCE</th>\n",
       "      <th>SEX</th>\n",
       "      <th>...</th>\n",
       "      <th>RX30V3C1</th>\n",
       "      <th>RX30V3C2</th>\n",
       "      <th>RX30V3C3</th>\n",
       "      <th>RX30V3C4</th>\n",
       "      <th>SETTYPE</th>\n",
       "      <th>YEAR</th>\n",
       "      <th>CSTRATM</th>\n",
       "      <th>CPSUM</th>\n",
       "      <th>PATWT</th>\n",
       "      <th>EDWT</th>\n",
       "    </tr>\n",
       "  </thead>\n",
       "  <tbody>\n",
       "    <tr>\n",
       "      <td>0</td>\n",
       "      <td>6.0</td>\n",
       "      <td>6.0</td>\n",
       "      <td>b'2056'</td>\n",
       "      <td>72.0</td>\n",
       "      <td>NaN</td>\n",
       "      <td>27.0</td>\n",
       "      <td>3.0</td>\n",
       "      <td>-7.0</td>\n",
       "      <td>1.0</td>\n",
       "      <td>2.0</td>\n",
       "      <td>...</td>\n",
       "      <td>NaN</td>\n",
       "      <td>NaN</td>\n",
       "      <td>NaN</td>\n",
       "      <td>NaN</td>\n",
       "      <td>3.0</td>\n",
       "      <td>2017.0</td>\n",
       "      <td>40100000.0</td>\n",
       "      <td>4.0</td>\n",
       "      <td>3723.12641</td>\n",
       "      <td>21.58043</td>\n",
       "    </tr>\n",
       "    <tr>\n",
       "      <td>1</td>\n",
       "      <td>6.0</td>\n",
       "      <td>2.0</td>\n",
       "      <td>b'1417'</td>\n",
       "      <td>64.0</td>\n",
       "      <td>NaN</td>\n",
       "      <td>1.0</td>\n",
       "      <td>1.0</td>\n",
       "      <td>-7.0</td>\n",
       "      <td>1.0</td>\n",
       "      <td>1.0</td>\n",
       "      <td>...</td>\n",
       "      <td>NaN</td>\n",
       "      <td>NaN</td>\n",
       "      <td>NaN</td>\n",
       "      <td>NaN</td>\n",
       "      <td>3.0</td>\n",
       "      <td>2017.0</td>\n",
       "      <td>40100000.0</td>\n",
       "      <td>4.0</td>\n",
       "      <td>3723.12641</td>\n",
       "      <td>NaN</td>\n",
       "    </tr>\n",
       "    <tr>\n",
       "      <td>2</td>\n",
       "      <td>6.0</td>\n",
       "      <td>2.0</td>\n",
       "      <td>b'2303'</td>\n",
       "      <td>-7.0</td>\n",
       "      <td>NaN</td>\n",
       "      <td>52.0</td>\n",
       "      <td>4.0</td>\n",
       "      <td>-7.0</td>\n",
       "      <td>1.0</td>\n",
       "      <td>2.0</td>\n",
       "      <td>...</td>\n",
       "      <td>NaN</td>\n",
       "      <td>NaN</td>\n",
       "      <td>NaN</td>\n",
       "      <td>NaN</td>\n",
       "      <td>3.0</td>\n",
       "      <td>2017.0</td>\n",
       "      <td>40100000.0</td>\n",
       "      <td>4.0</td>\n",
       "      <td>3723.12641</td>\n",
       "      <td>NaN</td>\n",
       "    </tr>\n",
       "    <tr>\n",
       "      <td>3</td>\n",
       "      <td>6.0</td>\n",
       "      <td>5.0</td>\n",
       "      <td>b'0930'</td>\n",
       "      <td>29.0</td>\n",
       "      <td>NaN</td>\n",
       "      <td>5.0</td>\n",
       "      <td>1.0</td>\n",
       "      <td>-7.0</td>\n",
       "      <td>1.0</td>\n",
       "      <td>2.0</td>\n",
       "      <td>...</td>\n",
       "      <td>NaN</td>\n",
       "      <td>NaN</td>\n",
       "      <td>NaN</td>\n",
       "      <td>NaN</td>\n",
       "      <td>3.0</td>\n",
       "      <td>2017.0</td>\n",
       "      <td>40100000.0</td>\n",
       "      <td>4.0</td>\n",
       "      <td>3723.12641</td>\n",
       "      <td>NaN</td>\n",
       "    </tr>\n",
       "    <tr>\n",
       "      <td>4</td>\n",
       "      <td>6.0</td>\n",
       "      <td>2.0</td>\n",
       "      <td>b'1332'</td>\n",
       "      <td>20.0</td>\n",
       "      <td>NaN</td>\n",
       "      <td>4.0</td>\n",
       "      <td>1.0</td>\n",
       "      <td>-7.0</td>\n",
       "      <td>1.0</td>\n",
       "      <td>1.0</td>\n",
       "      <td>...</td>\n",
       "      <td>NaN</td>\n",
       "      <td>NaN</td>\n",
       "      <td>NaN</td>\n",
       "      <td>NaN</td>\n",
       "      <td>3.0</td>\n",
       "      <td>2017.0</td>\n",
       "      <td>40100000.0</td>\n",
       "      <td>4.0</td>\n",
       "      <td>3723.12641</td>\n",
       "      <td>NaN</td>\n",
       "    </tr>\n",
       "  </tbody>\n",
       "</table>\n",
       "<p>5 rows × 949 columns</p>\n",
       "</div>"
      ],
      "text/plain": [
       "   VMONTH  VDAYR  ARRTIME  WAITTIME  BLANK1   AGE  AGER  AGEDAYS  RESIDNCE  \\\n",
       "0     6.0    6.0  b'2056'      72.0     NaN  27.0   3.0     -7.0       1.0   \n",
       "1     6.0    2.0  b'1417'      64.0     NaN   1.0   1.0     -7.0       1.0   \n",
       "2     6.0    2.0  b'2303'      -7.0     NaN  52.0   4.0     -7.0       1.0   \n",
       "3     6.0    5.0  b'0930'      29.0     NaN   5.0   1.0     -7.0       1.0   \n",
       "4     6.0    2.0  b'1332'      20.0     NaN   4.0   1.0     -7.0       1.0   \n",
       "\n",
       "   SEX  ...  RX30V3C1  RX30V3C2  RX30V3C3  RX30V3C4  SETTYPE    YEAR  \\\n",
       "0  2.0  ...       NaN       NaN       NaN       NaN      3.0  2017.0   \n",
       "1  1.0  ...       NaN       NaN       NaN       NaN      3.0  2017.0   \n",
       "2  2.0  ...       NaN       NaN       NaN       NaN      3.0  2017.0   \n",
       "3  2.0  ...       NaN       NaN       NaN       NaN      3.0  2017.0   \n",
       "4  1.0  ...       NaN       NaN       NaN       NaN      3.0  2017.0   \n",
       "\n",
       "      CSTRATM  CPSUM       PATWT      EDWT  \n",
       "0  40100000.0    4.0  3723.12641  21.58043  \n",
       "1  40100000.0    4.0  3723.12641       NaN  \n",
       "2  40100000.0    4.0  3723.12641       NaN  \n",
       "3  40100000.0    4.0  3723.12641       NaN  \n",
       "4  40100000.0    4.0  3723.12641       NaN  \n",
       "\n",
       "[5 rows x 949 columns]"
      ]
     },
     "execution_count": 2,
     "metadata": {},
     "output_type": "execute_result"
    }
   ],
   "source": [
    "NHAMCS = pd.read_sas(filepath_or_buffer = 'NHAMCS.sas7bdat')"
   ]
  },
  {
   "cell_type": "code",
   "execution_count": 5,
   "metadata": {
    "scrolled": true
   },
   "outputs": [
    {
     "data": {
      "text/html": [
       "<div>\n",
       "<style scoped>\n",
       "    .dataframe tbody tr th:only-of-type {\n",
       "        vertical-align: middle;\n",
       "    }\n",
       "\n",
       "    .dataframe tbody tr th {\n",
       "        vertical-align: top;\n",
       "    }\n",
       "\n",
       "    .dataframe thead th {\n",
       "        text-align: right;\n",
       "    }\n",
       "</style>\n",
       "<table border=\"1\" class=\"dataframe\">\n",
       "  <thead>\n",
       "    <tr style=\"text-align: right;\">\n",
       "      <th></th>\n",
       "      <th>VMONTH</th>\n",
       "      <th>VDAYR</th>\n",
       "      <th>ARRTIME</th>\n",
       "      <th>WAITTIME</th>\n",
       "      <th>BLANK1</th>\n",
       "      <th>AGE</th>\n",
       "      <th>AGER</th>\n",
       "      <th>AGEDAYS</th>\n",
       "      <th>RESIDNCE</th>\n",
       "      <th>SEX</th>\n",
       "      <th>...</th>\n",
       "      <th>RX30V3C1</th>\n",
       "      <th>RX30V3C2</th>\n",
       "      <th>RX30V3C3</th>\n",
       "      <th>RX30V3C4</th>\n",
       "      <th>SETTYPE</th>\n",
       "      <th>YEAR</th>\n",
       "      <th>CSTRATM</th>\n",
       "      <th>CPSUM</th>\n",
       "      <th>PATWT</th>\n",
       "      <th>EDWT</th>\n",
       "    </tr>\n",
       "  </thead>\n",
       "  <tbody>\n",
       "    <tr>\n",
       "      <td>0</td>\n",
       "      <td>6.0</td>\n",
       "      <td>6.0</td>\n",
       "      <td>b'2056'</td>\n",
       "      <td>72.0</td>\n",
       "      <td>NaN</td>\n",
       "      <td>27.0</td>\n",
       "      <td>3.0</td>\n",
       "      <td>-7.0</td>\n",
       "      <td>1.0</td>\n",
       "      <td>2.0</td>\n",
       "      <td>...</td>\n",
       "      <td>NaN</td>\n",
       "      <td>NaN</td>\n",
       "      <td>NaN</td>\n",
       "      <td>NaN</td>\n",
       "      <td>3.0</td>\n",
       "      <td>2017.0</td>\n",
       "      <td>40100000.0</td>\n",
       "      <td>4.0</td>\n",
       "      <td>3723.12641</td>\n",
       "      <td>21.58043</td>\n",
       "    </tr>\n",
       "    <tr>\n",
       "      <td>1</td>\n",
       "      <td>6.0</td>\n",
       "      <td>2.0</td>\n",
       "      <td>b'1417'</td>\n",
       "      <td>64.0</td>\n",
       "      <td>NaN</td>\n",
       "      <td>1.0</td>\n",
       "      <td>1.0</td>\n",
       "      <td>-7.0</td>\n",
       "      <td>1.0</td>\n",
       "      <td>1.0</td>\n",
       "      <td>...</td>\n",
       "      <td>NaN</td>\n",
       "      <td>NaN</td>\n",
       "      <td>NaN</td>\n",
       "      <td>NaN</td>\n",
       "      <td>3.0</td>\n",
       "      <td>2017.0</td>\n",
       "      <td>40100000.0</td>\n",
       "      <td>4.0</td>\n",
       "      <td>3723.12641</td>\n",
       "      <td>NaN</td>\n",
       "    </tr>\n",
       "    <tr>\n",
       "      <td>2</td>\n",
       "      <td>6.0</td>\n",
       "      <td>2.0</td>\n",
       "      <td>b'2303'</td>\n",
       "      <td>-7.0</td>\n",
       "      <td>NaN</td>\n",
       "      <td>52.0</td>\n",
       "      <td>4.0</td>\n",
       "      <td>-7.0</td>\n",
       "      <td>1.0</td>\n",
       "      <td>2.0</td>\n",
       "      <td>...</td>\n",
       "      <td>NaN</td>\n",
       "      <td>NaN</td>\n",
       "      <td>NaN</td>\n",
       "      <td>NaN</td>\n",
       "      <td>3.0</td>\n",
       "      <td>2017.0</td>\n",
       "      <td>40100000.0</td>\n",
       "      <td>4.0</td>\n",
       "      <td>3723.12641</td>\n",
       "      <td>NaN</td>\n",
       "    </tr>\n",
       "    <tr>\n",
       "      <td>3</td>\n",
       "      <td>6.0</td>\n",
       "      <td>5.0</td>\n",
       "      <td>b'0930'</td>\n",
       "      <td>29.0</td>\n",
       "      <td>NaN</td>\n",
       "      <td>5.0</td>\n",
       "      <td>1.0</td>\n",
       "      <td>-7.0</td>\n",
       "      <td>1.0</td>\n",
       "      <td>2.0</td>\n",
       "      <td>...</td>\n",
       "      <td>NaN</td>\n",
       "      <td>NaN</td>\n",
       "      <td>NaN</td>\n",
       "      <td>NaN</td>\n",
       "      <td>3.0</td>\n",
       "      <td>2017.0</td>\n",
       "      <td>40100000.0</td>\n",
       "      <td>4.0</td>\n",
       "      <td>3723.12641</td>\n",
       "      <td>NaN</td>\n",
       "    </tr>\n",
       "    <tr>\n",
       "      <td>4</td>\n",
       "      <td>6.0</td>\n",
       "      <td>2.0</td>\n",
       "      <td>b'1332'</td>\n",
       "      <td>20.0</td>\n",
       "      <td>NaN</td>\n",
       "      <td>4.0</td>\n",
       "      <td>1.0</td>\n",
       "      <td>-7.0</td>\n",
       "      <td>1.0</td>\n",
       "      <td>1.0</td>\n",
       "      <td>...</td>\n",
       "      <td>NaN</td>\n",
       "      <td>NaN</td>\n",
       "      <td>NaN</td>\n",
       "      <td>NaN</td>\n",
       "      <td>3.0</td>\n",
       "      <td>2017.0</td>\n",
       "      <td>40100000.0</td>\n",
       "      <td>4.0</td>\n",
       "      <td>3723.12641</td>\n",
       "      <td>NaN</td>\n",
       "    </tr>\n",
       "  </tbody>\n",
       "</table>\n",
       "<p>5 rows × 949 columns</p>\n",
       "</div>"
      ],
      "text/plain": [
       "   VMONTH  VDAYR  ARRTIME  WAITTIME  BLANK1   AGE  AGER  AGEDAYS  RESIDNCE  \\\n",
       "0     6.0    6.0  b'2056'      72.0     NaN  27.0   3.0     -7.0       1.0   \n",
       "1     6.0    2.0  b'1417'      64.0     NaN   1.0   1.0     -7.0       1.0   \n",
       "2     6.0    2.0  b'2303'      -7.0     NaN  52.0   4.0     -7.0       1.0   \n",
       "3     6.0    5.0  b'0930'      29.0     NaN   5.0   1.0     -7.0       1.0   \n",
       "4     6.0    2.0  b'1332'      20.0     NaN   4.0   1.0     -7.0       1.0   \n",
       "\n",
       "   SEX  ...  RX30V3C1  RX30V3C2  RX30V3C3  RX30V3C4  SETTYPE    YEAR  \\\n",
       "0  2.0  ...       NaN       NaN       NaN       NaN      3.0  2017.0   \n",
       "1  1.0  ...       NaN       NaN       NaN       NaN      3.0  2017.0   \n",
       "2  2.0  ...       NaN       NaN       NaN       NaN      3.0  2017.0   \n",
       "3  2.0  ...       NaN       NaN       NaN       NaN      3.0  2017.0   \n",
       "4  1.0  ...       NaN       NaN       NaN       NaN      3.0  2017.0   \n",
       "\n",
       "      CSTRATM  CPSUM       PATWT      EDWT  \n",
       "0  40100000.0    4.0  3723.12641  21.58043  \n",
       "1  40100000.0    4.0  3723.12641       NaN  \n",
       "2  40100000.0    4.0  3723.12641       NaN  \n",
       "3  40100000.0    4.0  3723.12641       NaN  \n",
       "4  40100000.0    4.0  3723.12641       NaN  \n",
       "\n",
       "[5 rows x 949 columns]"
      ]
     },
     "execution_count": 5,
     "metadata": {},
     "output_type": "execute_result"
    }
   ],
   "source": [
    "NHAMCS.head()"
   ]
  },
  {
   "cell_type": "code",
   "execution_count": 8,
   "metadata": {},
   "outputs": [
    {
     "data": {
      "text/plain": [
       "(16709, 949)"
      ]
     },
     "execution_count": 8,
     "metadata": {},
     "output_type": "execute_result"
    }
   ],
   "source": [
    "NHAMCS.shape"
   ]
  },
  {
   "cell_type": "markdown",
   "metadata": {},
   "source": [
    "## Exploration Plan"
   ]
  },
  {
   "cell_type": "markdown",
   "metadata": {},
   "source": [
    "First, we find the NaNs."
   ]
  },
  {
   "cell_type": "code",
   "execution_count": 12,
   "metadata": {},
   "outputs": [],
   "source": [
    "nans = NHAMCS.isnull().sum()"
   ]
  },
  {
   "cell_type": "code",
   "execution_count": 15,
   "metadata": {},
   "outputs": [],
   "source": [
    "nans.sort_values(ascending = False, inplace = True)"
   ]
  },
  {
   "cell_type": "code",
   "execution_count": 20,
   "metadata": {},
   "outputs": [
    {
     "data": {
      "text/plain": [
       "949"
      ]
     },
     "execution_count": 20,
     "metadata": {},
     "output_type": "execute_result"
    }
   ],
   "source": [
    "nans.count() # for all features"
   ]
  },
  {
   "cell_type": "code",
   "execution_count": 19,
   "metadata": {},
   "outputs": [
    {
     "data": {
      "image/png": "[encoded data removed]",
      "text/plain": [
       "<Figure size 720x720 with 1 Axes>"
      ]
     },
     "metadata": {
      "needs_background": "light"
     },
     "output_type": "display_data"
    }
   ],
   "source": [
    "nans.plot(kind = 'bar', figsize = (10,10));"
   ]
  },
  {
   "cell_type": "code",
   "execution_count": 26,
   "metadata": {},
   "outputs": [
    {
     "data": {
      "text/plain": [
       "RX19V1C4    16709\n",
       "RX25V1C3    16709\n",
       "RX25CAT3    16709\n",
       "RX24V3C4    16709\n",
       "RX24V3C3    16709\n",
       "            ...  \n",
       "RETRNED         0\n",
       "RETREFFU        0\n",
       "LWBS            0\n",
       "LBTC            0\n",
       "VMONTH          0\n",
       "Length: 949, dtype: int64"
      ]
     },
     "execution_count": 26,
     "metadata": {},
     "output_type": "execute_result"
    }
   ],
   "source": [
    "nans "
   ]
  },
  {
   "cell_type": "code",
   "execution_count": 60,
   "metadata": {},
   "outputs": [],
   "source": [
    "nans_max = nans[nans >= int(0.99*16709)]"
   ]
  },
  {
   "cell_type": "code",
   "execution_count": 61,
   "metadata": {},
   "outputs": [
    {
     "data": {
      "text/plain": [
       "448"
      ]
     },
     "execution_count": 61,
     "metadata": {},
     "output_type": "execute_result"
    }
   ],
   "source": [
    "nans_max.count()"
   ]
  },
  {
   "cell_type": "markdown",
   "metadata": {},
   "source": [
    "448 features are all NaNs!"
   ]
  },
  {
   "cell_type": "markdown",
   "metadata": {},
   "source": [
    "Now let's work through the remaining features."
   ]
  },
  {
   "cell_type": "code",
   "execution_count": 62,
   "metadata": {},
   "outputs": [],
   "source": [
    "nans_no_max = nans[nans < int(0.99*16709)]"
   ]
  },
  {
   "cell_type": "markdown",
   "metadata": {},
   "source": [
    "Let's see those with 90% NaNs."
   ]
  },
  {
   "cell_type": "code",
   "execution_count": 57,
   "metadata": {},
   "outputs": [],
   "source": [
    "nans_90 = nans_no_max[nans_no_max >= int((0.99*16709))]"
   ]
  },
  {
   "cell_type": "code",
   "execution_count": 58,
   "metadata": {},
   "outputs": [
    {
     "data": {
      "text/plain": [
       "324"
      ]
     },
     "execution_count": 58,
     "metadata": {},
     "output_type": "execute_result"
    }
   ],
   "source": [
    "nans_90.count()"
   ]
  },
  {
   "cell_type": "code",
   "execution_count": 56,
   "metadata": {},
   "outputs": [
    {
     "name": "stdout",
     "output_type": "stream",
     "text": [
      "RX21V3C4    16708\n",
      "RX21V3C2    16708\n",
      "RX14V2C3    16708\n",
      "RX14V1C3    16708\n",
      "RX14V1C4    16708\n",
      "            ...  \n",
      "RX7V1C1     15552\n",
      "CONTSUB7    15552\n",
      "RX3V2C2     15436\n",
      "RX3V1C2     15434\n",
      "RX3CAT2     15434\n",
      "Length: 428, dtype: int64\n"
     ]
    }
   ],
   "source": [
    "nans_90"
   ]
  },
  {
   "cell_type": "code",
   "execution_count": 53,
   "metadata": {},
   "outputs": [],
   "source": [
    "nans_no_90 = nans_no_max[nans_no_max < int((0.9*16709))]"
   ]
  },
  {
   "cell_type": "markdown",
   "metadata": {},
   "source": [
    "We only have 397 features whose missing values do not exceed 90%!"
   ]
  },
  {
   "cell_type": "code",
   "execution_count": 54,
   "metadata": {},
   "outputs": [
    {
     "data": {
      "text/plain": [
       "397"
      ]
     },
     "execution_count": 54,
     "metadata": {},
     "output_type": "execute_result"
    }
   ],
   "source": [
    "nans_no_90.count()"
   ]
  },
  {
   "cell_type": "code",
   "execution_count": 50,
   "metadata": {},
   "outputs": [],
   "source": [
    "nans_70 = nans_no_max[nans_no_max > int((0.7*16709))]"
   ]
  },
  {
   "cell_type": "code",
   "execution_count": 51,
   "metadata": {},
   "outputs": [
    {
     "data": {
      "text/plain": [
       "0"
      ]
     },
     "execution_count": 51,
     "metadata": {},
     "output_type": "execute_result"
    }
   ],
   "source": [
    "nans_70.count()"
   ]
  },
  {
   "cell_type": "code",
   "execution_count": null,
   "metadata": {},
   "outputs": [],
   "source": []
  }
 ],
 "metadata": {
  "colab": {
   "collapsed_sections": [],
   "name": "NHAMCS.ipynb",
   "provenance": []
  },
  "kernelspec": {
   "display_name": "Python 3",
   "language": "python",
   "name": "python3"
  },
  "language_info": {
   "codemirror_mode": {
    "name": "ipython",
    "version": 3
   },
   "file_extension": ".py",
   "mimetype": "text/x-python",
   "name": "python",
   "nbconvert_exporter": "python",
   "pygments_lexer": "ipython3",
   "version": "3.7.4"
  }
 },
 "nbformat": 4,
 "nbformat_minor": 1
}
