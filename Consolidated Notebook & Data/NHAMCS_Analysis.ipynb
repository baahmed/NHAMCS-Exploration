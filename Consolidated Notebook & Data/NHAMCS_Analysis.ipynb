{
  "nbformat": 4,
  "nbformat_minor": 0,
  "metadata": {
    "colab": {
      "name": "NHAMCS_Analysis.ipynb",
      "provenance": [],
      "collapsed_sections": []
    },
    "kernelspec": {
      "display_name": "Python 3",
      "language": "python",
      "name": "python3"
    },
    "language_info": {
      "codemirror_mode": {
        "name": "ipython",
        "version": 3
      },
      "file_extension": ".py",
      "mimetype": "text/x-python",
      "name": "python",
      "nbconvert_exporter": "python",
      "pygments_lexer": "ipython3",
      "version": "3.7.4"
    }
  },
  "cells": [
    {
      "cell_type": "markdown",
      "metadata": {
        "colab_type": "text",
        "id": "EOtwq1M389M1"
      },
      "source": [
        "# NHAMCS Dataset:\n",
        "\n",
        "In this notebook, we will be analysing The National Hospital Ambulatory Medical Care Survey (NHAMCS) Dataset. It is a dataset describing Emergency Departments in the US from various different states."
      ]
    },
    {
      "cell_type": "code",
      "metadata": {
        "colab_type": "code",
        "id": "-zPVe5GR8_yr",
        "colab": {
          "base_uri": "https://localhost:8080/",
          "height": 34
        },
        "outputId": "57bd78cc-4711-4285-81cb-a224422966b3"
      },
      "source": [
        "# The dataset is uploaded on Google Drive so we need to import the drive utility library\n",
        "\n",
        "from google.colab import drive\n",
        "drive.mount('/content/drive')"
      ],
      "execution_count": null,
      "outputs": [
        {
          "output_type": "stream",
          "text": [
            "Drive already mounted at /content/drive; to attempt to forcibly remount, call drive.mount(\"/content/drive\", force_remount=True).\n"
          ],
          "name": "stdout"
        }
      ]
    },
    {
      "cell_type": "markdown",
      "metadata": {
        "colab_type": "text",
        "id": "EA0uLUwm-aHt"
      },
      "source": [
        "The next thing is to import the dataset and inspect it. We will be importing pandas from an SAS file into a pandas Dataframe."
      ]
    },
    {
      "cell_type": "code",
      "metadata": {
        "colab_type": "code",
        "id": "WYdlkQP4-YG0",
        "colab": {
          "base_uri": "https://localhost:8080/",
          "height": 170
        },
        "outputId": "3b0581cf-b6a0-402b-c396-de3764c54ab0"
      },
      "source": [
        "# import pandas\n",
        "import pandas as pd\n",
        "\n",
        "# read the dataset from the SAS file\n",
        "NHAMCS = pd.read_sas(filepath_or_buffer = '/content/drive/Shared drives/Vodafone Internship/Dataset/ed2017_sas.sas7bdat')\n",
        "\n",
        "# inspect the first few records\n",
        "print(NHAMCS.head())\n",
        "\n",
        "# look at the dimensions of the dataframe\n",
        "\n",
        "print(NHAMCS.shape)"
      ],
      "execution_count": null,
      "outputs": [
        {
          "output_type": "stream",
          "text": [
            "   VMONTH  VDAYR  ARRTIME  WAITTIME  ...     CSTRATM  CPSUM       PATWT      EDWT\n",
            "0     6.0    6.0  b'2056'      72.0  ...  40100000.0    4.0  3723.12641  21.58043\n",
            "1     6.0    2.0  b'1417'      64.0  ...  40100000.0    4.0  3723.12641       NaN\n",
            "2     6.0    2.0  b'2303'      -7.0  ...  40100000.0    4.0  3723.12641       NaN\n",
            "3     6.0    5.0  b'0930'      29.0  ...  40100000.0    4.0  3723.12641       NaN\n",
            "4     6.0    2.0  b'1332'      20.0  ...  40100000.0    4.0  3723.12641       NaN\n",
            "\n",
            "[5 rows x 949 columns]\n",
            "(16709, 949)\n"
          ],
          "name": "stdout"
        }
      ]
    },
    {
      "cell_type": "markdown",
      "metadata": {
        "colab_type": "text",
        "id": "d5KekG6uMTzG"
      },
      "source": [
        "The dataframe has about 16.7 thousand examples and each of these has 949 features.\n",
        "\n",
        "## Data Quality\n",
        "\n",
        "In this section, we will be doing 2 things:\n",
        "### 1- Encoding the Categorical Features\n",
        "\n",
        "The first thing in this section is converting the categorical features into a numeric version of them, that could be input to different ML models. "
      ]
    },
    {
      "cell_type": "code",
      "metadata": {
        "colab_type": "code",
        "id": "eafD-ZFPM56X",
        "colab": {}
      },
      "source": [
        "# import the LabelEncoder Class\n",
        "from sklearn.preprocessing import LabelEncoder\n",
        "\n",
        "# creating instance of labelencoder\n",
        "labelencoder = LabelEncoder()\n",
        "\n",
        "# Replacing the categorical coloumns with a numerical equivalent\n",
        "NHAMCS['CAUSE1'] = labelencoder.fit_transform(NHAMCS['CAUSE1'])\n",
        "NHAMCS['CAUSE2'] = labelencoder.fit_transform(NHAMCS['CAUSE2'])\n",
        "NHAMCS['CAUSE3'] = labelencoder.fit_transform(NHAMCS['CAUSE3'])\n",
        "NHAMCS['DIAG1'] = labelencoder.fit_transform(NHAMCS['DIAG1'])\n",
        "NHAMCS['DIAG2'] = labelencoder.fit_transform(NHAMCS['DIAG2'])\n",
        "NHAMCS['DIAG3'] = labelencoder.fit_transform(NHAMCS['DIAG3'])\n",
        "NHAMCS['DIAG4'] = labelencoder.fit_transform(NHAMCS['DIAG4'])\n"
      ],
      "execution_count": null,
      "outputs": []
    },
    {
      "cell_type": "markdown",
      "metadata": {
        "colab_type": "text",
        "id": "DHoZ3xfJFSKV"
      },
      "source": [
        "\n",
        "### 2- NaNs Exploration\n",
        ">In this subsection of the data quality section, we explore the following:\n",
        "- how many NaNs are there?\n",
        "- how can we visualize them?\n",
        "- what could be the reasons for these NaNs?\n",
        "- further steps to be taken for data quality remarks."
      ]
    },
    {
      "cell_type": "markdown",
      "metadata": {
        "id": "Dsi4LER8tX4V",
        "colab_type": "text"
      },
      "source": [
        "### How many NaNs are there?\n"
      ]
    },
    {
      "cell_type": "markdown",
      "metadata": {
        "id": "XnQfkv-ktX4X",
        "colab_type": "text"
      },
      "source": [
        "Count the number of NaNs Across all columns."
      ]
    },
    {
      "cell_type": "code",
      "metadata": {
        "id": "jHwuEIpFtX4Z",
        "colab_type": "code",
        "colab": {}
      },
      "source": [
        "nans = NHAMCS.isnull().sum()"
      ],
      "execution_count": null,
      "outputs": []
    },
    {
      "cell_type": "markdown",
      "metadata": {
        "id": "G_SCwg7NtX4g",
        "colab_type": "text"
      },
      "source": [
        "Order the series descendingly to be able to see those features with the most NaNs. These will most likely be eliminated from the dataset."
      ]
    },
    {
      "cell_type": "code",
      "metadata": {
        "id": "aVOBkGjftX4i",
        "colab_type": "code",
        "colab": {}
      },
      "source": [
        "nans.sort_values(ascending = False, inplace = True)"
      ],
      "execution_count": null,
      "outputs": []
    },
    {
      "cell_type": "markdown",
      "metadata": {
        "id": "kOgbULbVtX4p",
        "colab_type": "text"
      },
      "source": [
        "Make sure all the features are captured."
      ]
    },
    {
      "cell_type": "code",
      "metadata": {
        "id": "0fv53C_QtX4r",
        "colab_type": "code",
        "colab": {
          "base_uri": "https://localhost:8080/",
          "height": 34
        },
        "outputId": "cc31bc66-4bd0-49e8-8ea1-53e7aad131b7"
      },
      "source": [
        "nans.count() "
      ],
      "execution_count": null,
      "outputs": [
        {
          "output_type": "execute_result",
          "data": {
            "text/plain": [
              "949"
            ]
          },
          "metadata": {
            "tags": []
          },
          "execution_count": 6
        }
      ]
    },
    {
      "cell_type": "markdown",
      "metadata": {
        "id": "HhKMqTGetX4y",
        "colab_type": "text"
      },
      "source": [
        "Let's have a quick look..."
      ]
    },
    {
      "cell_type": "code",
      "metadata": {
        "id": "41b1BbCEtX4z",
        "colab_type": "code",
        "colab": {
          "base_uri": "https://localhost:8080/",
          "height": 221
        },
        "outputId": "a35ce818-d432-45fa-b8d5-eac668c815b1"
      },
      "source": [
        "nans "
      ],
      "execution_count": null,
      "outputs": [
        {
          "output_type": "execute_result",
          "data": {
            "text/plain": [
              "RX19V1C4    16709\n",
              "RX25V1C3    16709\n",
              "RX25CAT3    16709\n",
              "RX24V3C4    16709\n",
              "RX24V3C3    16709\n",
              "            ...  \n",
              "RETRNED         0\n",
              "RETREFFU        0\n",
              "LWBS            0\n",
              "LBTC            0\n",
              "VMONTH          0\n",
              "Length: 949, dtype: int64"
            ]
          },
          "metadata": {
            "tags": []
          },
          "execution_count": 7
        }
      ]
    },
    {
      "cell_type": "markdown",
      "metadata": {
        "id": "vPZRhQTetX49",
        "colab_type": "text"
      },
      "source": [
        "We see that the first entries seem to have ALL NaNs! How prevalent is this? Let's see."
      ]
    },
    {
      "cell_type": "code",
      "metadata": {
        "id": "6aA7OucetX4-",
        "colab_type": "code",
        "colab": {
          "base_uri": "https://localhost:8080/",
          "height": 34
        },
        "outputId": "852c0e74-562e-4d77-eb86-732811815bdd"
      },
      "source": [
        "nans_max = nans[nans >= int(0.99*16709)]\n",
        "nans_max.count()"
      ],
      "execution_count": null,
      "outputs": [
        {
          "output_type": "execute_result",
          "data": {
            "text/plain": [
              "448"
            ]
          },
          "metadata": {
            "tags": []
          },
          "execution_count": 8
        }
      ]
    },
    {
      "cell_type": "code",
      "metadata": {
        "id": "qW6moW-ZtX5E",
        "colab_type": "code",
        "colab": {
          "base_uri": "https://localhost:8080/",
          "height": 34
        },
        "outputId": "f4420a97-8bd1-45e5-90fb-243edb1b32ea"
      },
      "source": [
        "448/949"
      ],
      "execution_count": null,
      "outputs": [
        {
          "output_type": "execute_result",
          "data": {
            "text/plain": [
              "0.4720758693361433"
            ]
          },
          "metadata": {
            "tags": []
          },
          "execution_count": 9
        }
      ]
    },
    {
      "cell_type": "markdown",
      "metadata": {
        "id": "tQkZYwojtX5M",
        "colab_type": "text"
      },
      "source": [
        "47% of the features are almost all NaNs! Let's continue to investigate different % of missing values. We exclude the ones with almost all NaNs."
      ]
    },
    {
      "cell_type": "code",
      "metadata": {
        "id": "lVRkf0GWtX5N",
        "colab_type": "code",
        "colab": {
          "base_uri": "https://localhost:8080/",
          "height": 51
        },
        "outputId": "30e48766-5200-42c9-e8b8-aff5cad1a1cd"
      },
      "source": [
        "nans_no_max = nans[nans < int(0.99*16709)]\n",
        "nans_90 = nans_no_max[nans_no_max >= int((0.90*16709))]\n",
        "print(nans_90.count())\n",
        "print(104+448, 'features have 90%+ NaNs. That is', 552/949 *100, 'of the features.', 949-448, 'of 949 features have less than 90% NaN.')"
      ],
      "execution_count": null,
      "outputs": [
        {
          "output_type": "stream",
          "text": [
            "104\n",
            "552 features have 90%+ NaNs. That is 58.16649104320337 of the features. 501 of 949 features have less than 90% NaN.\n"
          ],
          "name": "stdout"
        }
      ]
    },
    {
      "cell_type": "markdown",
      "metadata": {
        "id": "u8Ih963EtX5U",
        "colab_type": "text"
      },
      "source": [
        "What about those with 70% NaNs? (excluding the ones with 90%+ NaNs)"
      ]
    },
    {
      "cell_type": "code",
      "metadata": {
        "id": "GgBKtmCNtX5V",
        "colab_type": "code",
        "colab": {
          "base_uri": "https://localhost:8080/",
          "height": 34
        },
        "outputId": "36d7c3cd-58a4-4cb7-9533-65e9c07af712"
      },
      "source": [
        "nans_70 = nans_no_max[nans_no_max > int((0.7*16709))]\n",
        "nans_70.count()\n",
        "print(134+552,'features have 70%+ NaNs. That is', 686/949*100,'of the features.',949-686, 'of 949 features have less than 70%+ NaNs.' )"
      ],
      "execution_count": null,
      "outputs": [
        {
          "output_type": "stream",
          "text": [
            "686 features have 70%+ NaNs. That is 72.28661749209695 of the features. 263 of 949 features have less than 70%+ NaNs.\n"
          ],
          "name": "stdout"
        }
      ]
    },
    {
      "cell_type": "markdown",
      "metadata": {
        "id": "Pyesbgp3tX5d",
        "colab_type": "text"
      },
      "source": [
        "Some interesting findings. Let's visualize the NaN trend, descendingly."
      ]
    },
    {
      "cell_type": "markdown",
      "metadata": {
        "id": "xMF8fngYtX5f",
        "colab_type": "text"
      },
      "source": [
        "### NaNs Trend Visualization"
      ]
    },
    {
      "cell_type": "code",
      "metadata": {
        "id": "Us2H28CbtX5g",
        "colab_type": "code",
        "colab": {
          "base_uri": "https://localhost:8080/",
          "height": 597
        },
        "outputId": "43d66b53-93af-4229-b57e-3cbd697c3b88"
      },
      "source": [
        "nans.plot(kind = 'bar', figsize = (10,10), title = 'Number of NaNs per Column', xticks = []);"
      ],
      "execution_count": null,
      "outputs": [
        {
          "output_type": "display_data",
          "data": {
            "image/png": "[encoded data removed]",
            "text/plain": [
              "<Figure size 720x720 with 1 Axes>"
            ]
          },
          "metadata": {
            "tags": [],
            "needs_background": "light"
          }
        }
      ]
    },
    {
      "cell_type": "markdown",
      "metadata": {
        "id": "PDnUSsRDtX5m",
        "colab_type": "text"
      },
      "source": [
        "### Why is so much data unavailable?\n",
        "\n",
        ">From the plot, it seems like we have approximately 550 features whose missing values exceed 80%. Looking at the dataset, this is not exactly surprising. There are four mains reasons. \n",
        "\n",
        "\n",
        "\n",
        "#### 1. Information that could have concisely been represented is represented in multiple variables.\n",
        "\n",
        "\n",
        ">##### EXAMPLE: Payment method. We could use feature engineering to just represent what the source of payment was.\n",
        "><ol>\n",
        "    <li>PAYPRIV = \"Expected source(s) of payment for this visit: Private insurance\"</li>\n",
        "    <li>PAYMCARE =\"Expected source(s) of payment for this visit: Medicare\"</li>\n",
        "    <li>PAYMCAID = \"Expected source(s) of payment for this visit: Medicaid or CHIP or other state-based program\"</li>\n",
        "    <li>PAYWKCMP = \"Expected source(s) of payment for this visit: Workers' compensation\"</li>\n",
        "    <li>PAYSELF = \"Expected source(s) of payment for this visit: Self pay\"</li>\n",
        "    <li>PAYNOCHG = \"Expected source(s) of payment for this visit: No charge/Charity\"</li>\n",
        "    <li>PAYOTH = \"Expected source(s) of payment for this visit: Other\"</li>\n",
        "    <li>PAYDK = \"Expected source(s) of payment for this visit: Unknown\"</li>\n",
        "    <li>PAYTYPER = \"Recoded primary expected source of payment for this visit (based on hierarchy)\"</li>\n",
        "</ol>\n",
        "\n",
        "\n",
        "#### 2. Some features, collectively, are a \"list\" for the same piece of information.\n",
        "\n",
        "\n",
        ">##### EXAMPLE: Paitent's medications. Not all pateints are prescribed 30 medicines.\n",
        "><ol>\n",
        "    <li>MED1=\"Medication #1\"</li>\n",
        "    <li>MED2=\"Medication #2\"</li>\n",
        "    <li>MED3=\"Medication #3\"</li>\n",
        "    <li>MED4=\"Medication #4\"</li>\n",
        "    <li>...</li>\n",
        "    <li>MED27=\"Medication #27\"</li>\n",
        "    <li>MED28=\"Medication #28\"</li>\n",
        "    <li>MED29=\"Medication #29\"</li>\n",
        "    <li>MED30=\"Medication #30\"</li>\n",
        "</ol>\n",
        "\n",
        "\n",
        "#### 3. With or without reason 2, a collection of features represent a level of detail for the same information.\n",
        "\n",
        ">##### EXAMPLE: Paitent's complaints. Along with the listing, there is a \"level of detail\" to the complaint.\n",
        "><ol>\n",
        "    <li>RFV1 = \"Patient's complaint, symptom, or other reason for visit #1 - detailed category\"</li>\n",
        "    <li>RFV1 = \"Patient's complaint, symptom, or other reason for visit #2 - detailed category\"</li>\n",
        "    <li>RFV1 = \"Patient's complaint, symptom, or other reason for visit #3 - detailed category\"</li>\n",
        "    <li>RFV1 = \"Patient's complaint, symptom, or other reason for visit #4 - detailed category\"</li>\n",
        "    <li>RFV1 = \"Patient's complaint, symptom, or other reason for visit #5 - detailed category\"</li>\n",
        "    <li>...</li>\n",
        "    <li>RFV13D = \"Patient's complaint, symptom, or other reason for visit #1 - detailed category\"</li>\n",
        "    <li>RFV13D = \"Patient's complaint, symptom, or other reason for visit #2 - detailed category\"</li>\n",
        "    <li>RFV13D = \"Patient's complaint, symptom, or other reason for visit #3 - detailed category\"</li>\n",
        "    <li>RFV13D = \"Patient's complaint, symptom, or other reason for visit #4 - detailed category\"</li>\n",
        "    <li>RFV13D = \"Patient's complaint, symptom, or other reason for visit #5 - detailed category\"</li>\n",
        "</ol>\n",
        "\n",
        "\n",
        "#### 4. There are features that are reserved for only special pateints. \n",
        "\n",
        ">##### EXAMPLE: 'AGEDAYS' - age days for babies. This could be missing for the rest of the sample.\n",
        "><ol>\n",
        "    <li>AGE=\"Patient age in years\"</li>\n",
        "    <li>AGER=\"Age recode\"</li>\n",
        "    <li>AGEDAYS=\"Age in days for patients less than one year\"</li>\n",
        "</ol>\n",
        "\n",
        "\n",
        "\n",
        "\n",
        "#### What are some key takeaways from these observations?\n",
        "\n",
        "- All the reasons portray how well-suited this dataset is for a myriad of specific use cases and research, albeit with challenging and elongated data cleaning procedures. \n",
        "\n",
        "- Reasons 1 to 3 Feature engineering may also be used extensively to extract the essence of the required data for the problem at hand.\n",
        "\n",
        "- Reason 4 unleashes an extremely important fact: Do not assume that, if 95% of a column's values are missing, that we could safely drop it. It might be catered for a specific use case and hence missing for the majority. For example, if the use case is to study which diseases result in ER visits for babies the most, although this feature could be mostly missing, it is actually important and the missing % is misleading.\n",
        "\n",
        "- All reasons show us that we might not necessarily need to drop a column with high % of NaNs. From the special features of the available subset along with some domain research, we might be able to replace the missing data accurately."
      ]
    },
    {
      "cell_type": "markdown",
      "metadata": {
        "id": "OKdp-poktX5n",
        "colab_type": "text"
      },
      "source": [
        "### Further Comments and Prospective Steps"
      ]
    },
    {
      "cell_type": "markdown",
      "metadata": {
        "id": "8CfX_umXtX5p",
        "colab_type": "text"
      },
      "source": [
        "#### Missing Values Further Steps\n",
        "- Investigate for also these values: [-9, -8, -7, 0]. -9 always means missing values, so we deal with that as such. However, -8 means \"unknown\" and -7 means \"N/A\". 0 may also mean \"blank.\" For features extracted, according to the nature of each feature, we must decide what to do with entries with those values. Some examples include the below.\n",
        "\n",
        "\t\t\n",
        ">**1. VALUE RESIDF**<br>\n",
        "  >  -9='Blank'<br>\n",
        "   > -8='Unknown'<br>\n",
        "\t1='Private residence'<br>\n",
        "\t2='Nursing home'<br>\n",
        "\t3='Homeless/homeless shelter'<br>\n",
        "\t4='Other'<br>\n",
        "    \n",
        ">**2. VALUE WAITTIMEF**<br>\n",
        "    -9 ='Blank'<br>\n",
        "    -7 ='Not Applicable'<br>\n",
        "    \n",
        ">**3. VALUE PAYTYPERF**<br>\n",
        "      -9 ='All sources of payment are blank'<br>\n",
        "      -8 ='Unknown'<br>\n",
        "       1 ='Private insurance'<br>\n",
        "       2 ='Medicare'<br>\n",
        "       3 ='Medicaid or CHIP or other state-based program'<br>\n",
        "       4 =\"Worker's compensation\"<br>\n",
        "       5 ='Self-pay'<br>\n",
        "       6 ='No charge/Charity'<br>\n",
        "       7 ='Other'   <br>\n",
        " \n",
        "\n",
        "\n",
        "<br>"
      ]
    },
    {
      "cell_type": "markdown",
      "metadata": {
        "id": "reeR5uZvtX5q",
        "colab_type": "text"
      },
      "source": [
        "\n",
        "- for the extracted features, based on the problem domain, available data %, and relationships with other features, how can we best replace those missing values? Extensive research is needed.\n",
        "\n",
        "\n",
        "#### Data Quality Concerns For Further Investigation\n",
        "- are the values consistent?\n",
        "- are the types suitable?\n",
        "- is te data too granular or too specific for a use case?\n",
        "- is the data comprehensive for a use case?\n",
        "- invesigate the data collection time and determine its relevance for today.\n",
        "- is the data precise?\n",
        "- are the features selected complete?\n",
        "\n"
      ]
    },
    {
      "cell_type": "markdown",
      "metadata": {
        "colab_type": "text",
        "id": "Lgjvr81IFuKl"
      },
      "source": [
        "## Target Label\n",
        "\n",
        "Given the dataset, we need to extract the label that we should be able to predict given the rest of the features. Firstly we wanted to predict the department that each patient should be redirected to. However, we couldn't find any information in the dataset regarding departments.\n",
        "\n",
        "Instead, we decided to go with the immediacy level of each patient. In the dataset, the feature **\"IMMEDR\"** represents exactly that. Howeverm a key requirement has to be met: this feature has to be present in most examples. If this is not the case, then predicting it would be very difficult."
      ]
    },
    {
      "cell_type": "code",
      "metadata": {
        "colab_type": "code",
        "id": "FntlZ0dqHbQC",
        "colab": {
          "base_uri": "https://localhost:8080/",
          "height": 34
        },
        "outputId": "ca16fb2c-f157-4910-ccc0-eab1c605e9e7"
      },
      "source": [
        "# Firstly, we will look at the percentage of the missing values (or blank) in the 'IMMEDR' column\n",
        "missingValuesPercentage = (NHAMCS[NHAMCS['IMMEDR']==-9].shape[0] + NHAMCS[NHAMCS['IMMEDR']==-8].shape[0] + NHAMCS[NHAMCS['IMMEDR']==7].shape[0] +NHAMCS[NHAMCS['IMMEDR']==0].shape[0])/16709 *100\n",
        "print(str(missingValuesPercentage) + \"% of the values are missing in the 'IMMEDR' feature\" )\n",
        "\n",
        "# Only 27% is missing and therefore, we will still use it as our target variable\n",
        "immediacyLevel = NHAMCS['IMMEDR']\n"
      ],
      "execution_count": null,
      "outputs": [
        {
          "output_type": "stream",
          "text": [
            "26.925608953258724% of the values are missing in the 'IMMEDR' feature\n"
          ],
          "name": "stdout"
        }
      ]
    },
    {
      "cell_type": "markdown",
      "metadata": {
        "colab_type": "text",
        "id": "Ixogm1ydIIGj"
      },
      "source": [
        "## Feature Selection\n",
        "\n",
        "In the previous section, we extracted the target feature. As mentioned earlier, we have almost 950 features. Consequently, training a model using all of these features might not be the best idea. Consequently, we have to select some features out of the 950 features.\n",
        "\n",
        "In order to do so, we devised a 2-step process:\n",
        "\n",
        "### 1- Manual Extraction\n",
        "\n",
        "Our first plan was to manually extract the features that 'make sense'. We inspected the textfiles describing the dataset and came up with about 150 features that could be useful. These can be found below:"
      ]
    },
    {
      "cell_type": "code",
      "metadata": {
        "colab_type": "code",
        "id": "op_zPpPMJogH",
        "colab": {}
      },
      "source": [
        "# The patient ID\n",
        "patID = NHAMCS[['PATCODE']]\n",
        "\n",
        "# Demoggraphics of the patient\n",
        "demographics = NHAMCS[['AGE', 'AGER', 'AGEDAYS', 'SEX', 'PATWT']]\n",
        "\n",
        "# Data related to the ER visit\n",
        "visit = NHAMCS[['WAITTIME', 'PAINSCALE', 'SEEN72', 'TOTDIAG']]\n",
        "\n",
        "# The causes recorded for the patient's situation\n",
        "causes = NHAMCS[['CAUSE1', 'CAUSE2', 'CAUSE3']]\n",
        "\n",
        "# The proposed diagnoses for the patient as well as how probably each of them is\n",
        "diagnoses = NHAMCS[['DIAG1', 'DIAG2', 'DIAG3', 'DIAG4']]\n",
        "diagnosesProbable = NHAMCS[['PRDIAG1', 'PRDIAG2', 'PRDIAG3', 'PRDIAG4']]\n",
        "\n",
        "# The complaints recorded by the patient in their previous visits\n",
        "patientComplaintsDetailed = NHAMCS[['RFV1', 'RFV2', 'RFV3', 'RFV4']]\n",
        "patientComplaintsBroad = NHAMCS[['RFV13D', 'RFV23D', 'RFV33D', 'RFV43D']]\n",
        "\n",
        "# Data related to the patients injury (if any)\n",
        "injuryData = NHAMCS[['INJURY', 'INJPOISAD', 'INJURY72', 'INTENT15', 'INJURY_ENC']]\n",
        "\n",
        "# The patient's vitals\n",
        "vitals = NHAMCS[['VITALSD', 'TEMPDF', 'PULSED', 'RESPRD', 'BPSYSD', 'BPDIASD']]\n",
        "\n",
        "# The patient's disease history\n",
        "previousDiseases = NHAMCS[['ETOHAB' ,'ALZHD','ASTHMA','CANCER','CEBVD','CKD','COPD','CHF','CAD',\n",
        "                           'DEPRN','DIABTYP1','DIABTYP2','DIABTYP0','ESRD','HPE','EDHIV','HYPLIPID','HTN',\n",
        "                           'OBESITY' ,'OSA' ,'OSTPRSIS', 'SUBSTAB', 'NOCHRON','TOTCHRON']]\n",
        "\n",
        "# Blood test results (if any)\n",
        "blood = NHAMCS[['ABG','BAC','BMP','BNP','BUNCREAT','CARDENZ','CBC','CMP','BLOODCX',\n",
        "                'TRTCX','URINECX','WOUNDCX','OTHCX','DDIMER','ELECTROL','GLUCOSE','LACTATE','LFT','PTTINR','OTHERBLD','CARDMON',\n",
        "                'EKG','HIVTEST','FLUTEST','PREGTEST','TOXSCREN','URINE']]\n",
        "\n",
        "# Imaging results (if any)\n",
        "imaging = NHAMCS[['ANYIMAGE','XRAY','CATSCAN','CTCONTRAST','CTAB','CTCHEST','CTHEAD','CTOTHER','CTUNK','MRI','MRICONTRAST','ULTRASND','OTHIMAGE']]\n",
        "\n",
        "# The patient's medicine history\n",
        "medications = NHAMCS[['MED1','MED2','MED3','MED4','MED5','MED6','MED7','MED8','MED9','MED10',\n",
        "                      'MED11','MED12','MED13','MED14','MED15','MED16','MED17','MED18','MED19',\n",
        "                      'MED20','MED21','MED22','MED23','MED24','MED25','MED26','MED27','MED28','MED29','MED30']]\n",
        "\n",
        "# Any medicine prescribed in the ER \n",
        "ERMedications = NHAMCS[['GPMED1','GPMED2','GPMED3','GPMED4','GPMED5','GPMED6','GPMED7','GPMED8','GPMED9','GPMED10',\n",
        "                        'GPMED11','GPMED12','GPMED13','GPMED14','GPMED15','GPMED16','GPMED17','GPMED18','GPMED19',\n",
        "                        'GPMED20','GPMED21','GPMED22','GPMED23','GPMED24','GPMED25','GPMED26','GPMED27','GPMED28','GPMED29','GPMED30']]\n",
        "\n",
        "manually_selected_features = pd.concat([patID, demographics, visit, causes, diagnoses, diagnosesProbable, patientComplaintsDetailed, patientComplaintsBroad, injuryData, \n",
        "                        vitals, previousDiseases, blood, imaging, medications, ERMedications], axis=1)"
      ],
      "execution_count": null,
      "outputs": []
    },
    {
      "cell_type": "markdown",
      "metadata": {
        "colab_type": "text",
        "id": "0ARGNSqyKqbD"
      },
      "source": [
        "### 2- Feature Selection using SK Learn\n",
        "\n",
        "After manually extracting about 150 features, we realized that this is still a large value and we decided to use the models from the feature_selection library provided in sklearn to select a small number out of these 150 features. "
      ]
    },
    {
      "cell_type": "code",
      "metadata": {
        "colab_type": "code",
        "id": "qXFiZV6FNmE0",
        "colab": {
          "base_uri": "https://localhost:8080/",
          "height": 119
        },
        "outputId": "ce3784db-5836-4c1a-d5d8-3c2495aae7d5"
      },
      "source": [
        "# Import the SelectKBest Class, as well as the f_classif scoring metric\n",
        "from sklearn.feature_selection import SelectKBest, f_classif\n",
        "\n",
        "# create an instance of SelectKBest which will select the best 10 features\n",
        "selector = SelectKBest(f_classif, k=10)\n",
        "\n",
        "# Create a new dataframe with the only top 10 features that would affect our label (immediacyLevel)\n",
        "X_new = selector.fit_transform(manually_selected_features, immediacyLevel)\n",
        "\n",
        "# This part extracts the names of the features since the X_new does not contain column names\n",
        "mask = selector.get_support() #list of booleans\n",
        "new_features = [] # The list of your K best features\n",
        "feature_names = manually_selected_features.columns\n",
        "for bool, feature in zip(mask, feature_names):\n",
        "  if bool:\n",
        "    new_features.append(feature)\n",
        "\n",
        "# Replace X_new with itself, along with the names of the columns\n",
        "X_new = pd.DataFrame(X_new, columns=new_features)\n",
        "\n",
        "# print the first 5 records of X_new to inspect it\n",
        "print(X_new.head())\n"
      ],
      "execution_count": null,
      "outputs": [
        {
          "output_type": "stream",
          "text": [
            "  PAINSCALE SEEN72 TOTDIAG BPSYSD BPDIASD CBC CMP OTHERBLD CARDMON EKG\n",
            "0         5      2       0     -9      -9   0   0        0       0   0\n",
            "1        -8      2       1     -9      -9   0   0        0       0   0\n",
            "2        -9      2       0     -9      -9   0   0        0       0   0\n",
            "3        -8      2       0     -9      -9   0   0        0       0   0\n",
            "4        -9      2       1     -9      -9   0   0        0       0   0\n"
          ],
          "name": "stdout"
        }
      ]
    }
  ]
}