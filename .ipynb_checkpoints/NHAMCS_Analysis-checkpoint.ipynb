{
 "cells": [
  {
   "cell_type": "markdown",
   "metadata": {
    "colab_type": "text",
    "id": "EOtwq1M389M1"
   },
   "source": [
    "# NHAMCS Dataset:\n",
    "\n",
    "In this notebook, we will be analysing The National Hospital Ambulatory Medical Care Survey (NHAMCS) Dataset. It is a dataset describing Emergency Departments in the US from various different states."
   ]
  },
  {
   "cell_type": "code",
   "execution_count": 1,
   "metadata": {
    "colab": {
     "base_uri": "https://localhost:8080/",
     "height": 122
    },
    "colab_type": "code",
    "id": "-zPVe5GR8_yr",
    "outputId": "53072454-23d8-4cc6-c19c-a4e9c8f7d9ab"
   },
   "outputs": [
    {
     "name": "stdout",
     "output_type": "stream",
     "text": [
      "Go to this URL in a browser: https://accounts.google.com/o/oauth2/auth?client_id=947318989803-6bn6qk8qdgf4n4g3pfee6491hc0brc4i.apps.googleusercontent.com&redirect_uri=urn%3aietf%3awg%3aoauth%3a2.0%3aoob&scope=email%20https%3a%2f%2fwww.googleapis.com%2fauth%2fdocs.test%20https%3a%2f%2fwww.googleapis.com%2fauth%2fdrive%20https%3a%2f%2fwww.googleapis.com%2fauth%2fdrive.photos.readonly%20https%3a%2f%2fwww.googleapis.com%2fauth%2fpeopleapi.readonly&response_type=code\n",
      "\n",
      "Enter your authorization code:\n",
      "··········\n",
      "Mounted at /content/drive\n"
     ]
    }
   ],
   "source": [
    "# The dataset is uploaded on Google Drive so we need to import the drive utility library\n",
    "\n",
    "#from google.colab import drive\n",
    "#drive.mount('/content/drive')"
   ]
  },
  {
   "cell_type": "markdown",
   "metadata": {
    "colab_type": "text",
    "id": "EA0uLUwm-aHt"
   },
   "source": [
    "The next thing is to import the dataset and inspect it. We will be importing pandas from an SAS file into a pandas Dataframe."
   ]
  },
  {
   "cell_type": "code",
   "execution_count": 2,
   "metadata": {
    "colab": {
     "base_uri": "https://localhost:8080/",
     "height": 170
    },
    "colab_type": "code",
    "id": "WYdlkQP4-YG0",
    "outputId": "c5756f37-15ae-4e4a-df4b-80f687448530"
   },
   "outputs": [
    {
     "name": "stdout",
     "output_type": "stream",
     "text": [
      "   VMONTH  VDAYR  ARRTIME  WAITTIME  BLANK1   AGE  AGER  AGEDAYS  RESIDNCE  \\\n",
      "0     6.0    6.0  b'2056'      72.0     NaN  27.0   3.0     -7.0       1.0   \n",
      "1     6.0    2.0  b'1417'      64.0     NaN   1.0   1.0     -7.0       1.0   \n",
      "2     6.0    2.0  b'2303'      -7.0     NaN  52.0   4.0     -7.0       1.0   \n",
      "3     6.0    5.0  b'0930'      29.0     NaN   5.0   1.0     -7.0       1.0   \n",
      "4     6.0    2.0  b'1332'      20.0     NaN   4.0   1.0     -7.0       1.0   \n",
      "\n",
      "   SEX  ...  RX30V3C1  RX30V3C2  RX30V3C3  RX30V3C4  SETTYPE    YEAR  \\\n",
      "0  2.0  ...       NaN       NaN       NaN       NaN      3.0  2017.0   \n",
      "1  1.0  ...       NaN       NaN       NaN       NaN      3.0  2017.0   \n",
      "2  2.0  ...       NaN       NaN       NaN       NaN      3.0  2017.0   \n",
      "3  2.0  ...       NaN       NaN       NaN       NaN      3.0  2017.0   \n",
      "4  1.0  ...       NaN       NaN       NaN       NaN      3.0  2017.0   \n",
      "\n",
      "      CSTRATM  CPSUM       PATWT      EDWT  \n",
      "0  40100000.0    4.0  3723.12641  21.58043  \n",
      "1  40100000.0    4.0  3723.12641       NaN  \n",
      "2  40100000.0    4.0  3723.12641       NaN  \n",
      "3  40100000.0    4.0  3723.12641       NaN  \n",
      "4  40100000.0    4.0  3723.12641       NaN  \n",
      "\n",
      "[5 rows x 949 columns]\n",
      "(16709, 949)\n"
     ]
    }
   ],
   "source": [
    "# import pandas\n",
    "import pandas as pd\n",
    "\n",
    "# read the dataset from the SAS file\n",
    "#NHAMCS = pd.read_sas(filepath_or_buffer = '/content/drive/Shared drives/Vodafone Internship/Dataset/ed2017_sas.sas7bdat')\n",
    "NHAMCS=pd.read_sas(filepath_or_buffer=\"C:/Users/lenovo/Desktop/VODA/ed2017_sas/ll.sas7bdat\")\n",
    "# inspect the first few records\n",
    "print(NHAMCS.head())\n",
    "\n",
    "# look at the dimensions of the dataframe\n",
    "\n",
    "print(NHAMCS.shape)\n"
   ]
  },
  {
   "cell_type": "markdown",
   "metadata": {
    "colab_type": "text",
    "id": "d5KekG6uMTzG"
   },
   "source": [
    "The dataframe has about 16.7 thousand examples and each of these has 949 features.\n",
    "\n",
    "## Data Quality\n",
    "\n",
    "In this section, we will be doing 2 things:\n",
    "### 1- Encoding the Categorical Features\n",
    "\n",
    "The first thing in this section is converting the categorical features into a numeric version of them, that could be input to different ML models. "
   ]
  },
  {
   "cell_type": "code",
   "execution_count": 3,
   "metadata": {
    "colab": {
     "base_uri": "https://localhost:8080/",
     "height": 68
    },
    "colab_type": "code",
    "id": "LoEGETRLJaPc",
    "outputId": "ab29fdf9-1d9e-4e2b-fa48-8e20d6ff580f"
   },
   "outputs": [
    {
     "name": "stdout",
     "output_type": "stream",
     "text": [
      "object     554\n",
      "float64    395\n",
      "dtype: int64\n"
     ]
    }
   ],
   "source": [
    "# check the different data types and the number of columns of each\n",
    "print(NHAMCS.dtypes.value_counts())"
   ]
  },
  {
   "cell_type": "code",
   "execution_count": 4,
   "metadata": {
    "colab": {
     "base_uri": "https://localhost:8080/",
     "height": 153
    },
    "colab_type": "code",
    "id": "kQ2KvlKOJb08",
    "outputId": "11c28004-f6e8-46c8-a37a-daec103a55e5"
   },
   "outputs": [
    {
     "name": "stdout",
     "output_type": "stream",
     "text": [
      "   ARRTIME   CAUSE1 CAUSE2 CAUSE3    DIAG1  DIAG2  DIAG3  DIAG4  DIAG5  \\\n",
      "0  b'2056'  b'W260'  b'-9'  b'-9'  b'S810'  b'-9'  b'-9'  b'-9'  b'-9'   \n",
      "1  b'1417'    b'-9'  b'-9'  b'-9'  b'J209'  b'-9'  b'-9'  b'-9'  b'-9'   \n",
      "2  b'2303'    b'-9'  b'-9'  b'-9'  b'ZZZ1'  b'-9'  b'-9'  b'-9'  b'-9'   \n",
      "3  b'0930'    b'-9'  b'-9'  b'-9'  b'J050'  b'-9'  b'-9'  b'-9'  b'-9'   \n",
      "4  b'1332'  b'W230'  b'-9'  b'-9'  b'S672'  b'-9'  b'-9'  b'-9'  b'-9'   \n",
      "\n",
      "       MED1  ... RX30V1C3 RX30V1C4 RX30V2C1 RX30V2C2 RX30V2C3 RX30V2C4  \\\n",
      "0  b'06129'  ...      NaN      NaN      NaN      NaN      NaN      NaN   \n",
      "1  b'60115'  ...      NaN      NaN      NaN      NaN      NaN      NaN   \n",
      "2     b'-9'  ...      NaN      NaN      NaN      NaN      NaN      NaN   \n",
      "3  b'08585'  ...      NaN      NaN      NaN      NaN      NaN      NaN   \n",
      "4     b'-9'  ...      NaN      NaN      NaN      NaN      NaN      NaN   \n",
      "\n",
      "  RX30V3C1 RX30V3C2 RX30V3C3 RX30V3C4  \n",
      "0      NaN      NaN      NaN      NaN  \n",
      "1      NaN      NaN      NaN      NaN  \n",
      "2      NaN      NaN      NaN      NaN  \n",
      "3      NaN      NaN      NaN      NaN  \n",
      "4      NaN      NaN      NaN      NaN  \n",
      "\n",
      "[5 rows x 554 columns]\n"
     ]
    }
   ],
   "source": [
    "# select the non-integer types in order to be encoded by the LabelEncoder\n",
    "\n",
    "objectType = NHAMCS.select_dtypes('object')\n",
    "print(objectType.head())\n",
    "\n",
    "objectTypeColumnNames = objectType.columns"
   ]
  },
  {
   "cell_type": "code",
   "execution_count": 5,
   "metadata": {
    "colab": {},
    "colab_type": "code",
    "id": "eafD-ZFPM56X"
   },
   "outputs": [],
   "source": [
    "# import the LabelEncoder Class\n",
    "from sklearn.preprocessing import LabelEncoder\n",
    "\n",
    "# creating instance of labelencoder\n",
    "labelencoder = LabelEncoder()\n",
    "\n",
    "# encode each column that had type of 'object' to a numeric equivalent using Label Encoder\n",
    "for col in objectTypeColumnNames:\n",
    "  NHAMCS[col] = labelencoder.fit_transform(NHAMCS[col].astype(str))\n"
   ]
  },
  {
   "cell_type": "code",
   "execution_count": 6,
   "metadata": {
    "colab": {
     "base_uri": "https://localhost:8080/",
     "height": 68
    },
    "colab_type": "code",
    "id": "J7vAHvz0JDtC",
    "outputId": "232b0854-03ca-4d21-aadb-e3d39bec8354"
   },
   "outputs": [
    {
     "name": "stdout",
     "output_type": "stream",
     "text": [
      "int32      554\n",
      "float64    395\n",
      "dtype: int64\n"
     ]
    }
   ],
   "source": [
    "# Check the different dataypes after using the Label Encoder\n",
    "print(NHAMCS.dtypes.value_counts())\n"
   ]
  },
  {
   "cell_type": "markdown",
   "metadata": {
    "colab_type": "text",
    "id": "DHoZ3xfJFSKV"
   },
   "source": [
    "### 2- NaNs Exploration\n",
    ">In this subsection of the data quality section, we explore the following:\n",
    "- how many NaNs are there?\n",
    "- how can we visualize them?\n",
    "- what could be the reasons for these NaNs?\n",
    "- further steps to be taken for data quality remarks."
   ]
  },
  {
   "cell_type": "markdown",
   "metadata": {
    "colab_type": "text",
    "id": "Dsi4LER8tX4V"
   },
   "source": [
    "### How many NaNs are there?\n"
   ]
  },
  {
   "cell_type": "markdown",
   "metadata": {
    "colab_type": "text",
    "id": "XnQfkv-ktX4X"
   },
   "source": [
    "Count the number of NaNs Across all columns."
   ]
  },
  {
   "cell_type": "code",
   "execution_count": 7,
   "metadata": {
    "colab": {},
    "colab_type": "code",
    "id": "jHwuEIpFtX4Z"
   },
   "outputs": [],
   "source": [
    "nans = NHAMCS.isnull().sum()"
   ]
  },
  {
   "cell_type": "markdown",
   "metadata": {
    "colab_type": "text",
    "id": "G_SCwg7NtX4g"
   },
   "source": [
    "Order the series descendingly to be able to see those features with the most NaNs. These will most likely be eliminated from the dataset."
   ]
  },
  {
   "cell_type": "code",
   "execution_count": 8,
   "metadata": {
    "colab": {},
    "colab_type": "code",
    "id": "aVOBkGjftX4i"
   },
   "outputs": [],
   "source": [
    "nans.sort_values(ascending = False, inplace = True)"
   ]
  },
  {
   "cell_type": "markdown",
   "metadata": {
    "colab_type": "text",
    "id": "kOgbULbVtX4p"
   },
   "source": [
    "Make sure all the features are captured."
   ]
  },
  {
   "cell_type": "code",
   "execution_count": 9,
   "metadata": {
    "colab": {
     "base_uri": "https://localhost:8080/",
     "height": 34
    },
    "colab_type": "code",
    "id": "0fv53C_QtX4r",
    "outputId": "c6c5bc09-37f4-40c8-818f-87c34ba2c72b"
   },
   "outputs": [
    {
     "data": {
      "text/plain": [
       "949"
      ]
     },
     "execution_count": 9,
     "metadata": {},
     "output_type": "execute_result"
    }
   ],
   "source": [
    "nans.count() "
   ]
  },
  {
   "cell_type": "markdown",
   "metadata": {
    "colab_type": "text",
    "id": "HhKMqTGetX4y"
   },
   "source": [
    "Let's have a quick look..."
   ]
  },
  {
   "cell_type": "code",
   "execution_count": 10,
   "metadata": {
    "colab": {
     "base_uri": "https://localhost:8080/",
     "height": 221
    },
    "colab_type": "code",
    "id": "41b1BbCEtX4z",
    "outputId": "2433a123-6589-4052-fd53-5ef570a568d0"
   },
   "outputs": [
    {
     "data": {
      "text/plain": [
       "BLANK1       16709\n",
       "BLANK4       16709\n",
       "BLANK3       16709\n",
       "BLANK2       16709\n",
       "COMSTAT30    16708\n",
       "             ...  \n",
       "RX13V3C4         0\n",
       "RX13V3C3         0\n",
       "RX13V3C2         0\n",
       "RX13V3C1         0\n",
       "VMONTH           0\n",
       "Length: 949, dtype: int64"
      ]
     },
     "execution_count": 10,
     "metadata": {},
     "output_type": "execute_result"
    }
   ],
   "source": [
    "nans "
   ]
  },
  {
   "cell_type": "markdown",
   "metadata": {
    "colab_type": "text",
    "id": "vPZRhQTetX49"
   },
   "source": [
    "We see that the first entries seem to have ALL NaNs! How prevalent is this? Let's see."
   ]
  },
  {
   "cell_type": "code",
   "execution_count": 11,
   "metadata": {
    "colab": {
     "base_uri": "https://localhost:8080/",
     "height": 34
    },
    "colab_type": "code",
    "id": "6aA7OucetX4-",
    "outputId": "bfa72dec-1a37-4a68-83ca-66a5b5b7fcc5"
   },
   "outputs": [
    {
     "data": {
      "text/plain": [
       "52"
      ]
     },
     "execution_count": 11,
     "metadata": {},
     "output_type": "execute_result"
    }
   ],
   "source": [
    "nans_max = nans[nans >= int(0.99*16709)]\n",
    "nans_max.count()"
   ]
  },
  {
   "cell_type": "code",
   "execution_count": 12,
   "metadata": {
    "colab": {
     "base_uri": "https://localhost:8080/",
     "height": 34
    },
    "colab_type": "code",
    "id": "qW6moW-ZtX5E",
    "outputId": "b2071e27-e7a1-4304-9ea2-051947e789d0"
   },
   "outputs": [
    {
     "data": {
      "text/plain": [
       "0.4720758693361433"
      ]
     },
     "execution_count": 12,
     "metadata": {},
     "output_type": "execute_result"
    }
   ],
   "source": [
    "448/949"
   ]
  },
  {
   "cell_type": "markdown",
   "metadata": {
    "colab_type": "text",
    "id": "tQkZYwojtX5M"
   },
   "source": [
    "47% of the features are almost all NaNs! Let's continue to investigate different % of missing values. We exclude the ones with almost all NaNs."
   ]
  },
  {
   "cell_type": "code",
   "execution_count": 13,
   "metadata": {
    "colab": {
     "base_uri": "https://localhost:8080/",
     "height": 51
    },
    "colab_type": "code",
    "id": "lVRkf0GWtX5N",
    "outputId": "c437235b-2aec-4ccb-aced-5efe6b630399"
   },
   "outputs": [
    {
     "name": "stdout",
     "output_type": "stream",
     "text": [
      "25\n",
      "552 features have 90%+ NaNs. That is 58.16649104320337 of the features. 501 of 949 features have less than 90% NaN.\n"
     ]
    }
   ],
   "source": [
    "nans_no_max = nans[nans < int(0.99*16709)]\n",
    "nans_90 = nans_no_max[nans_no_max >= int((0.90*16709))]\n",
    "print(nans_90.count())\n",
    "print(104+448, 'features have 90%+ NaNs. That is', 552/949 *100, 'of the features.', 949-448, 'of 949 features have less than 90% NaN.')"
   ]
  },
  {
   "cell_type": "markdown",
   "metadata": {
    "colab_type": "text",
    "id": "u8Ih963EtX5U"
   },
   "source": [
    "What about those with 70% NaNs? (excluding the ones with 90%+ NaNs)"
   ]
  },
  {
   "cell_type": "code",
   "execution_count": 17,
   "metadata": {
    "colab": {
     "base_uri": "https://localhost:8080/",
     "height": 34
    },
    "colab_type": "code",
    "id": "GgBKtmCNtX5V",
    "outputId": "7b5c2c0b-5e76-448d-86d1-4e14b6ae82e3"
   },
   "outputs": [
    {
     "name": "stdout",
     "output_type": "stream",
     "text": [
      "686 features have 70%+ NaNs. That is 72.28661749209695 of the features. 263 of 949 features have less than 70%+ NaNs.\n"
     ]
    }
   ],
   "source": [
    "nans_70 = nans_no_max[nans_no_max > int((0.7*16709))]\n",
    "nans_70.count()\n",
    "print(134+552,'features have 70%+ NaNs. That is', 686/949*100,'of the features.',949-686, 'of 949 features have less than 70%+ NaNs.' )"
   ]
  },
  {
   "cell_type": "markdown",
   "metadata": {
    "colab_type": "text",
    "id": "Pyesbgp3tX5d"
   },
   "source": [
    "Some interesting findings. Let's visualize the NaN trend, descendingly."
   ]
  },
  {
   "cell_type": "markdown",
   "metadata": {
    "colab_type": "text",
    "id": "xMF8fngYtX5f"
   },
   "source": [
    "### NaNs Trend Visualization"
   ]
  },
  {
   "cell_type": "code",
   "execution_count": 18,
   "metadata": {
    "colab": {
     "base_uri": "https://localhost:8080/",
     "height": 597
    },
    "colab_type": "code",
    "id": "Us2H28CbtX5g",
    "outputId": "12525c08-8793-4ec0-bb6c-9ebd84195ae9"
   },
   "outputs": [
    {
     "data": {
      "image/png": "[encoded data removed]",
      "text/plain": [
       "<Figure size 720x720 with 1 Axes>"
      ]
     },
     "metadata": {
      "needs_background": "light"
     },
     "output_type": "display_data"
    }
   ],
   "source": [
    "nans.plot(kind = 'bar', figsize = (10,10), title = 'Number of NaNs per Column', xticks = []);"
   ]
  },
  {
   "cell_type": "markdown",
   "metadata": {
    "colab_type": "text",
    "id": "PDnUSsRDtX5m"
   },
   "source": [
    "### Why is so much data unavailable?\n",
    "\n",
    ">From the plot, it seems like we have approximately 550 features whose missing values exceed 80%. Looking at the dataset, this is not exactly surprising. There are four mains reasons. \n",
    "\n",
    "\n",
    "\n",
    "#### 1. Information that could have concisely been represented is represented in multiple variables.\n",
    "\n",
    "\n",
    ">##### EXAMPLE: Payment method. We could use feature engineering to just represent what the source of payment was.\n",
    "><ol>\n",
    "    <li>PAYPRIV = \"Expected source(s) of payment for this visit: Private insurance\"</li>\n",
    "    <li>PAYMCARE =\"Expected source(s) of payment for this visit: Medicare\"</li>\n",
    "    <li>PAYMCAID = \"Expected source(s) of payment for this visit: Medicaid or CHIP or other state-based program\"</li>\n",
    "    <li>PAYWKCMP = \"Expected source(s) of payment for this visit: Workers' compensation\"</li>\n",
    "    <li>PAYSELF = \"Expected source(s) of payment for this visit: Self pay\"</li>\n",
    "    <li>PAYNOCHG = \"Expected source(s) of payment for this visit: No charge/Charity\"</li>\n",
    "    <li>PAYOTH = \"Expected source(s) of payment for this visit: Other\"</li>\n",
    "    <li>PAYDK = \"Expected source(s) of payment for this visit: Unknown\"</li>\n",
    "    <li>PAYTYPER = \"Recoded primary expected source of payment for this visit (based on hierarchy)\"</li>\n",
    "</ol>\n",
    "\n",
    "\n",
    "#### 2. Some features, collectively, are a \"list\" for the same piece of information.\n",
    "\n",
    "\n",
    ">##### EXAMPLE: Paitent's medications. Not all pateints are prescribed 30 medicines.\n",
    "><ol>\n",
    "    <li>MED1=\"Medication #1\"</li>\n",
    "    <li>MED2=\"Medication #2\"</li>\n",
    "    <li>MED3=\"Medication #3\"</li>\n",
    "    <li>MED4=\"Medication #4\"</li>\n",
    "    <li>...</li>\n",
    "    <li>MED27=\"Medication #27\"</li>\n",
    "    <li>MED28=\"Medication #28\"</li>\n",
    "    <li>MED29=\"Medication #29\"</li>\n",
    "    <li>MED30=\"Medication #30\"</li>\n",
    "</ol>\n",
    "\n",
    "\n",
    "#### 3. With or without reason 2, a collection of features represent a level of detail for the same information.\n",
    "\n",
    ">##### EXAMPLE: Paitent's complaints. Along with the listing, there is a \"level of detail\" to the complaint.\n",
    "><ol>\n",
    "    <li>RFV1 = \"Patient's complaint, symptom, or other reason for visit #1 - detailed category\"</li>\n",
    "    <li>RFV2 = \"Patient's complaint, symptom, or other reason for visit #2 - detailed category\"</li>\n",
    "    <li>RFV3 = \"Patient's complaint, symptom, or other reason for visit #3 - detailed category\"</li>\n",
    "    <li>RFV4 = \"Patient's complaint, symptom, or other reason for visit #4 - detailed category\"</li>\n",
    "    <li>RFV5 = \"Patient's complaint, symptom, or other reason for visit #5 - detailed category\"</li>\n",
    "    <li>...</li>\n",
    "    <li>RFV13D = \"Patient's complaint, symptom, or other reason for visit #1 - broader category\"</li>\n",
    "    <li>RFV13D = \"Patient's complaint, symptom, or other reason for visit #2 - broader category\"</li>\n",
    "    <li>RFV13D = \"Patient's complaint, symptom, or other reason for visit #3 - broader category\"</li>\n",
    "    <li>RFV13D = \"Patient's complaint, symptom, or other reason for visit #4 - broader category\"</li>\n",
    "    <li>RFV13D = \"Patient's complaint, symptom, or other reason for visit #5 - broader category\"</li>\n",
    "</ol>\n",
    "\n",
    "\n",
    "#### 4. There are features that are reserved for only special pateints. \n",
    "\n",
    ">##### EXAMPLE: 'AGEDAYS' - age days for babies. This could be missing for the rest of the sample.\n",
    "><ol>\n",
    "    <li>AGE=\"Patient age in years\"</li>\n",
    "    <li>AGER=\"Age recode\"</li>\n",
    "    <li>AGEDAYS=\"Age in days for patients less than one year\"</li>\n",
    "</ol>\n",
    "\n",
    "\n",
    "\n",
    "\n",
    "#### What are some key takeaways from these observations?\n",
    "\n",
    "- All the reasons portray how well-suited this dataset is for a myriad of specific use cases and research, albeit with challenging and elongated data cleaning procedures. \n",
    "\n",
    "- Reasons 1 to 3 Feature engineering may also be used extensively to extract the essence of the required data for the problem at hand.\n",
    "\n",
    "- Reason 4 unleashes an extremely important fact: Do not assume that, if 95% of a column's values are missing, that we could safely drop it. It might be catered for a specific use case and hence missing for the majority. For example, if the use case is to study which diseases result in ER visits for babies the most, although this feature could be mostly missing, it is actually important and the missing % is misleading.\n",
    "\n",
    "- All reasons show us that we might not necessarily need to drop a column with high % of NaNs. From the special features of the available subset along with some domain research, we might be able to replace the missing data accurately."
   ]
  },
  {
   "cell_type": "markdown",
   "metadata": {
    "colab_type": "text",
    "id": "OKdp-poktX5n"
   },
   "source": [
    "### Further Comments and Prospective Steps"
   ]
  },
  {
   "cell_type": "markdown",
   "metadata": {
    "colab_type": "text",
    "id": "8CfX_umXtX5p"
   },
   "source": [
    "#### Missing Values Further Steps\n",
    "- Investigate for also these values: [-9, -8, -7, 0]. -9 always means missing values, so we deal with that as such. However, -8 means \"unknown\" and -7 means \"N/A\". 0 may also mean \"blank.\" For features extracted, according to the nature of each feature, we must decide what to do with entries with those values. Some examples include the below.\n",
    "\n",
    "\t\t\n",
    ">**1. VALUE RESIDF**<br>\n",
    "  >  -9='Blank'<br>\n",
    "   > -8='Unknown'<br>\n",
    "\t1='Private residence'<br>\n",
    "\t2='Nursing home'<br>\n",
    "\t3='Homeless/homeless shelter'<br>\n",
    "\t4='Other'<br>\n",
    "    \n",
    ">**2. VALUE WAITTIMEF**<br>\n",
    "    -9 ='Blank'<br>\n",
    "    -7 ='Not Applicable'<br>\n",
    "    \n",
    ">**3. VALUE PAYTYPERF**<br>\n",
    "      -9 ='All sources of payment are blank'<br>\n",
    "      -8 ='Unknown'<br>\n",
    "       1 ='Private insurance'<br>\n",
    "       2 ='Medicare'<br>\n",
    "       3 ='Medicaid or CHIP or other state-based program'<br>\n",
    "       4 =\"Worker's compensation\"<br>\n",
    "       5 ='Self-pay'<br>\n",
    "       6 ='No charge/Charity'<br>\n",
    "       7 ='Other'   <br>\n",
    " \n",
    "\n",
    "\n",
    "<br>"
   ]
  },
  {
   "cell_type": "markdown",
   "metadata": {
    "colab_type": "text",
    "id": "reeR5uZvtX5q"
   },
   "source": [
    "\n",
    "- for the extracted features, based on the problem domain, available data %, and relationships with other features, how can we best replace those missing values? Extensive research is needed.\n",
    "\n",
    "\n",
    "#### Data Quality Concerns For Further Investigation\n",
    "- are the values consistent?\n",
    "- are the types suitable?\n",
    "- is the data too granular or too specific for a use case?\n",
    "- is the data comprehensive for a use case?\n",
    "- invesigate the data collection time and determine its relevance for today.\n",
    "- is the data precise?\n",
    "- are the features selected complete?\n",
    "\n"
   ]
  },
  {
   "cell_type": "markdown",
   "metadata": {
    "colab_type": "text",
    "id": "Lgjvr81IFuKl"
   },
   "source": [
    "## Target Label\n",
    "\n",
    "Given the dataset, we need to extract the label that we should be able to predict given the rest of the features. Firstly we wanted to predict the department that each patient should be redirected to. However, we couldn't find any information in the dataset regarding departments.\n",
    "\n",
    "Instead, we decided to go with the immediacy level of each patient. In the dataset, the feature **\"IMMEDR\"** represents exactly that. Howeverm a key requirement has to be met: this feature has to be present in most examples. If this is not the case, then predicting it would be very difficult."
   ]
  },
  {
   "cell_type": "code",
   "execution_count": 19,
   "metadata": {
    "colab": {
     "base_uri": "https://localhost:8080/",
     "height": 311
    },
    "colab_type": "code",
    "id": "FntlZ0dqHbQC",
    "outputId": "23eef2ed-04d4-40ed-9fb1-936b90764176"
   },
   "outputs": [
    {
     "name": "stdout",
     "output_type": "stream",
     "text": [
      "26.925608953258724% of the values are missing in the 'IMMEDR' feature\n"
     ]
    },
    {
     "data": {
      "text/plain": [
       "<matplotlib.axes._subplots.AxesSubplot at 0x1b555a87c88>"
      ]
     },
     "execution_count": 19,
     "metadata": {},
     "output_type": "execute_result"
    },
    {
     "data": {
      "image/png": "[encoded data removed]",
      "text/plain": [
       "<Figure size 432x288 with 1 Axes>"
      ]
     },
     "metadata": {
      "needs_background": "light"
     },
     "output_type": "display_data"
    }
   ],
   "source": [
    "# Firstly, we will look at the percentage of the missing values (or blank) in the 'IMMEDR' column\n",
    "missingValuesPercentage = (NHAMCS[NHAMCS['IMMEDR']==-9].shape[0] + NHAMCS[NHAMCS['IMMEDR']==-8].shape[0] + NHAMCS[NHAMCS['IMMEDR']==7].shape[0] +NHAMCS[NHAMCS['IMMEDR']==0].shape[0])/16709 *100\n",
    "print(str(missingValuesPercentage) + \"% of the values are missing in the 'IMMEDR' feature\" )\n",
    "\n",
    "# Only 27% is missing and therefore, we will still use it as our target variable\n",
    "immediacyLevel = NHAMCS['IMMEDR']\n",
    "\n",
    "# Observe the different values present in the target label\n",
    "differentValues = immediacyLevel.value_counts().sort_index()\n",
    "\n",
    "differentValues.plot.bar()"
   ]
  },
  {
   "cell_type": "markdown",
   "metadata": {
    "colab_type": "text",
    "id": "Ixogm1ydIIGj"
   },
   "source": [
    "## Feature Selection\n",
    "\n",
    "In the previous section, we extracted the target feature. As mentioned earlier, we have almost 950 features. Consequently, training a model using all of these features might not be the best idea. Consequently, we have to select some features out of the 950 features.\n",
    "\n",
    "In order to do so, we devised a 2-step process:\n",
    "\n",
    "### 1- Manual Extraction\n",
    "\n",
    "Our first plan was to manually extract the features that 'make sense'. We inspected the textfiles describing the dataset and came up with about 150 features that could be useful. These can be found below:"
   ]
  },
  {
   "cell_type": "code",
   "execution_count": 20,
   "metadata": {
    "colab": {},
    "colab_type": "code",
    "id": "op_zPpPMJogH"
   },
   "outputs": [],
   "source": [
    "# The patient ID\n",
    "patID = NHAMCS[['PATCODE']]\n",
    "\n",
    "# Demoggraphics of the patient\n",
    "demographics = NHAMCS[['AGE', 'AGER', 'AGEDAYS', 'SEX', 'PATWT']]\n",
    "\n",
    "# Data related to the ER visit\n",
    "visit = NHAMCS[['WAITTIME', 'PAINSCALE', 'SEEN72', 'TOTDIAG']]\n",
    "\n",
    "# The causes recorded for the patient's situation\n",
    "causes = NHAMCS[['CAUSE1', 'CAUSE2', 'CAUSE3']]\n",
    "\n",
    "# The proposed diagnoses for the patient as well as how probably each of them is\n",
    "diagnoses = NHAMCS[['DIAG1', 'DIAG2', 'DIAG3', 'DIAG4']]\n",
    "diagnosesProbable = NHAMCS[['PRDIAG1', 'PRDIAG2', 'PRDIAG3', 'PRDIAG4']]\n",
    "\n",
    "# The complaints recorded by the patient in their previous visits\n",
    "patientComplaintsDetailed = NHAMCS[['RFV1', 'RFV2', 'RFV3', 'RFV4']]\n",
    "patientComplaintsBroad = NHAMCS[['RFV13D', 'RFV23D', 'RFV33D', 'RFV43D']]\n",
    "\n",
    "# Data related to the patients injury (if any)\n",
    "injuryData = NHAMCS[['INJURY', 'INJPOISAD', 'INJURY72', 'INTENT15', 'INJURY_ENC']]\n",
    "\n",
    "# The patient's vitals\n",
    "vitals = NHAMCS[['VITALSD', 'TEMPDF', 'PULSED', 'RESPRD', 'BPSYSD', 'BPDIASD']]\n",
    "\n",
    "# The patient's disease history\n",
    "previousDiseases = NHAMCS[['ETOHAB' ,'ALZHD','ASTHMA','CANCER','CEBVD','CKD','COPD','CHF','CAD',\n",
    "                           'DEPRN','DIABTYP1','DIABTYP2','DIABTYP0','ESRD','HPE','EDHIV','HYPLIPID','HTN',\n",
    "                           'OBESITY' ,'OSA' ,'OSTPRSIS', 'SUBSTAB', 'NOCHRON','TOTCHRON']]\n",
    "\n",
    "# Blood test results (if any)\n",
    "blood = NHAMCS[['ABG','BAC','BMP','BNP','BUNCREAT','CARDENZ','CBC','CMP','BLOODCX',\n",
    "                'TRTCX','URINECX','WOUNDCX','OTHCX','DDIMER','ELECTROL','GLUCOSE','LACTATE','LFT','PTTINR','OTHERBLD','CARDMON',\n",
    "                'EKG','HIVTEST','FLUTEST','PREGTEST','TOXSCREN','URINE']]\n",
    "\n",
    "# Imaging results (if any)\n",
    "imaging = NHAMCS[['ANYIMAGE','XRAY','CATSCAN','CTCONTRAST','CTAB','CTCHEST','CTHEAD','CTOTHER','CTUNK','MRI','MRICONTRAST','ULTRASND','OTHIMAGE']]\n",
    "\n",
    "# The patient's medicine history\n",
    "medications = NHAMCS[['MED1','MED2','MED3','MED4','MED5','MED6','MED7','MED8','MED9','MED10',\n",
    "                      'MED11','MED12','MED13','MED14','MED15','MED16','MED17','MED18','MED19',\n",
    "                      'MED20','MED21','MED22','MED23','MED24','MED25','MED26','MED27','MED28','MED29','MED30']]\n",
    "\n",
    "# Any medicine prescribed in the ER \n",
    "ERMedications = NHAMCS[['GPMED1','GPMED2','GPMED3','GPMED4','GPMED5','GPMED6','GPMED7','GPMED8','GPMED9','GPMED10',\n",
    "                        'GPMED11','GPMED12','GPMED13','GPMED14','GPMED15','GPMED16','GPMED17','GPMED18','GPMED19',\n",
    "                        'GPMED20','GPMED21','GPMED22','GPMED23','GPMED24','GPMED25','GPMED26','GPMED27','GPMED28','GPMED29','GPMED30']]\n",
    "\n",
    "manually_selected_features = pd.concat([patID, demographics, visit, causes, diagnoses, diagnosesProbable, patientComplaintsDetailed, patientComplaintsBroad, injuryData, \n",
    "                        vitals, previousDiseases, blood, imaging, medications, ERMedications], axis=1)"
   ]
  },
  {
   "cell_type": "markdown",
   "metadata": {
    "colab_type": "text",
    "id": "0ARGNSqyKqbD"
   },
   "source": [
    "### 2- Feature Selection using SK Learn\n",
    "\n",
    "After manually extracting about 150 features, we realized that this is still a large value and we decided to use the models from the feature_selection library provided in sklearn to select a small number out of these 150 features. "
   ]
  },
  {
   "cell_type": "code",
   "execution_count": 21,
   "metadata": {
    "colab": {
     "base_uri": "https://localhost:8080/",
     "height": 153
    },
    "colab_type": "code",
    "id": "qXFiZV6FNmE0",
    "outputId": "c62ce792-154b-4122-bb07-19b84d1d7475"
   },
   "outputs": [
    {
     "name": "stdout",
     "output_type": "stream",
     "text": [
      "   PAINSCALE  SEEN72  TOTDIAG  BPSYSD  BPDIASD  CBC  CMP  OTHERBLD  CARDMON  \\\n",
      "0        5.0     2.0      0.0    -9.0     -9.0  0.0  0.0       0.0      0.0   \n",
      "1       -8.0     2.0      1.0    -9.0     -9.0  0.0  0.0       0.0      0.0   \n",
      "2       -9.0     2.0      0.0    -9.0     -9.0  0.0  0.0       0.0      0.0   \n",
      "3       -8.0     2.0      0.0    -9.0     -9.0  0.0  0.0       0.0      0.0   \n",
      "4       -9.0     2.0      1.0    -9.0     -9.0  0.0  0.0       0.0      0.0   \n",
      "\n",
      "   EKG  \n",
      "0  0.0  \n",
      "1  0.0  \n",
      "2  0.0  \n",
      "3  0.0  \n",
      "4  0.0  \n"
     ]
    }
   ],
   "source": [
    "# Import the SelectKBest Class, as well as the f_classif scoring metric\n",
    "from sklearn.feature_selection import SelectKBest, f_classif\n",
    "\n",
    "# create an instance of SelectKBest which will select the best 10 features\n",
    "selector = SelectKBest(f_classif, k=10)\n",
    "\n",
    "# Create a new dataframe with the only top 10 features that would affect our label (immediacyLevel)\n",
    "X_new = selector.fit_transform(manually_selected_features, immediacyLevel)\n",
    "\n",
    "# This part extracts the names of the features since the X_new does not contain column names\n",
    "mask = selector.get_support() #list of booleans\n",
    "new_features = [] # The list of your K best features\n",
    "feature_names = manually_selected_features.columns\n",
    "for bool, feature in zip(mask, feature_names):\n",
    "  if bool:\n",
    "    new_features.append(feature)\n",
    "\n",
    "# Replace X_new with itself, along with the names of the columns\n",
    "X_new = pd.DataFrame(X_new, columns=new_features)\n",
    "\n",
    "# print the first 5 records of X_new to inspect it\n",
    "print(X_new.head())"
   ]
  },
  {
   "cell_type": "markdown",
   "metadata": {
    "colab_type": "text",
    "id": "aS4wzi-SrOBd"
   },
   "source": [
    "<br><br>\n",
    "## Data Exploration\n",
    ">In this subsection of the EDA, we explore the following:\n",
    "- what columns do we have and what are their types?\n",
    "- do we need to remedy the types?\n",
    "- what does the data distribution look like? \n",
    "- Observations on data distribution\n",
    "- What does correlation look like?"
   ]
  },
  {
   "cell_type": "markdown",
   "metadata": {
    "colab_type": "text",
    "id": "vpJ0-GibrOBe"
   },
   "source": [
    "### Columns & Types"
   ]
  },
  {
   "cell_type": "markdown",
   "metadata": {
    "colab_type": "text",
    "id": "uNHNO4CdrOBf"
   },
   "source": [
    "Let's view our selected columns."
   ]
  },
  {
   "cell_type": "code",
   "execution_count": 22,
   "metadata": {
    "colab": {
     "base_uri": "https://localhost:8080/",
     "height": 68
    },
    "colab_type": "code",
    "id": "RtKRsAj4rOBg",
    "outputId": "45069f36-1d1a-40fe-a59b-f2242c3137ca"
   },
   "outputs": [
    {
     "data": {
      "text/plain": [
       "Index(['PAINSCALE', 'SEEN72', 'TOTDIAG', 'BPSYSD', 'BPDIASD', 'CBC', 'CMP',\n",
       "       'OTHERBLD', 'CARDMON', 'EKG'],\n",
       "      dtype='object')"
      ]
     },
     "execution_count": 22,
     "metadata": {},
     "output_type": "execute_result"
    }
   ],
   "source": [
    "X_new.columns"
   ]
  },
  {
   "cell_type": "markdown",
   "metadata": {
    "colab_type": "text",
    "id": "LVieVOeerOBn"
   },
   "source": [
    "Create a dataframe with both the features and target for convenience of future analysis."
   ]
  },
  {
   "cell_type": "code",
   "execution_count": 23,
   "metadata": {
    "colab": {},
    "colab_type": "code",
    "id": "LrMxmbrerOBo"
   },
   "outputs": [],
   "source": [
    "dataset = pd.concat([X_new,NHAMCS['IMMEDR']], axis = 1 )"
   ]
  },
  {
   "cell_type": "markdown",
   "metadata": {
    "colab_type": "text",
    "id": "XkcAMV3xrOBt"
   },
   "source": [
    "What types are they of?"
   ]
  },
  {
   "cell_type": "code",
   "execution_count": 24,
   "metadata": {
    "colab": {
     "base_uri": "https://localhost:8080/",
     "height": 204
    },
    "colab_type": "code",
    "id": "nmSaIYJtrOBt",
    "outputId": "641981af-53b5-45ff-fb28-8f4ad6da67ab"
   },
   "outputs": [
    {
     "data": {
      "text/plain": [
       "PAINSCALE    float64\n",
       "SEEN72       float64\n",
       "TOTDIAG      float64\n",
       "BPSYSD       float64\n",
       "BPDIASD      float64\n",
       "CBC          float64\n",
       "CMP          float64\n",
       "OTHERBLD     float64\n",
       "CARDMON      float64\n",
       "EKG          float64\n",
       "dtype: object"
      ]
     },
     "execution_count": 24,
     "metadata": {},
     "output_type": "execute_result"
    }
   ],
   "source": [
    "X_new.dtypes"
   ]
  },
  {
   "cell_type": "code",
   "execution_count": 25,
   "metadata": {
    "colab": {
     "base_uri": "https://localhost:8080/",
     "height": 34
    },
    "colab_type": "code",
    "id": "_2TTSqvMrOB1",
    "outputId": "7f839de7-b8a6-462a-a399-9c6be97fe740"
   },
   "outputs": [
    {
     "data": {
      "text/plain": [
       "dtype('float64')"
      ]
     },
     "execution_count": 25,
     "metadata": {},
     "output_type": "execute_result"
    }
   ],
   "source": [
    "dataset['IMMEDR'].dtypes"
   ]
  },
  {
   "cell_type": "markdown",
   "metadata": {
    "colab_type": "text",
    "id": "fmqMEk7KrOB8"
   },
   "source": [
    "Are the types appropriate? Let's investigate this by viewing the available values."
   ]
  },
  {
   "cell_type": "code",
   "execution_count": 26,
   "metadata": {
    "colab": {},
    "colab_type": "code",
    "id": "OeOXUUCjrOB9"
   },
   "outputs": [],
   "source": [
    "def viewValues(df,cols):\n",
    "    for col in cols:\n",
    "        print('The list of values for', col, ',along with their frequencies, are:')\n",
    "        print(df[col].value_counts())\n",
    "        print('-----------------------------------------------------------------------')\n"
   ]
  },
  {
   "cell_type": "code",
   "execution_count": 24,
   "metadata": {
    "colab": {
     "base_uri": "https://localhost:8080/",
     "height": 1000
    },
    "colab_type": "code",
    "id": "_B0Qg9b8rOCG",
    "outputId": "1b79d962-6259-45fd-9b03-f86eaf83f37d"
   },
   "outputs": [
    {
     "name": "stdout",
     "output_type": "stream",
     "text": [
      "The list of values for PAINSCALE ,along with their frequencies, are:\n",
      "-8.0     5270\n",
      " 0.0     2985\n",
      " 8.0     1402\n",
      " 10.0    1266\n",
      " 7.0      997\n",
      " 5.0      853\n",
      " 6.0      852\n",
      " 9.0      739\n",
      " 4.0      619\n",
      " 2.0      559\n",
      "-9.0      527\n",
      " 3.0      497\n",
      " 1.0      143\n",
      "Name: PAINSCALE, dtype: int64\n",
      "-----------------------------------------------------------------------\n",
      "The list of values for SEEN72 ,along with their frequencies, are:\n",
      " 2.0    14926\n",
      "-8.0      986\n",
      " 1.0      568\n",
      "-9.0      229\n",
      "Name: SEEN72, dtype: int64\n",
      "-----------------------------------------------------------------------\n",
      "The list of values for TOTDIAG ,along with their frequencies, are:\n",
      " 0.0     4364\n",
      " 1.0     3390\n",
      " 2.0     1509\n",
      " 5.0     1203\n",
      " 4.0     1117\n",
      " 6.0     1116\n",
      " 3.0     1048\n",
      " 7.0      917\n",
      " 8.0      614\n",
      " 9.0      427\n",
      " 10.0     277\n",
      " 11.0     199\n",
      "-9.0      189\n",
      " 12.0     127\n",
      " 13.0      80\n",
      " 14.0      48\n",
      " 15.0      36\n",
      " 16.0      20\n",
      " 17.0      16\n",
      " 18.0       7\n",
      " 19.0       2\n",
      " 20.0       2\n",
      " 21.0       1\n",
      "Name: TOTDIAG, dtype: int64\n",
      "-----------------------------------------------------------------------\n",
      "The list of values for BPSYSD ,along with their frequencies, are:\n",
      "-9.0      9420\n",
      " 118.0     185\n",
      " 128.0     178\n",
      " 130.0     172\n",
      " 122.0     172\n",
      "          ... \n",
      " 66.0        1\n",
      " 62.0        1\n",
      " 205.0       1\n",
      " 255.0       1\n",
      " 220.0       1\n",
      "Name: BPSYSD, Length: 144, dtype: int64\n",
      "-----------------------------------------------------------------------\n",
      "The list of values for BPDIASD ,along with their frequencies, are:\n",
      "-9.0      9433\n",
      " 78.0      274\n",
      " 76.0      264\n",
      " 70.0      253\n",
      " 74.0      245\n",
      "          ... \n",
      " 31.0        1\n",
      " 130.0       1\n",
      " 117.0       1\n",
      " 141.0       1\n",
      " 137.0       1\n",
      "Name: BPDIASD, Length: 102, dtype: int64\n",
      "-----------------------------------------------------------------------\n",
      "The list of values for CBC ,along with their frequencies, are:\n",
      "0.0    10378\n",
      "1.0     6331\n",
      "Name: CBC, dtype: int64\n",
      "-----------------------------------------------------------------------\n",
      "The list of values for CMP ,along with their frequencies, are:\n",
      "0.0    12124\n",
      "1.0     4585\n",
      "Name: CMP, dtype: int64\n",
      "-----------------------------------------------------------------------\n",
      "The list of values for OTHERBLD ,along with their frequencies, are:\n",
      "0.0    12956\n",
      "1.0     3753\n",
      "Name: OTHERBLD, dtype: int64\n",
      "-----------------------------------------------------------------------\n",
      "The list of values for CARDMON ,along with their frequencies, are:\n",
      "0.0    15270\n",
      "1.0     1439\n",
      "Name: CARDMON, dtype: int64\n",
      "-----------------------------------------------------------------------\n",
      "The list of values for EKG ,along with their frequencies, are:\n",
      "0.0    13480\n",
      "1.0     3229\n",
      "Name: EKG, dtype: int64\n",
      "-----------------------------------------------------------------------\n"
     ]
    }
   ],
   "source": [
    "viewValues(X_new, ['PAINSCALE', 'SEEN72', 'TOTDIAG', 'BPSYSD', 'BPDIASD', 'CBC', 'CMP',\n",
    "       'OTHERBLD', 'CARDMON', 'EKG'])"
   ]
  },
  {
   "cell_type": "markdown",
   "metadata": {
    "colab_type": "text",
    "id": "Ojpdju6QrOCK"
   },
   "source": [
    "### Adjusting Data Types"
   ]
  },
  {
   "cell_type": "markdown",
   "metadata": {
    "colab_type": "text",
    "id": "TslhdDYRrOCL"
   },
   "source": [
    "We need to parse those to numerics!"
   ]
  },
  {
   "cell_type": "code",
   "execution_count": 27,
   "metadata": {
    "colab": {},
    "colab_type": "code",
    "id": "dR7kF9CwrOCM"
   },
   "outputs": [],
   "source": [
    "def toNumerics(df,cols):\n",
    "    for col in cols:\n",
    "        X_new[col] = pd.to_numeric(X_new[col])\n",
    "     "
   ]
  },
  {
   "cell_type": "code",
   "execution_count": 28,
   "metadata": {
    "colab": {},
    "colab_type": "code",
    "id": "HztBYkXxrOCV"
   },
   "outputs": [],
   "source": [
    "toNumerics(X_new, ['PAINSCALE', 'SEEN72', 'TOTDIAG', 'BPSYSD', 'BPDIASD', 'CBC', 'CMP',\n",
    "       'OTHERBLD', 'CARDMON', 'EKG'])"
   ]
  },
  {
   "cell_type": "markdown",
   "metadata": {
    "colab_type": "text",
    "id": "j6WGyf1nrOCZ"
   },
   "source": [
    "Let's re-check the data types."
   ]
  },
  {
   "cell_type": "code",
   "execution_count": 29,
   "metadata": {
    "colab": {
     "base_uri": "https://localhost:8080/",
     "height": 204
    },
    "colab_type": "code",
    "id": "WGAXYUR4rOCb",
    "outputId": "aaccd67e-6658-42bf-cf2d-a41fc8fa4824"
   },
   "outputs": [
    {
     "data": {
      "text/plain": [
       "PAINSCALE    float64\n",
       "SEEN72       float64\n",
       "TOTDIAG      float64\n",
       "BPSYSD       float64\n",
       "BPDIASD      float64\n",
       "CBC          float64\n",
       "CMP          float64\n",
       "OTHERBLD     float64\n",
       "CARDMON      float64\n",
       "EKG          float64\n",
       "dtype: object"
      ]
     },
     "execution_count": 29,
     "metadata": {},
     "output_type": "execute_result"
    }
   ],
   "source": [
    "X_new.dtypes"
   ]
  },
  {
   "cell_type": "markdown",
   "metadata": {
    "colab_type": "text",
    "id": "HbtHoUTMrOCf"
   },
   "source": [
    ">Need to check...\n",
    "- outliers\n",
    "- how to replace the missing values\n",
    "- consistency"
   ]
  },
  {
   "cell_type": "markdown",
   "metadata": {
    "colab_type": "text",
    "id": "mAh_el7DrOCg"
   },
   "source": [
    "### Viewing Features Distribution"
   ]
  },
  {
   "cell_type": "code",
   "execution_count": 30,
   "metadata": {
    "colab": {
     "base_uri": "https://localhost:8080/",
     "height": 716
    },
    "colab_type": "code",
    "id": "bXhojmlUrOCh",
    "outputId": "ce79e18e-2c15-41e7-a435-9f089e866e4b"
   },
   "outputs": [
    {
     "data": {
      "image/png": "[encoded data removed]",
      "text/plain": [
       "<Figure size 864x864 with 12 Axes>"
      ]
     },
     "metadata": {
      "needs_background": "light"
     },
     "output_type": "display_data"
    }
   ],
   "source": [
    "dataset.hist(figsize=(12,12));"
   ]
  },
  {
   "cell_type": "markdown",
   "metadata": {
    "colab_type": "text",
    "id": "eBAuvvsGrOCn"
   },
   "source": [
    "### Important Oberservations"
   ]
  },
  {
   "cell_type": "markdown",
   "metadata": {
    "colab_type": "text",
    "id": "6PRa-q6ErOCo"
   },
   "source": [
    "#### Features Descriptions\n",
    ">SEEN72=\"Was patient seen in this ED within the last 72 hours?\"<br>\n",
    ">OTHERBLD=\"Other blood test\"<br>\n",
    ">CMP=\"Comprehensive metabolic panel (CMP)\"<br>\n",
    ">CARDMON=\"Cardiac monitor\"<br>\n",
    ">TOTDIAG=\"Total number of diagnostic services ordered or provided\"<br>\n",
    ">BPSYSD=\"Vitals after triage: Systolic blood pressure\"<br>\n",
    ">BPDIASD=\"Vitals after triage: Diastolic blood pressure\"<br>\n",
    ">PAINSCALE=\"How much pain a pateint is feeling from 1 (least painful) to 10 (most painful)\"<br>\n",
    ">n.b. couldn't find EKG, CBC<br>\n",
    "\n",
    "\n",
    "#### Of our 11 features, we have 6 binary features.\n",
    "\n",
    " - 'SEEN72': This one has only valid one value, and the other is a missing value. Is it really useful? What does it tell us with relation to other labels?\n",
    "\n",
    " - 'OTHERBLD', 'EKG', 'CMP', 'CBC', 'CARDMON': 0 or 1. Seems fair. However, There is bias, with varying extents, towards 0, and we must invesitgate this. Why is this the case? It is sampling noise? or is it truly common?\n",
    "\n",
    "#### The remaining five features, exlcuding missing values, show normal distribution.\n",
    "- 'TOTDIAG': Right skewed normal distribution.\n",
    "- 'PAINSCALE': Left skewed normal distribution.\n",
    "- 'IMMEDR','BYPSYSD','BPDIASD': not skewed.\n",
    "\n",
    "\n",
    "#### Why does this matter?\n",
    "- The normal distribution helps us deal with data in specific ways. For example, according to skewness, we may find a best central measure.\n",
    "     "
   ]
  },
  {
   "cell_type": "markdown",
   "metadata": {
    "colab_type": "text",
    "id": "Zs4sSrThrOCp"
   },
   "source": [
    "Now that we've seen the data distribution itself, let's see the correlation with the label..."
   ]
  },
  {
   "cell_type": "markdown",
   "metadata": {
    "colab_type": "text",
    "id": "eFytRWMrrOCq"
   },
   "source": [
    "### Correlation Heatmap"
   ]
  },
  {
   "cell_type": "code",
   "execution_count": 31,
   "metadata": {
    "colab": {
     "base_uri": "https://localhost:8080/",
     "height": 368
    },
    "colab_type": "code",
    "id": "RzRLJLnZrOCr",
    "outputId": "1d44841b-9128-44ce-f3b9-7d32eb62f7fa"
   },
   "outputs": [
    {
     "data": {
      "image/png": "[encoded data removed]",
      "text/plain": [
       "<Figure size 432x288 with 2 Axes>"
      ]
     },
     "metadata": {
      "needs_background": "light"
     },
     "output_type": "display_data"
    }
   ],
   "source": [
    "import seaborn as sns\n",
    "%matplotlib inline\n",
    "\n",
    "# calculate the correlation matrix\n",
    "corr = dataset.corr()\n",
    "\n",
    "# plot the heatmap\n",
    "sns.heatmap(corr, \n",
    "        xticklabels=corr.columns,\n",
    "        yticklabels=corr.columns);"
   ]
  },
  {
   "cell_type": "markdown",
   "metadata": {
    "colab_type": "text",
    "id": "a5gWjLV0rOCy"
   },
   "source": [
    "Barely any! Why?"
   ]
  },
  {
   "cell_type": "markdown",
   "metadata": {},
   "source": [
    "## Data visualization \n",
    "testing output of SelectKBest feature selection. \n",
    "### Correlation:"
   ]
  },
  {
   "cell_type": "code",
   "execution_count": 32,
   "metadata": {
    "scrolled": false
   },
   "outputs": [
    {
     "data": {
      "image/png": "[encoded data removed]",
      "text/plain": [
       "<Figure size 360x360 with 6 Axes>"
      ]
     },
     "metadata": {},
     "output_type": "display_data"
    },
    {
     "data": {
      "image/png": "[encoded data removed]",
      "text/plain": [
       "<Figure size 360x360 with 6 Axes>"
      ]
     },
     "metadata": {},
     "output_type": "display_data"
    },
    {
     "data": {
      "image/png": "[encoded data removed]",
      "text/plain": [
       "<Figure size 360x360 with 6 Axes>"
      ]
     },
     "metadata": {},
     "output_type": "display_data"
    },
    {
     "data": {
      "image/png": "[encoded data removed]",
      "text/plain": [
       "<Figure size 360x360 with 6 Axes>"
      ]
     },
     "metadata": {},
     "output_type": "display_data"
    },
    {
     "data": {
      "image/png": "[encoded data removed]",
      "text/plain": [
       "<Figure size 360x360 with 6 Axes>"
      ]
     },
     "metadata": {},
     "output_type": "display_data"
    },
    {
     "data": {
      "image/png": "[encoded data removed]",
      "text/plain": [
       "<Figure size 360x360 with 6 Axes>"
      ]
     },
     "metadata": {},
     "output_type": "display_data"
    },
    {
     "data": {
      "image/png": "[encoded data removed]",
      "text/plain": [
       "<Figure size 360x360 with 6 Axes>"
      ]
     },
     "metadata": {},
     "output_type": "display_data"
    },
    {
     "data": {
      "image/png": "[encoded data removed]",
      "text/plain": [
       "<Figure size 360x360 with 6 Axes>"
      ]
     },
     "metadata": {},
     "output_type": "display_data"
    }
   ],
   "source": [
    "import seaborn as sns\n",
    "import matplotlib.pyplot as plt\n",
    "sns.set()\n",
    "\n",
    "sns.pairplot(NHAMCS[['IMMEDR','PAINSCALE']])\n",
    "plt.title('Immediacy level & Pain scale',fontsize=15)\n",
    "plt.show()\n",
    "\n",
    "sns.pairplot(NHAMCS[['IMMEDR','SEEN72']])\n",
    "plt.title('Immediacy level & seen the last 72 hrs',fontsize=15)\n",
    "plt.show()\n",
    "\n",
    "sns.pairplot(NHAMCS[['IMMEDR','TOTDIAG']])\n",
    "plt.title('Immediacy level & Total number of diagnostic services ordered or provided',fontsize=15)\n",
    "plt.show()\n",
    "\n",
    "sns.pairplot(NHAMCS[['IMMEDR','BPSYSD']])\n",
    "plt.title('Immediacy level & Systolic blood pressure',fontsize=15)\n",
    "plt.show()\n",
    "\n",
    "sns.pairplot(NHAMCS[['IMMEDR','CBC']])\n",
    "plt.title('Immediacy level & CBC',fontsize=15)\n",
    "plt.show()\n",
    "\n",
    "sns.pairplot(NHAMCS[['IMMEDR','CMP']])\n",
    "plt.title('Immediacy level & Comprehensive metabolic panel(CMP)',fontsize=15)\n",
    "plt.show()\n",
    "\n",
    "sns.pairplot(NHAMCS[['IMMEDR','CARDMON']])\n",
    "plt.title('Immediacy level & CARDMON',fontsize=15)\n",
    "plt.show()\n",
    "\n",
    "sns.pairplot(NHAMCS[['IMMEDR','EKG']])\n",
    "plt.title('Immediacy level & electrocardiogram',fontsize=15)\n",
    "plt.show()"
   ]
  },
  {
   "cell_type": "markdown",
   "metadata": {
    "colab_type": "text",
    "id": "yyRfulLgsN6S"
   },
   "source": [
    "<br><br>\n",
    "\n",
    "## Suggestions\n",
    "### Feature Selection\n",
    "\n",
    "**Our manual feature extraction was domain-based.** Since we've noticed we were not qualified enough to do this due to how techinical the terms where, and recognizing the patterns discussed in the missing data section, we propose the following methodology:\n",
    "        <ol>\n",
    "            <li>Extract the prefixes of the labels.</li>\n",
    "            <li>Group the features by common prefixes in separate dataframes. Each of the dataframes will represent all variables that describe the same piece of info using listing and different levels of detail.</li>\n",
    "            <li>There will be exceptions, but not expected to be many. We will manually group the **remainder**.</li>\n",
    "        </ol>\n",
    "   \n",
    "**How do we work around the KBest Selector?**\n",
    "We propose to perform it over each of the dataframes from the previous point, applying it only to none-NaNs. After we extract those columns that do have their information available, depending on the use case, we can start taking variables with missing data and fill them with research that identifies what variables may be linked to them, THEN use these variables to determine exactly how to fill the missing values.\n",
    "​\n",
    "\n",
    "\n",
    "​**Use the SelectKBest model on the whole 949-feature Dataset**\n",
    "\n",
    "Another approach we are considering is that instead of doing any manual extraction of any type, we simply pass the whole dataframe to the SelectKBest model and let it extract the features it cosniders best. However, this approach has a major problem which is that many of these features have NaN values and the **SelectKBest** does not accept NaN values.\n",
    "​\n",
    "​"
   ]
  }
 ],
 "metadata": {
  "colab": {
   "collapsed_sections": [],
   "name": "NHAMCS_Analysis.ipynb",
   "provenance": []
  },
  "kernelspec": {
   "display_name": "Python 3",
   "language": "python",
   "name": "python3"
  },
  "language_info": {
   "codemirror_mode": {
    "name": "ipython",
    "version": 3
   },
   "file_extension": ".py",
   "mimetype": "text/x-python",
   "name": "python",
   "nbconvert_exporter": "python",
   "pygments_lexer": "ipython3",
   "version": "3.7.4"
  }
 },
 "nbformat": 4,
 "nbformat_minor": 1
}
